{
 "cells": [
  {
   "cell_type": "markdown",
   "metadata": {
    "id": "ukvvnCEoa2FV"
   },
   "source": [
    "# 1. Train 전처리"
   ]
  },
  {
   "cell_type": "code",
   "execution_count": 337,
   "metadata": {
    "id": "jFqq3ykybgCQ"
   },
   "outputs": [],
   "source": [
    "import pandas as pd\n",
    "\n",
    "titanic_df=pd.read_csv('train.csv')"
   ]
  },
  {
   "cell_type": "code",
   "execution_count": 338,
   "metadata": {
    "id": "GVYeKQa0hnQx"
   },
   "outputs": [],
   "source": [
    "# 결측값 처리 코드\n",
    "titanic_df['Cabin']=titanic_df['Cabin'].fillna('Z00')\n",
    "titanic_df['Embarked']=titanic_df['Embarked'].fillna('S')\n",
    "titanic_df['Age']=titanic_df['Age'].fillna(titanic_df['Age'].median())"
   ]
  },
  {
   "cell_type": "code",
   "execution_count": 339,
   "metadata": {
    "id": "vfsaOTFjFKNG"
   },
   "outputs": [],
   "source": [
    "one_class=titanic_df[titanic_df['Pclass']==1]['Fare'].mean()\n",
    "two_class=titanic_df[titanic_df['Pclass']==2]['Fare'].mean()"
   ]
  },
  {
   "cell_type": "code",
   "execution_count": 340,
   "metadata": {
    "id": "LBJN89nVvEJw"
   },
   "outputs": [],
   "source": [
    "# fare가 0인값 처리 : 각 등급의 평균 가격으로 대체\n",
    "titanic_df.loc[(titanic_df['Fare'] == 0) & (titanic_df['Pclass'] == 1), 'Fare'] = one_class\n",
    "titanic_df.loc[(titanic_df['Fare'] == 0) & (titanic_df['Pclass'] == 2), 'Fare'] = two_class\n",
    "titanic_df.loc[(titanic_df['Fare'] == 0) & (titanic_df['Pclass'] == 3), 'Fare'] = 0"
   ]
  },
  {
   "cell_type": "code",
   "execution_count": 341,
   "metadata": {
    "id": "M1s0uZIYp151"
   },
   "outputs": [],
   "source": [
    "# cabin_count변수 추가\n",
    "titanic_df['Cabin_count']=titanic_df['Cabin'].str.split(' ').apply(lambda x:len(x))"
   ]
  },
  {
   "cell_type": "code",
   "execution_count": 342,
   "metadata": {
    "id": "PAspQ2Ryp152"
   },
   "outputs": [],
   "source": [
    "titanic_df['Fare_1']=titanic_df['Fare']/titanic_df['Cabin_count']"
   ]
  },
  {
   "cell_type": "code",
   "execution_count": 343,
   "metadata": {
    "id": "QzgBbtzrtWoo"
   },
   "outputs": [],
   "source": [
    "count=titanic_df.groupby('Ticket')['Name'].count().reset_index().rename(columns={'Name':'Ticket_count'})"
   ]
  },
  {
   "cell_type": "code",
   "execution_count": 344,
   "metadata": {
    "id": "4dZdkMBD3_qg"
   },
   "outputs": [],
   "source": [
    "titanic_df=pd.merge(titanic_df,count,on='Ticket',how='left')"
   ]
  },
  {
   "cell_type": "code",
   "execution_count": 345,
   "metadata": {
    "id": "lIPr2Aw4KHAv"
   },
   "outputs": [],
   "source": [
    "titanic_df['Alone'] = 0  # Initialize the 'Alone' column with 0\n",
    "titanic_df.loc[(titanic_df['Ticket_count']<=1) & (titanic_df['SibSp'] < 1) & (titanic_df['Parch'] < 1), 'Alone'] = 1"
   ]
  },
  {
   "cell_type": "code",
   "execution_count": 346,
   "metadata": {
    "id": "iOxHHX5lhyer"
   },
   "outputs": [],
   "source": [
    "# 데이터프레임에 새로운 열로 추가\n",
    "titanic_df['Cabin_Category'] = titanic_df['Cabin'].str[0]"
   ]
  },
  {
   "cell_type": "code",
   "execution_count": 347,
   "metadata": {
    "id": "XrKP1yJ8qccO"
   },
   "outputs": [],
   "source": [
    "titanic_df['Cabin_Category']=titanic_df['Cabin_Category'].apply(lambda x: 'A' if x=='T' else x)"
   ]
  },
  {
   "cell_type": "code",
   "execution_count": 348,
   "metadata": {
    "id": "tpmaSm-lx8Dl"
   },
   "outputs": [],
   "source": [
    "titanic_df['Sex_score']=titanic_df['Sex'].apply(lambda x:20 if x==\"male\" else 70)\n",
    "titanic_df['Pclass_score']=titanic_df['Pclass'].apply(lambda x:60 if x==1 else 45 if x==2 else 25)\n",
    "titanic_df['Age_score']=titanic_df['Age'].apply(lambda x:55 if x<=16 else 35)\n",
    "\n",
    "titanic_df['Score']=titanic_df['Sex_score']+titanic_df['Pclass_score']+titanic_df['Age_score']"
   ]
  },
  {
   "cell_type": "code",
   "execution_count": 349,
   "metadata": {
    "id": "Pr5t82K9id06"
   },
   "outputs": [],
   "source": [
    "titanic_df=titanic_df.drop(['Sex_score','Pclass_score','Age_score','Cabin_count'],axis=1)"
   ]
  },
  {
   "cell_type": "markdown",
   "metadata": {
    "id": "XGmIU6zWE-Si"
   },
   "source": [
    "# 2. Test 전처리"
   ]
  },
  {
   "cell_type": "code",
   "execution_count": 350,
   "metadata": {
    "id": "VR432PooF4ti"
   },
   "outputs": [],
   "source": [
    "import pandas as pd\n",
    "\n",
    "test=pd.read_csv('test.csv')"
   ]
  },
  {
   "cell_type": "code",
   "execution_count": 351,
   "metadata": {
    "id": "kjvkRSWaF8Zh"
   },
   "outputs": [],
   "source": [
    "# 결측값 처리 코드\n",
    "test['Cabin']=test['Cabin'].fillna('Z00')\n",
    "test['Embarked']=test['Embarked'].fillna('S')\n",
    "test['Age']=test['Age'].fillna(test['Age'].median())"
   ]
  },
  {
   "cell_type": "code",
   "execution_count": 352,
   "metadata": {
    "id": "tglsHBucGeUV"
   },
   "outputs": [],
   "source": [
    "test['Fare']=test['Fare'].fillna(7.8958)"
   ]
  },
  {
   "cell_type": "code",
   "execution_count": 353,
   "metadata": {
    "id": "i5k9LZvrF8Zi"
   },
   "outputs": [],
   "source": [
    "# fare가 0인값 처리 : 각 등급의 평균 가격으로 대체\n",
    "test.loc[(test['Fare'] == 0) & (test['Pclass'] == 1), 'Fare'] = one_class\n",
    "test.loc[(test['Fare'] == 0) & (test['Pclass'] == 2), 'Fare'] = two_class\n",
    "test.loc[(test['Fare'] == 0) & (test['Pclass'] == 3), 'Fare'] = 0"
   ]
  },
  {
   "cell_type": "code",
   "execution_count": 354,
   "metadata": {
    "id": "4i-plgx0F8Zj"
   },
   "outputs": [],
   "source": [
    "# cabin_count변수 추가\n",
    "test['Cabin_count']=test['Cabin'].str.split(' ').apply(lambda x:len(x))"
   ]
  },
  {
   "cell_type": "code",
   "execution_count": 355,
   "metadata": {
    "id": "68QYCLfvF8Zj"
   },
   "outputs": [],
   "source": [
    "test['Fare_1']=test['Fare']/test['Cabin_count']"
   ]
  },
  {
   "cell_type": "code",
   "execution_count": 356,
   "metadata": {
    "id": "qwE0TGVSF8Zk"
   },
   "outputs": [],
   "source": [
    "count=test.groupby('Ticket')['Name'].count().reset_index().rename(columns={'Name':'Ticket_count'})"
   ]
  },
  {
   "cell_type": "code",
   "execution_count": 357,
   "metadata": {
    "id": "tvrrK3cUGC5K"
   },
   "outputs": [],
   "source": [
    "test=pd.merge(test,count,on='Ticket',how='left')"
   ]
  },
  {
   "cell_type": "code",
   "execution_count": 358,
   "metadata": {
    "id": "i4ayLqFqI7sp"
   },
   "outputs": [],
   "source": [
    "test['Alone'] = 0  # Initialize the 'Alone' column with 0\n",
    "test.loc[(test['Ticket_count']<=1) & (test['SibSp'] < 1) & (test['Parch'] < 1), 'Alone'] = 1"
   ]
  },
  {
   "cell_type": "code",
   "execution_count": 359,
   "metadata": {
    "id": "rf4Z3bvsGGEZ"
   },
   "outputs": [],
   "source": [
    "# 데이터프레임에 새로운 열로 추가\n",
    "test['Cabin_Category'] = test['Cabin'].str[0]"
   ]
  },
  {
   "cell_type": "code",
   "execution_count": 360,
   "metadata": {
    "id": "lxuoKt51qQMR"
   },
   "outputs": [],
   "source": [
    "test['Cabin_Category']=test['Cabin_Category'].apply(lambda x: 'A' if x=='T' else x)"
   ]
  },
  {
   "cell_type": "code",
   "execution_count": 361,
   "metadata": {
    "id": "VkNukKE6GGEZ"
   },
   "outputs": [],
   "source": [
    "test['Sex_score']=test['Sex'].apply(lambda x:20 if x==\"male\" else 70)\n",
    "test['Pclass_score']=test['Pclass'].apply(lambda x:60 if x==1 else 45 if x==2 else 25)\n",
    "test['Age_score']=test['Age'].apply(lambda x:55 if x<=16 else 35)\n",
    "\n",
    "test['Score']=test['Sex_score']+test['Pclass_score']+test['Age_score']"
   ]
  },
  {
   "cell_type": "code",
   "execution_count": 362,
   "metadata": {
    "id": "DKxkaJmX35ZR"
   },
   "outputs": [],
   "source": [
    "test=test.drop(['Sex_score','Pclass_score','Age_score','Cabin_count'],axis=1)"
   ]
  },
  {
   "cell_type": "markdown",
   "metadata": {
    "id": "Ta7zmDNvGBSZ"
   },
   "source": [
    "# 모델"
   ]
  },
  {
   "cell_type": "code",
   "execution_count": 363,
   "metadata": {
    "id": "YhD1z52FGPx6"
   },
   "outputs": [],
   "source": [
    "df=titanic_df"
   ]
  },
  {
   "cell_type": "code",
   "execution_count": 364,
   "metadata": {
    "id": "sRsrPSaum6E-"
   },
   "outputs": [],
   "source": [
    "df=df.drop(['PassengerId','Name','Ticket','Cabin','Fare'],axis=1)"
   ]
  },
  {
   "cell_type": "code",
   "execution_count": 365,
   "metadata": {
    "id": "-5WHM5bm4dh8"
   },
   "outputs": [],
   "source": [
    "df['Pclass']=df['Pclass'].astype('object')\n",
    "df['Alone']=df['Alone'].astype('object')"
   ]
  },
  {
   "cell_type": "code",
   "execution_count": 367,
   "metadata": {
    "id": "xG8fOiTP01Qk"
   },
   "outputs": [],
   "source": [
    "X=df.drop(['Survived'],axis=1)\n",
    "\n",
    "y=df['Survived']"
   ]
  },
  {
   "cell_type": "code",
   "execution_count": 368,
   "metadata": {
    "colab": {
     "base_uri": "https://localhost:8080/"
    },
    "id": "lN-9PbyN1zSj",
    "outputId": "dd6da950-0376-4783-daa3-da86eb573343"
   },
   "outputs": [
    {
     "name": "stdout",
     "output_type": "stream",
     "text": [
      "(891, 24)\n"
     ]
    },
    {
     "name": "stderr",
     "output_type": "stream",
     "text": [
      "C:\\Users\\USER\\AppData\\Local\\Temp\\ipykernel_7836\\1212540564.py:1: FutureWarning: In a future version, the Index constructor will not infer numeric dtypes when passed object-dtype sequences (matching Series behavior)\n",
      "  X = pd.get_dummies(X)\n",
      "C:\\Users\\USER\\AppData\\Local\\Temp\\ipykernel_7836\\1212540564.py:1: FutureWarning: In a future version, the Index constructor will not infer numeric dtypes when passed object-dtype sequences (matching Series behavior)\n",
      "  X = pd.get_dummies(X)\n"
     ]
    }
   ],
   "source": [
    "X = pd.get_dummies(X)"
   ]
  },
  {
   "cell_type": "code",
   "execution_count": 369,
   "metadata": {
    "id": "wQbtssfm7QBw"
   },
   "outputs": [],
   "source": [
    "from sklearn.preprocessing import MinMaxScaler\n",
    "\n",
    "# MinMaxScaler 객체 생성\n",
    "scaler = MinMaxScaler()\n",
    "\n",
    "# 데이터 스케일링\n",
    "data_scaled = scaler.fit_transform(X)"
   ]
  },
  {
   "cell_type": "code",
   "execution_count": 370,
   "metadata": {
    "id": "S9taONKU9jkC"
   },
   "outputs": [],
   "source": [
    "#test\n",
    "test=test.drop(['PassengerId','Name','Ticket','Cabin','Fare'],axis=1)"
   ]
  },
  {
   "cell_type": "code",
   "execution_count": 372,
   "metadata": {
    "id": "7aDRqG_s4yTL"
   },
   "outputs": [],
   "source": [
    "test['Pclass']=test['Pclass'].astype('object')\n",
    "test['Alone']=test['Alone'].astype('object')"
   ]
  },
  {
   "cell_type": "code",
   "execution_count": 373,
   "metadata": {
    "colab": {
     "base_uri": "https://localhost:8080/"
    },
    "id": "dOIHcG3f91e1",
    "outputId": "d4696f98-1314-4179-84b8-bdb4a19d7dcf"
   },
   "outputs": [
    {
     "name": "stdout",
     "output_type": "stream",
     "text": [
      "(418, 24)\n"
     ]
    },
    {
     "name": "stderr",
     "output_type": "stream",
     "text": [
      "C:\\Users\\USER\\AppData\\Local\\Temp\\ipykernel_7836\\1683390249.py:1: FutureWarning: In a future version, the Index constructor will not infer numeric dtypes when passed object-dtype sequences (matching Series behavior)\n",
      "  X_test = pd.get_dummies(test)\n",
      "C:\\Users\\USER\\AppData\\Local\\Temp\\ipykernel_7836\\1683390249.py:1: FutureWarning: In a future version, the Index constructor will not infer numeric dtypes when passed object-dtype sequences (matching Series behavior)\n",
      "  X_test = pd.get_dummies(test)\n"
     ]
    }
   ],
   "source": [
    "X_test = pd.get_dummies(test)"
   ]
  },
  {
   "cell_type": "code",
   "execution_count": 374,
   "metadata": {
    "id": "g83ME6rB7cn6"
   },
   "outputs": [],
   "source": [
    "from sklearn.preprocessing import MinMaxScaler\n",
    "\n",
    "# MinMaxScaler 객체 생성\n",
    "scaler = MinMaxScaler()\n",
    "\n",
    "# 데이터 스케일링\n",
    "data_scaled_test = scaler.fit_transform(X_test)"
   ]
  },
  {
   "cell_type": "code",
   "execution_count": 375,
   "metadata": {},
   "outputs": [],
   "source": [
    "from sklearn.model_selection import train_test_split\n",
    "# 데이터를 학습용과 테스트용으로 나누기\n",
    "X_train, X_val, y_train, y_val = train_test_split(data_scaled, y, test_size=0.2, random_state=42)"
   ]
  },
  {
   "cell_type": "code",
   "execution_count": 377,
   "metadata": {
    "colab": {
     "base_uri": "https://localhost:8080/"
    },
    "id": "9EYFBiz4zZne",
    "outputId": "b3acf5b9-d1ee-4c63-c6ff-4015ff611b9e"
   },
   "outputs": [
    {
     "name": "stdout",
     "output_type": "stream",
     "text": [
      "정확도:  0.8268156424581006\n",
      "F1 점수: 0.7801418439716312\n"
     ]
    }
   ],
   "source": [
    "# 필요한 라이브러리 가져오기\n",
    "from sklearn.ensemble import RandomForestClassifier\n",
    "from sklearn.model_selection import train_test_split\n",
    "from sklearn.metrics import accuracy_score\n",
    "from sklearn.metrics import f1_score\n",
    "\n",
    "# 데이터를 학습용과 테스트용으로 나누기\n",
    "X_train, X_val, y_train, y_val = train_test_split(data_scaled, y, test_size=0.2, random_state=42)\n",
    "\n",
    "\n",
    "# 랜덤 포레스트 모델 생성\n",
    "rf_classifier = RandomForestClassifier(n_estimators=50, random_state=123,\n",
    "                                       max_depth = 10, min_samples_split=5)\n",
    "\n",
    "# 모델 학습\n",
    "rf_classifier.fit(X_train, y_train)\n",
    "\n",
    "# 모델 예측\n",
    "y_pred = rf_classifier.predict(X_val)\n",
    "\n",
    "\n",
    "# 정확도 평가\n",
    "accuracy = accuracy_score(y_val, y_pred)\n",
    "print(\"정확도: \", accuracy)\n",
    "\n",
    "# F1 점수 계산\n",
    "f1 = f1_score(y_val, y_pred)\n",
    "print(\"F1 점수:\", f1)"
   ]
  },
  {
   "cell_type": "code",
   "execution_count": 378,
   "metadata": {
    "id": "0B-HBPWY-IsX"
   },
   "outputs": [],
   "source": [
    "pred=rf_classifier.predict(data_scaled_test)"
   ]
  },
  {
   "cell_type": "code",
   "execution_count": 379,
   "metadata": {},
   "outputs": [],
   "source": [
    "submission=pd.read_csv('submission.csv')\n",
    "submission['Survived']=pred"
   ]
  },
  {
   "cell_type": "code",
   "execution_count": 380,
   "metadata": {},
   "outputs": [],
   "source": [
    "submission.to_csv('submission1.csv',index=False)"
   ]
  },
  {
   "cell_type": "code",
   "execution_count": 381,
   "metadata": {},
   "outputs": [
    {
     "name": "stdout",
     "output_type": "stream",
     "text": [
      "Score: 0.232584301274553\n",
      "Sex_female: 0.12456862606734927\n",
      "Fare_1: 0.11967780759166076\n",
      "Age: 0.10533933913577564\n",
      "Sex_male: 0.10200544482619214\n",
      "Ticket_count: 0.0471332151307076\n",
      "Pclass_3: 0.038051771364030186\n",
      "Cabin_Category_Z: 0.03518919133636297\n",
      "SibSp: 0.03150256262193386\n",
      "Pclass_1: 0.022517362128743897\n",
      "Parch: 0.021455505513664652\n",
      "Pclass_2: 0.017421094990972656\n",
      "Embarked_S: 0.014634818167713263\n",
      "Embarked_C: 0.014118893436675618\n",
      "Alone_0: 0.013415880135202039\n",
      "Cabin_Category_B: 0.012438754571465394\n",
      "Cabin_Category_E: 0.012423895970165308\n",
      "Alone_1: 0.01077506638781009\n",
      "Embarked_Q: 0.007459850608548493\n",
      "Cabin_Category_D: 0.006263274092664032\n",
      "Cabin_Category_C: 0.005212048880775667\n",
      "Cabin_Category_G: 0.0021031103878214573\n",
      "Cabin_Category_A: 0.002054826820291136\n",
      "Cabin_Category_F: 0.0016533585589209514\n"
     ]
    },
    {
     "data": {
      "image/png": "[encoded data removed]",
      "text/plain": [
       "<Figure size 1000x600 with 1 Axes>"
      ]
     },
     "metadata": {},
     "output_type": "display_data"
    }
   ],
   "source": [
    "import matplotlib.pyplot as plt\n",
    "import seaborn as sns\n",
    "# 변수 중요도를 얻습니다\n",
    "importances = rf_classifier.feature_importances_\n",
    "feature_names = X.columns\n",
    "# 변수 중요도를 내림차순으로 정렬합니다\n",
    "sorted_indices = (-importances).argsort()\n",
    "sorted_importances = importances[sorted_indices]\n",
    "sorted_feature_names = [feature_names[i] for i in sorted_indices]\n",
    "\n",
    "# 중요도를 변수 이름과 함께 출력합니다\n",
    "for feature, importance in zip(sorted_feature_names, sorted_importances):\n",
    "    print(f\"{feature}: {importance}\")\n",
    "\n",
    "# 중요도를 그래프로 시각화합니다\n",
    "plt.figure(figsize=(10, 6))\n",
    "plt.barh(range(len(sorted_feature_names)), sorted_importances, align='center',color='skyblue')\n",
    "plt.yticks(range(len(sorted_feature_names)), sorted_feature_names)\n",
    "plt.xlabel('Feature Importance')\n",
    "plt.title('Random Forest Variable Importance (Descending Order)')\n",
    "plt.show()"
   ]
  },
  {
   "cell_type": "code",
   "execution_count": null,
   "metadata": {},
   "outputs": [],
   "source": []
  }
 ],
 "metadata": {
  "colab": {
   "provenance": []
  },
  "kernelspec": {
   "display_name": "Python 3 (ipykernel)",
   "language": "python",
   "name": "python3"
  },
  "language_info": {
   "codemirror_mode": {
    "name": "ipython",
    "version": 3
   },
   "file_extension": ".py",
   "mimetype": "text/x-python",
   "name": "python",
   "nbconvert_exporter": "python",
   "pygments_lexer": "ipython3",
   "version": "3.11.3"
  }
 },
 "nbformat": 4,
 "nbformat_minor": 1
}
