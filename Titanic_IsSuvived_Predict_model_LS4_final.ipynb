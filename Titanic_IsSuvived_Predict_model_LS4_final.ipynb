{
 "cells": [
  {
   "cell_type": "markdown",
   "metadata": {},
   "source": [
    "![](https://i.postimg.cc/mg8dQz0M/1920px-Titanic-Starboard-View-1912.gif)"
   ]
  },
  {
   "cell_type": "markdown",
   "metadata": {},
   "source": [
    "# 프로젝트명 : 타이타닉 생존 예측 모델 (베이스라인 토대로 작성)\n",
    "\n",
    "* LS 빅데이터 스쿨 4조 김준희 박상준 박창순 박지원\n",
    "\n",
    "## 분석 프로세스 \n",
    "\n",
    "```\n",
    "1. 데이터 확인\n",
    "2. EDA(탐색적 데이터 분석) : 데이터 전처리\n",
    "3. 데이터 학습셋 검증셋 분리\n",
    "4. 모델 학습 및 평가\n",
    "5. 모델 선택\n",
    "```"
   ]
  },
  {
   "cell_type": "markdown",
   "metadata": {},
   "source": [
    "## 가장 높은 점수 0.78468을 받았던 전처리 방법"
   ]
  },
  {
   "cell_type": "code",
   "execution_count": null,
   "metadata": {},
   "outputs": [],
   "source": [
    "# from google.colab import drive\n",
    "# drive.mount('/content/drive')\n",
    "# %cd '/content/drive/MyDrive/Colab Notebooks'\n",
    "\n",
    "# pycaret은 로컬(주피터, 아나콘다)에서 가상환경을 따로 설정하고 실행해야 가능한 점 참고부탁드립니다\n",
    "# !pip install pycaret\n",
    "# from pycaret.classification import *\n",
    "\n",
    "# data analysis and wrangling\n",
    "import pandas as pd\n",
    "import numpy as np\n",
    "import random as rnd\n",
    "\n",
    "# visualization\n",
    "import seaborn as sns\n",
    "import matplotlib.pyplot as plt\n",
    "%matplotlib inline\n",
    "\n",
    "# machine learning\n",
    "from sklearn.linear_model import LogisticRegression\n",
    "from sklearn.svm import SVC, LinearSVC\n",
    "from sklearn.ensemble import RandomForestClassifier\n",
    "from sklearn.neighbors import KNeighborsClassifier\n",
    "from sklearn.naive_bayes import GaussianNB\n",
    "from sklearn.linear_model import Perceptron\n",
    "from sklearn.linear_model import SGDClassifier\n",
    "from sklearn.tree import DecisionTreeClassifier\n",
    "\n",
    "# load dataset\n",
    "train_df = pd.read_csv('train.csv')\n",
    "test_df = pd.read_csv('test.csv')\n",
    "combine = [train_df, test_df]\n",
    "all_df = pd.concat([train_df, test_df.reset_index(drop=True)], axis=0)\n",
    "\n",
    "\n",
    "# Auto-EDA -> Autoviz , Pandas profilling 통해 결측치 파악 및 결측치 보간 방법 정리\n",
    "\n",
    "# 결측치 처리\n",
    "\n",
    "## Embark 결측치 처리\n",
    "all_df['Embarked'] = all_df['Embarked'].fillna('S')\n",
    "train_df['Embarked'] = train_df['Embarked'].fillna('S')\n",
    "\n",
    "## 갑판을 바탕으로 결측치 처리 및 범주화 Cabin -> Deck\n",
    "all_df['Deck'] = all_df.Cabin.apply(lambda x: str(x)[0])\n",
    "all_df['Deck']\n",
    "train_df['Deck'] = train_df.Cabin.apply(lambda x: str(x)[0])\n",
    "train_df['Deck']\n",
    "test_df['Deck'] = test_df.Cabin.apply(lambda x: str(x)[0])\n",
    "test_df['Deck']\n",
    "train_df = train_df.drop(['Cabin'], axis=1)\n",
    "test_df = test_df.drop(['Cabin'], axis=1)\n",
    "all_df = all_df.drop(['Cabin'], axis=1)\n",
    "\n",
    "train_df['Deck'] = train_df['Deck'].replace(['A','B','C'], 'ABC')\n",
    "train_df['Deck'] = train_df['Deck'].replace(['D','E'], 'DE')\n",
    "train_df['Deck'] = train_df['Deck'].replace(['F','G'], 'FG')\n",
    "train_df['Deck'] = train_df['Deck'].replace(['n','T'], 'NT')\n",
    "test_df['Deck'] = test_df['Deck'].replace(['A','B','C'], 'ABC')\n",
    "test_df['Deck'] = test_df['Deck'].replace(['D','E'], 'DE')\n",
    "test_df['Deck'] = test_df['Deck'].replace(['F','G'], 'FG')\n",
    "test_df['Deck'] = test_df['Deck'].replace('n', 'NT')\n",
    "\n",
    "## Age 결측치 처리\n",
    "\n",
    "### median으로 결측치 처리\n",
    "all_df['Age'].fillna(all_df['Age'].median(), inplace=True)\n",
    "train_df['Age'].fillna(train_df['Age'].median(), inplace=True)\n",
    "test_df['Age'].fillna(test_df['Age'].median(), inplace=True)\n",
    "\n",
    "### 0세는 1세로 변환\n",
    "all_df.loc[all_df.Age <= 1, 'Age'] = 1\n",
    "train_df.loc[train_df.Age <= 1, 'Age'] = 1\n",
    "test_df.loc[test_df.Age <= 1, 'Age'] = 1\n",
    "\n",
    "### float 형을 int형으로 변환하는데 반올림 자동 실행\n",
    "all_df['Age'] = all_df['Age'].astype('int')\n",
    "train_df['Age'] = train_df['Age'].astype('int')\n",
    "test_df['Age'] = test_df['Age'].astype('int')\n",
    "\n",
    "## Fare 결측치 처리 -> 평균으로 하였음\n",
    "all_df['Fare'] = all_df['Fare'].fillna(7.4917)\n",
    "test_df['Fare'] = test_df['Fare'].fillna(7.4917)\n",
    "\n",
    "## 생존과 연관이 없는 티켓 값 삭제\n",
    "all_df = all_df.drop(['Ticket'], axis=1)\n",
    "train_df = train_df.drop(['Ticket'], axis=1)\n",
    "test_df = test_df.drop(['Ticket'], axis=1)\n",
    "combine = [train_df, test_df]\n",
    "\n",
    "\n",
    "# 파생변수 변환과정\n",
    "\n",
    "## Name -> Title 이름에서 호칭만 뽑아내기 -> re 정규식 문법 사용하여 변환\n",
    "for dataset in combine:\n",
    "    dataset['Title'] = dataset.Name.str.extract(' ([A-Za-z]+)\\.', expand=False)\n",
    "\n",
    "## 작은 값 가진 호칭은 너무 많아서 하나로 정리하기 Rare\n",
    "## Mrs, Miss, Master, Mr, Rare 5개 범주\n",
    "for dataset in combine:\n",
    "    dataset['Title'] = dataset['Title'].replace(['Lady', 'Countess',\n",
    "                                                 'Capt', 'Col','Don',\n",
    "                                                 'Dr', 'Major', 'Rev',\n",
    "                                                 'Sir', 'Jonkheer', \n",
    "                                                 'Dona'], 'Rare')\n",
    "    dataset['Title'] = dataset['Title'].replace('Mlle', 'Miss')\n",
    "    dataset['Title'] = dataset['Title'].replace('Ms', 'Miss')\n",
    "    dataset['Title'] = dataset['Title'].replace('Mme', 'Mrs')\n",
    "\n",
    "## train에서 PassengerId는 삭제하기\n",
    "## Name도 쓰임을 다해 삭제하기\n",
    "train_df = train_df.drop(['Name', 'PassengerId'], axis=1)\n",
    "test_df = test_df.drop(['Name'], axis=1)\n",
    "combine = [train_df, test_df]\n",
    "\n",
    "## SibSp + Parch + 1 = Family \n",
    "## Family는 0명이 많기 때문에 Alone으로 변환 \n",
    "## 2명 이상 시 0, 1명은 1로 코딩              -> 동승자 여부\n",
    "for dataset in combine:\n",
    "    dataset['Family'] = dataset['SibSp'] + dataset['Parch'] + 1\n",
    "\n",
    "for dataset in combine:\n",
    "    dataset['Alone'] = 0\n",
    "    dataset.loc[dataset['Family'] == 1, 'Alone'] = 1\n",
    "\n",
    "train_df = train_df.drop(['Parch', 'SibSp', 'Family'], axis=1)\n",
    "test_df = test_df.drop(['Parch', 'SibSp', 'Family'], axis=1)\n",
    "combine = [train_df, test_df]\n",
    "\n",
    "## Age -> Age 범주화\n",
    "## 동일 길이로 나누어서 범주를 만듦\n",
    "train_df['AgeBand'] = pd.cut(train_df['Age'], 5)\n",
    "for dataset in combine:    \n",
    "    dataset.loc[ dataset['Age'] <= 16, 'Age'] = 0\n",
    "    dataset.loc[(dataset['Age'] > 16) & (dataset['Age'] <= 32), 'Age'] = 1\n",
    "    dataset.loc[(dataset['Age'] > 32) & (dataset['Age'] <= 48), 'Age'] = 2\n",
    "    dataset.loc[(dataset['Age'] > 48) & (dataset['Age'] <= 64), 'Age'] = 3\n",
    "    dataset.loc[ dataset['Age'] > 64, 'Age']\n",
    "\n",
    "## AgeBand 삭제\n",
    "train_df = train_df.drop(['AgeBand'], axis=1)\n",
    "combine = [train_df, test_df]\n",
    "\n",
    "## Fare -> Fare 범주화 \n",
    "## 동일 개수로 나누어서 범주를 만듦\n",
    "train_df['FareBand'] = pd.qcut(train_df['Fare'], 4)\n",
    "for dataset in combine:\n",
    "    dataset.loc[ dataset['Fare'] <= 7.91, 'Fare'] = 0\n",
    "    dataset.loc[(dataset['Fare'] > 7.91) & (dataset['Fare'] <= 14.454), 'Fare']= 1\n",
    "    dataset.loc[(dataset['Fare'] > 14.454) & (dataset['Fare'] <= 31), 'Fare']  = 2\n",
    "    dataset.loc[ dataset['Fare'] > 31, 'Fare'] = 3\n",
    "    dataset['Fare'] = dataset['Fare'].astype(int)\n",
    "\n",
    "## FareBand 삭제\n",
    "train_df = train_df.drop(['FareBand'], axis=1)\n",
    "combine = [train_df, test_df]\n",
    "\n",
    "\n",
    "# 인코딩 작업\n",
    "\n",
    "## 인코딩 전 변수 정리\n",
    "\n",
    "### 종속변수\n",
    "\n",
    "#### 범주형 int 생존 여부 [Survived] 0, 1\n",
    "\n",
    "### 독립변수\n",
    "\n",
    "#### - 수치형 2\n",
    "\n",
    "#### Age 이산형 데이터 범위 min max 설명 피룡\n",
    "#### Fare 이산형임 데이터 범위 min max 설명 필요\n",
    "\n",
    "### - 범주형 5\n",
    "\n",
    "#### int 숫자형\n",
    "#### Alone 0, 1                          :  동승자 여부 2명 이상 동승, 1명 승선, 서열 존재하지 않음\n",
    "#### Pclass 0, 1, 2                      :  사회 경제적 지위 값 가격 3등실:0 , 2등실:1 , 1등실:2 , 서열 존재\n",
    "\n",
    "#### object 문자형\n",
    "#### Embarked S C Q                      :  S 영국 C 프랑스 Q 아일랜드, 서열 존재하지 않음\n",
    "#### Deck A B C D E F G nT               :  갑판의 위치, n은 결측치, 서열 존재하지 않음\n",
    "#### Title Mrs, Miss, Master, Mr, Rare   :  호칭, 서열 존재하지 않음\n",
    "\n",
    "\n",
    "## Pclass -> 0 1 2 변환\n",
    "train_df['Pclass'] = train_df['Pclass'].map( {1 : 2, 2 : 1, 3 : 0} ).astype(int)\n",
    "test_df['Pclass'] = test_df['Pclass'].map( {1 : 2, 2 : 1, 3 : 0} ).astype(int)\n",
    "\n",
    "## 데이터 원핫 인코딩 = 실제 동일 코드로 실행 시 라벨 인코딩보다 더 높은 점수를 보였음\n",
    "encoded_train_data = pd.get_dummies(train_df)\n",
    "encoded_test_data = pd.get_dummies(test_df)\n",
    "\n",
    "\n",
    "## 데이터 정규화 - 로버스트 스케일링 이상치에 민감한 데이터에 널리 사용됨, 이상치에 강한 정규화 방법 boxplot과 연관 있음\n",
    "from sklearn.preprocessing import StandardScaler, RobustScaler\n",
    "rs = RobustScaler()\n",
    "\n",
    "## Age -> Age_scaled \n",
    "## Age의 스케일이 다른 변수보다 커서 스케일링 시행함\n",
    "encoded_train_data_scaled = encoded_train_data.copy(deep=True)\n",
    "encoded_train_data_scaled[[\"Age_scaled\"]] = rs.fit_transform(encoded_train_data_scaled[[\"Age\"]])\n",
    "\n",
    "encoded_test_data_scaled = encoded_test_data.copy(deep=True)\n",
    "encoded_test_data_scaled[[\"Age_scaled\"]] = rs.fit_transform(encoded_test_data_scaled[[\"Age\"]])\n",
    "\n",
    "### Age 삭제\n",
    "encoded_train_data_scaled = encoded_train_data_scaled.drop(\"Age\", axis=1)\n",
    "encoded_test_data_scaled = encoded_test_data_scaled.drop(\"Age\", axis=1)\n",
    "\n",
    "\n",
    "# 데이터 분리 (학습 / 검증)\n",
    "\n",
    "X_train = encoded_train_data_scaled.drop(\"Survived\", axis=1)\n",
    "Y_train = encoded_train_data_scaled[\"Survived\"]\n",
    "X_test  = encoded_test_data_scaled.drop(\"PassengerId\", axis=1).copy()\n",
    "\n",
    "from sklearn.model_selection import train_test_split\n",
    "\n",
    "## train set 을 한번 더 나누어서 validation set 을 통해 미리 검증하여 모델 성능 개선 절차 시행\n",
    "x_train, x_val, y_train, y_val = train_test_split(X_train, Y_train, \n",
    "                                                  test_size=0.2, \n",
    "                                                  shuffle=True, random_state=777)\n",
    "\n",
    "\n",
    "# 모델 학습 및 평가 \n",
    "\n",
    "## 모델 성능 평가 함수\n",
    "from sklearn.metrics import accuracy_score, precision_score, recall_score, confusion_matrix, f1_score, roc_curve, roc_auc_score\n",
    "def get_classfication_evalulator(y_test, pred):\n",
    "    ## 오차행렬\n",
    "    confusion = confusion_matrix(y_test, pred)\n",
    "    ## 정확도\n",
    "    accuracy = accuracy_score(y_test, pred)\n",
    "    ## 정밀도\n",
    "    precision = precision_score(y_test, pred)\n",
    "    ## 재현율\n",
    "    recall = recall_score(y_test, pred)\n",
    "    ## F1 스코어\n",
    "    f1 = f1_score(y_test, pred)\n",
    "    print('------ 오차행렬 -------\\n', confusion)\n",
    "    print('\\n정확도(accuracy): {:.4f}, 정밀도(precision): {:.4f}, 재현율(recall): {:.4f}, F1: {:.4f}'.format(accuracy, precision, recall, f1))\n",
    "    print('---------------------\\n')\n",
    "    \n",
    "\n",
    "## ROC_AUC 그래프 시각화 함수\n",
    "def plot_roc_curves(models, X_test, y_test):\n",
    "    plt.figure(figsize=(10, 6))\n",
    "\n",
    "    for model_name, model in models.items():\n",
    "        pred_proba_c1 = model.predict_proba(X_test)[:, 1]\n",
    "        fprs, tprs, _ = roc_curve(y_test, pred_proba_c1)\n",
    "        roc_auc = roc_auc_score(y_test, pred_proba_c1)\n",
    "\n",
    "        plt.plot(fprs, tprs, label=f'{model_name} (ROC_AUC = {roc_auc:.2f})')\n",
    "\n",
    "    plt.plot([0, 1], [0, 1], 'k--', label='Random')\n",
    "    plt.xlim(0, 1)\n",
    "    plt.ylim(0, 1)\n",
    "    plt.xlabel('FPR (1 - Sensitivity)')\n",
    "    plt.ylabel('TPR (Recall)')\n",
    "    plt.title('ROC Curves for Multiple Models')\n",
    "    plt.legend()\n",
    "    plt.show()"
   ]
  },
  {
   "cell_type": "markdown",
   "metadata": {},
   "source": [
    "## 1. 데이터 확인"
   ]
  },
  {
   "cell_type": "code",
   "execution_count": null,
   "metadata": {
    "_cell_guid": "5767a33c-8f18-4034-e52d-bf7a8f7d8ab8",
    "_uuid": "847a9b3972a6be2d2f3346ff01fea976d92ecdb6"
   },
   "outputs": [],
   "source": [
    "# data analysis and wrangling\n",
    "import pandas as pd\n",
    "import numpy as np\n",
    "import random as rnd\n",
    "\n",
    "# visualization\n",
    "import seaborn as sns\n",
    "import matplotlib.pyplot as plt\n",
    "%matplotlib inline\n",
    "\n",
    "# machine learning\n",
    "from sklearn.linear_model import LogisticRegression\n",
    "from sklearn.svm import SVC, LinearSVC\n",
    "from sklearn.ensemble import RandomForestClassifier\n",
    "from sklearn.neighbors import KNeighborsClassifier\n",
    "from sklearn.naive_bayes import GaussianNB\n",
    "from sklearn.linear_model import Perceptron\n",
    "from sklearn.linear_model import SGDClassifier\n",
    "from sklearn.tree import DecisionTreeClassifier"
   ]
  },
  {
   "cell_type": "code",
   "execution_count": null,
   "metadata": {
    "_cell_guid": "e7319668-86fe-8adc-438d-0eef3fd0a982",
    "_uuid": "13f38775c12ad6f914254a08f0d1ef948a2bd453",
    "scrolled": false
   },
   "outputs": [],
   "source": [
    "train_df = pd.read_csv('train.csv')\n",
    "test_df = pd.read_csv('test.csv')\n",
    "combine = [train_df, test_df]\n",
    "all_df = pd.concat([train_df, test_df.reset_index(drop=True)], axis=0)\n",
    "all_df.info()"
   ]
  },
  {
   "cell_type": "code",
   "execution_count": null,
   "metadata": {
    "_cell_guid": "9b805f69-665a-2b2e-f31d-50d87d52865d",
    "_uuid": "817e1cf0ca1cb96c7a28bb81192d92261a8bf427",
    "scrolled": true
   },
   "outputs": [],
   "source": [
    "train_df.info()\n",
    "print('_'*40)\n",
    "print(\"\")\n",
    "test_df.info()"
   ]
  },
  {
   "cell_type": "code",
   "execution_count": null,
   "metadata": {},
   "outputs": [],
   "source": [
    "print(train_df.shape)\n",
    "print(test_df.shape)"
   ]
  },
  {
   "cell_type": "code",
   "execution_count": null,
   "metadata": {
    "_cell_guid": "ce473d29-8d19-76b8-24a4-48c217286e42",
    "_uuid": "ef106f38a00e162a80c523778af6dcc778ccc1c2"
   },
   "outputs": [],
   "source": [
    "print(train_df.columns.values)"
   ]
  },
  {
   "cell_type": "code",
   "execution_count": null,
   "metadata": {
    "_cell_guid": "8d7ac195-ac1a-30a4-3f3f-80b8cf2c1c0f",
    "_uuid": "e068cd3a0465b65a0930a100cb348b9146d5fd2f",
    "scrolled": true
   },
   "outputs": [],
   "source": [
    "# preview the data\n",
    "train_df.head()"
   ]
  },
  {
   "cell_type": "code",
   "execution_count": null,
   "metadata": {
    "_cell_guid": "f6e761c2-e2ff-d300-164c-af257083bb46",
    "_uuid": "3488e80f309d29f5b68bbcfaba8d78da84f4fb7d",
    "scrolled": true
   },
   "outputs": [],
   "source": [
    "train_df.tail()"
   ]
  },
  {
   "cell_type": "markdown",
   "metadata": {},
   "source": [
    "## 2. EDA(탐색적 데이터 분석) : 데이터 전처리"
   ]
  },
  {
   "cell_type": "code",
   "execution_count": null,
   "metadata": {},
   "outputs": [],
   "source": [
    "# # Auto-EDA \n",
    "\n",
    "# import ydata_profiling\n",
    "# pr = all_df.profile_report() # 프로파일링 결과 리포트를 pr에 저장\n",
    "# pr.to_file('./all_df_report.html') # pr_report.html 파일로 저장"
   ]
  },
  {
   "cell_type": "code",
   "execution_count": null,
   "metadata": {
    "_cell_guid": "58e387fe-86e4-e068-8307-70e37fe3f37b",
    "_uuid": "380251a1c1e0b89147d321968dc739b6cc0eecf2"
   },
   "outputs": [],
   "source": [
    "all_df.describe()\n",
    "# 38.38%의 승객이 생존\n",
    "# 50%의 승객이 28세 미만\n",
    "# 40세 ~ 80세 승객 비율은 25% 미만\n",
    "# 평균적으로 33달러 지불하고 탑승함"
   ]
  },
  {
   "cell_type": "code",
   "execution_count": null,
   "metadata": {
    "_cell_guid": "8066b378-1964-92e8-1352-dcac934c6af3",
    "_uuid": "daa8663f577f9c1a478496cf14fe363570457191"
   },
   "outputs": [],
   "source": [
    "all_df.describe(include=['O'])\n",
    "# 탑승객 중 64.4% 남성\n",
    "# Southampton에서 탑승한 승객이 70%로 가장 많음"
   ]
  },
  {
   "cell_type": "markdown",
   "metadata": {},
   "source": [
    "### 수치형 - 수치형 상관관계 파악"
   ]
  },
  {
   "cell_type": "markdown",
   "metadata": {},
   "source": [
    "#### 상관계수를 통해 변수 간의 상관관계를 파악할 수 있음\n",
    "\n",
    "* 이를 통해 결측치 유형 파악 가능\n",
    "\n",
    "* df.corr(method='pearson', min_periods=1)\n",
    "* method : {pearson / kendall / spearman} 적용할 상관계수 방식입니다.\n",
    "* min_periods : 유효한 결과를 얻기위한 최소 값의 수 입니다. \n",
    "* (피어슨, 스피어먼만 사용가능)\n",
    "\n",
    "> * 피어슨 상관계수, 두 변수의 선형 상관계수\n",
    "> * +1의 경우 완벽한 양의 선형 상관 관계\n",
    "> * -1의 경우 완벽한 음의 상관관계\n",
    "> * 0의 경우 선형 상관관계 X\n",
    "> * 비율 척도가 적용되는 경우에는 피어슨 상관계수가 적용\n",
    "\n",
    "> * 켄달-타우 상관계수, 두 순위간의 상관 계수\n",
    "\n",
    "> * 스피어먼 상관계수, 두 변수의 순위의 피어슨 상관계수\n",
    "> * 서열 척도가 적용되는 경우에는 스피어먼 상관계수\n",
    "> * 두 변수가 선형관계가 아니어도 스피어먼 상관계수는 1이 될수 있음, 단순히 순위간의 상관계수이기 때문"
   ]
  },
  {
   "cell_type": "code",
   "execution_count": null,
   "metadata": {},
   "outputs": [],
   "source": [
    "# 수치형 변수의 정규분포 확인-정규성 검정 선행\n",
    "# 비모수적 방법 모수적 방법 상관분석 시행을 위함\n",
    "\n",
    "# 귀무가설 H0 : 정규분포를 따른다.\n",
    "# 대립가설 H1 : 정규분포를 따르지 않는다.\n",
    "# p-value 값 기준 : 0.05 이상 -> H0 채택 / 이하 -> H0 기각\n",
    "\n",
    "from scipy.stats import shapiro\n",
    "print(shapiro(all_df.Age)) # 정규분포를 따름 모수 상관분석\n",
    "print(shapiro(all_df.SibSp)) # 정규분포를 따르지 않음 비모수 상관분석\n",
    "print(shapiro(all_df.Parch)) # 정규분포를 따르지 않음 비모수 상관분석\n",
    "print(shapiro(all_df.Fare)) # 정규분포를 따름 모수 상관분석\n",
    "\n",
    "# ShapiroResult(statistic=nan, pvalue=1.0)\n",
    "# ShapiroResult(statistic=0.5110805034637451, pvalue=0.0)\n",
    "# ShapiroResult(statistic=0.4979664087295532, pvalue=0.0)\n",
    "# ShapiroResult(statistic=nan, pvalue=1.0)"
   ]
  },
  {
   "cell_type": "code",
   "execution_count": null,
   "metadata": {
    "scrolled": true
   },
   "outputs": [],
   "source": [
    "import seaborn as sns \n",
    "import matplotlib.pyplot as plt\n",
    "sns.distplot(all_df.Age, color = 'lightcoral')\n",
    "plt.title(\"Age Histogram\")\n",
    "plt.show()"
   ]
  },
  {
   "cell_type": "code",
   "execution_count": null,
   "metadata": {
    "scrolled": true
   },
   "outputs": [],
   "source": [
    "sns.distplot(all_df.SibSp, color = 'lightcoral')\n",
    "plt.title(\"SibSp Histogram\")\n",
    "plt.show()"
   ]
  },
  {
   "cell_type": "code",
   "execution_count": null,
   "metadata": {
    "scrolled": true
   },
   "outputs": [],
   "source": [
    "sns.distplot(all_df.Parch, color = 'lightcoral')\n",
    "plt.title(\"Parch Histogram\")\n",
    "plt.show()"
   ]
  },
  {
   "cell_type": "code",
   "execution_count": null,
   "metadata": {
    "scrolled": true
   },
   "outputs": [],
   "source": [
    "sns.distplot(all_df.Fare, color = 'lightcoral')\n",
    "plt.title(\"Fare Histogram\")\n",
    "plt.show()"
   ]
  },
  {
   "cell_type": "code",
   "execution_count": null,
   "metadata": {},
   "outputs": [],
   "source": [
    "# 수치형 변수의 데이터 분포 비교를 위한 등분산 확인\n",
    "# 등분산은 비교해야할 대상의 데이터의 분포가 서로 유사한지 살펴보는 것\n",
    "# 데이터 분포가 서로 다르면 통계의 의미가 달라지기 때문\n",
    "\n",
    "# 귀무가설 H0 : 두 그룹은 등분산을 만족한다.\n",
    "# 대립가설 H1 : 두 그룹은 등분산을 만족하지 않는다.\n",
    "# p-value 값 기준 : 0.05 이상 -> H0 채택 / 이하 -> H0 기각\n",
    "\n",
    "from scipy.stats import bartlett\n",
    "print(bartlett(all_df.Age, all_df.SibSp)) # 등분산 만족하지 않음\n",
    "print(bartlett(all_df.Age, all_df.Parch)) # 등분산 만족하지 않음\n",
    "print(bartlett(all_df.Age, all_df.Fare)) # 등분산 만족하지 않음\n",
    "\n",
    "print(bartlett(all_df.SibSp, all_df.Parch)) # 등분산 만족\n",
    "print(bartlett(all_df.SibSp, all_df.Fare)) # 등분산 만족하지 않음\n",
    "\n",
    "print(bartlett(all_df.Parch, all_df.Fare)) # 등분산 만족하지 않음\n",
    "\n",
    "# BartlettResult(statistic=5071.565420844084, pvalue=0.0)\n",
    "# BartlettResult(statistic=5551.634425559788, pvalue=0.0)\n",
    "# BartlettResult(statistic=1725.8173982062326, pvalue=0.0)\n",
    "# BartlettResult(statistic=44.58827928944578, pvalue=2.4314287354209525e-11)\n",
    "# BartlettResult(statistic=8402.089415220053, pvalue=0.0)\n",
    "# BartlettResult(statistic=8886.039660235047, pvalue=0.0)"
   ]
  },
  {
   "cell_type": "code",
   "execution_count": null,
   "metadata": {
    "scrolled": true
   },
   "outputs": [],
   "source": [
    "sns.distplot(all_df.Age, color = 'lightcoral')\n",
    "sns.distplot(all_df.SibSp, color = 'lightblue')\n",
    "plt.show()"
   ]
  },
  {
   "cell_type": "code",
   "execution_count": null,
   "metadata": {
    "scrolled": true
   },
   "outputs": [],
   "source": [
    "sns.distplot(all_df.Age, color = 'lightcoral')\n",
    "sns.distplot(all_df.Parch, color = 'lightblue')\n",
    "plt.show()"
   ]
  },
  {
   "cell_type": "code",
   "execution_count": null,
   "metadata": {
    "scrolled": true
   },
   "outputs": [],
   "source": [
    "sns.distplot(all_df.Age, color = 'lightcoral')\n",
    "sns.distplot(all_df.Fare, color = 'lightblue')\n",
    "plt.show()"
   ]
  },
  {
   "cell_type": "code",
   "execution_count": null,
   "metadata": {
    "scrolled": true
   },
   "outputs": [],
   "source": [
    "sns.distplot(all_df.SibSp, color = 'lightcoral')\n",
    "sns.distplot(all_df.Parch, color = 'lightblue')\n",
    "plt.show()"
   ]
  },
  {
   "cell_type": "code",
   "execution_count": null,
   "metadata": {
    "scrolled": true
   },
   "outputs": [],
   "source": [
    "sns.distplot(all_df.SibSp, color = 'lightcoral')\n",
    "sns.distplot(all_df.Fare, color = 'lightblue')\n",
    "plt.show()"
   ]
  },
  {
   "cell_type": "code",
   "execution_count": null,
   "metadata": {
    "scrolled": true
   },
   "outputs": [],
   "source": [
    "sns.distplot(all_df.Fare, color = 'lightcoral')\n",
    "sns.distplot(all_df.Parch, color = 'lightblue')\n",
    "plt.show()"
   ]
  },
  {
   "cell_type": "code",
   "execution_count": null,
   "metadata": {},
   "outputs": [],
   "source": [
    "# Sharpiro 정규성 검정과 Bartlett 등분산 검정을 통해 알 수 있는 정보\n",
    "# 수치형 변수 중 Age - Fare의 경우 \n",
    "# Pearson 상관계수와 Kendall, Spearman 상관계수 확인 가능\n",
    "\n",
    "# 그러나 SibSp, Parch 의 경우 상관분석을 시행 시\n",
    "# Pearson 불가 -> Kendall, Spearman 상관계수 확인 가능"
   ]
  },
  {
   "cell_type": "code",
   "execution_count": null,
   "metadata": {},
   "outputs": [],
   "source": [
    "# 상관관계를 통해 변수간 상관성 도출\n",
    "all_df[[\"Age\",\"Fare\"]].corr()"
   ]
  },
  {
   "cell_type": "code",
   "execution_count": null,
   "metadata": {},
   "outputs": [],
   "source": [
    "corr = all_df[[\"Age\",\"Fare\"]].corr()\n",
    "mask = np.triu(np.ones_like(corr))\n",
    "sns.heatmap(corr, annot=True, cmap=\"coolwarm\", vmax=1, vmin=-1, mask = mask)\n",
    "plt.title(\"Pearson Correlation\")\n",
    "plt.show()"
   ]
  },
  {
   "cell_type": "code",
   "execution_count": null,
   "metadata": {},
   "outputs": [],
   "source": [
    "from scipy import stats\n",
    "all_df[[\"Age\",\"Fare\"]].corr(method=lambda x, y : stats.pearsonr(x,y)[1])"
   ]
  },
  {
   "cell_type": "code",
   "execution_count": null,
   "metadata": {},
   "outputs": [],
   "source": [
    "# Kendall's tau 는 두 변수 사이의 상관관계의 정도를 나타내는 지표\n",
    "# 순위척도 자료형에 대한 상관계수 추론 방법\n",
    "# 자료의 분포가 정규분포를 따르지 않아도 사용 가능\n",
    "# -1과 1 사이의 값을 가짐, -1 or 1에 가까워질수록 예측할 수 있는 정도가 높아짐\n",
    "# 즉, 예측도가 증가\n",
    "all_df[[\"Age\",\"SibSp\",\"Parch\",\"Fare\"]].corr(method='kendall')"
   ]
  },
  {
   "cell_type": "code",
   "execution_count": null,
   "metadata": {},
   "outputs": [],
   "source": [
    "corr = all_df[[\"Age\",\"SibSp\",\"Parch\",\"Fare\"]].corr(method='kendall')\n",
    "mask = np.triu(np.ones_like(corr))\n",
    "sns.heatmap(corr, annot=True, cmap=\"coolwarm\", vmax=1, vmin=-1, mask = mask)\n",
    "plt.title(\"Kendall's Tau Correlation\")\n",
    "plt.show()"
   ]
  },
  {
   "cell_type": "code",
   "execution_count": null,
   "metadata": {},
   "outputs": [],
   "source": [
    "# Spearman correlation도 kendall과 동일\n",
    "# 순위척도 자료형에 대한 상관계수 추론 방법\n",
    "# 자료의 분포가 정규분포를 따르지 않아도 사용 가능\n",
    "all_df[[\"Age\",\"SibSp\",\"Parch\",\"Fare\"]].corr(method='spearman')"
   ]
  },
  {
   "cell_type": "code",
   "execution_count": null,
   "metadata": {},
   "outputs": [],
   "source": [
    "corr = all_df[[\"Age\",\"SibSp\",\"Parch\",\"Fare\"]].corr(method='spearman')\n",
    "mask = np.triu(np.ones_like(corr))\n",
    "sns.heatmap(corr, annot=True, cmap=\"coolwarm\", vmax=1, vmin=-1, mask = mask)\n",
    "plt.title(\"Spearman correlation\")\n",
    "plt.show()"
   ]
  },
  {
   "cell_type": "code",
   "execution_count": null,
   "metadata": {},
   "outputs": [],
   "source": [
    "# Age - SibSp 데이터 분포 시각화\n",
    "fig = plt.figure(figsize=(8,8))\n",
    "fig.set_facecolor('white')\n",
    "\n",
    "font_size = 15\n",
    "plt.scatter(all_df['Age'],all_df['SibSp'],color='lightcoral') ## 원 데이터 산포도\n",
    "\n",
    "plt.xlabel('Age', fontsize=font_size)\n",
    "plt.ylabel('SibSp',fontsize=font_size)\n",
    "plt.show()"
   ]
  },
  {
   "cell_type": "code",
   "execution_count": null,
   "metadata": {},
   "outputs": [],
   "source": [
    "## 선형 모형 적합\n",
    "from scipy.stats import norm\n",
    "from statsmodels.formula.api import ols\n",
    "\n",
    "# 반응 변수 : SibSp\n",
    "# 설명 변수 : Age\n",
    "\n",
    "# R-squred : 0.059\n",
    "# Adj R-squred : 0.058 -> 5.8% Goodness-of-fit 수정 설명력 낮음\n",
    "# https://zephyrus1111.tistory.com/52\n",
    "\n",
    "fit = ols('SibSp ~ Age',data = all_df).fit() # 단순선형회귀모형 적합\n",
    "fit.summary()"
   ]
  },
  {
   "cell_type": "code",
   "execution_count": null,
   "metadata": {},
   "outputs": [],
   "source": [
    "# Q-Q Plot\n",
    "# 평균 : 0, 분산: 잔차의 분산 추정값을 따르는 정규분포의 이론적 분위수 사용\n",
    "# 직선에 가까울 수록 오차의 정규성을 만족함\n",
    "\n",
    "## 선형 모형 적합\n",
    "# 반응 변수 : SibSp\n",
    "# 설명 변수 : Age\n",
    "fit = ols('SibSp ~ Age',data = all_df).fit() # 단순선형회귀모형 적합\n",
    "\n",
    "## qq plot\n",
    "sqrt_mse = np.sqrt(fit.mse_resid) ## square root of mse\n",
    " \n",
    "num_const = 0.375 ## 백분위 분자 수정 계수\n",
    "denom_const = 0.25 ## 백분위 분모 수정계수\n",
    " \n",
    "## 오름차순으로 정렬했을 때 잔차의 순위\n",
    "rank = [sorted(fit.resid).index(x)+1 for x in fit.resid] ## 인덱스가 0부터 시작하므로 1을 더한다.\n",
    " \n",
    "expected_value = [] ## 이론적 잔차값\n",
    "for i in range(len(fit.resid)):\n",
    "    p = (rank[i]-num_const)/(len(fit.resid)+denom_const) ## 백분위\n",
    "    expected_value.append(sqrt_mse*norm.ppf(p))\n",
    "\n",
    "fig = plt.figure(figsize=(8,8))\n",
    "fig.set_facecolor('white')\n",
    " \n",
    "font_size = 15\n",
    "# Q-Q Plot\n",
    "plt.scatter(expected_value,fit.resid,color='lightblue') ## 잔차도 출력\n",
    "plt.plot(expected_value,expected_value,color='lightcoral')\n",
    "plt.xlabel('Expected', fontsize=font_size) # 잔차의 이론 값\n",
    "plt.ylabel('Residual', fontsize=font_size) # 잔차 값\n",
    "plt.show()"
   ]
  },
  {
   "cell_type": "code",
   "execution_count": null,
   "metadata": {},
   "outputs": [],
   "source": [
    "# probplot 표준정규분포에서의 이론적 분위수 사용\n",
    "# 직선에 가까울 수록 오차의 정규성을 만족함\n",
    "\n",
    "from scipy.stats import probplot\n",
    " \n",
    "fig = plt.figure(figsize=(8,8))\n",
    "fig.set_facecolor('white')\n",
    " \n",
    "ax = fig.add_subplot()\n",
    "probplot(fit.resid, dist='norm',plot=ax) ## qq plot 출력\n",
    "plt.show()"
   ]
  },
  {
   "cell_type": "code",
   "execution_count": null,
   "metadata": {
    "scrolled": true
   },
   "outputs": [],
   "source": [
    "# !pip install pingouin\n",
    "import pingouin as pg"
   ]
  },
  {
   "cell_type": "markdown",
   "metadata": {},
   "source": [
    "> *에 따라 다르게 바라볼 수 있음\n",
    "\n",
    "> *p-value < 0.05 \n",
    "\n",
    "> **p-value < 0.01 \n",
    "\n",
    "> ***p-value < 0.001\n",
    "\n",
    "> *이 많을 수록 더 Extraordinary 하다는 의미 (극단적이어야) Significant함\n",
    "\n",
    "> 왼쪽 아래쪽은 r값을 오른쪽 위쪽에는 유의수준을 표시\n"
   ]
  },
  {
   "cell_type": "code",
   "execution_count": null,
   "metadata": {},
   "outputs": [],
   "source": [
    "pg.rcorr(train_df[[\"Age\",\"SibSp\",\"Parch\",\"Fare\"]])"
   ]
  },
  {
   "cell_type": "markdown",
   "metadata": {},
   "source": [
    "### 수치형 - 범주형 상관관계 파악"
   ]
  },
  {
   "cell_type": "markdown",
   "metadata": {},
   "source": [
    "> * Point biserial correlation : 점이연 상관계수 \n",
    "> * X변수가 연속형이고, Y변수는 이분변수\n",
    "> * 이분 변수는 네 / 아니오, 있음 / 없음 형태 -> 0, 1로 코딩 후 \n",
    "> * pearson 상관계수를 계산한 것 (해석이 pearson과 동일)\n",
    "\n",
    "> * Biserial correlation : \n",
    "> * 위와 동일하나 이분변수가 원래 연속형변수를 이분화한 경우에 사용\n",
    "\n",
    "> * Polyserial correlation : \n",
    "> * X변수가 연속형이고 Y변수의 범주화가 3개 이상인 경우에 사용"
   ]
  },
  {
   "cell_type": "markdown",
   "metadata": {},
   "source": [
    "* 범주형 데이터는 수치형 변환 가능한 경우 더미변수화를 통해 분석에 사용\n",
    "\n",
    "> * 서열형이 아님을 명심! 명목형 데이터임 -> 숫자에 의미가 없음\n",
    "> * Survived   0 사망  1 생존            변환 필요 없음\n",
    "> * Sex        0 male  1 female          변환 필요\n",
    "> * Embarked   0 S     1 C      2 Q      변환 필요, 결측치 보간 후 더미변수화\n",
    "> * Pclass     1 1등실 2 2등실  3 3등실  변환 필요 없음\n",
    "\n",
    "> * [사용 X] PassengerId 승객 아이디\n",
    "> * 변환 X 고유값으로 survived에 영향을 미치지 않음 사용 X\n",
    "\n",
    "> * [사용 X, 파생변수화] Name 이름 \n",
    "> * 변환 X 사람의 이름만 들어도 살지 못 살지 알 수 없으므로 사용 X\n",
    "> * 이름에서 그 당시의 지위를 나타내는 성이 있어서\n",
    "> * 성만 따로 추출하여 Title이라는 파생변수를 생성하여\n",
    "> * 높은 지위를 가진 사람들이 더 잘 살아남았는지 판단이 가능\n",
    "> * 실제로 지위가 높은 경우 요금도 비싼 요금의 객실을 살 수 있고, \n",
    "> * 1등실일 경우가 높음 -> 이에 대한 가설 검정 필요\n",
    "\n",
    "> * [사용 X] Ticket 티켓 번호\n",
    "> * 티켓 번호가 객실 위치와의 연관성은 없을 것으로 예상하며\n",
    "> * 실제 구매할 때 순서대로 부여되는 고유값으로 판단하여 사용 X\n",
    "> * 같이 구매한 사람들은 티켓 번호가 같을 수 있음\n",
    "> * Parch, SibSp와 같은 가족과 한 번에 구매할 경우 \n",
    "> 티켓 번호가 같을 수 있는데,\n",
    "> * 가족이 아닌 경우에도 (하녀를 데리고 간다던가) \n",
    "> 티켓 번호가 같을 수 있기 때문에 의미가 없다고 판단하였음.\n",
    "> * 파생변수 화 X\n",
    "\n",
    "> * [사용 O, 파생변수화] Cabin 객실 번호 \n",
    "> * 객실 위치로 생존과 관련성이 높음 \n",
    "> * 탈출구 먼 곳이면 가까운 곳보다 물리적 거리가 떨어져 있어 \n",
    "> 살아남기 힘들기 때문\n",
    "> * 앞 letter가 갑판을 뜻하므로 letter만 떼어내서 범주형으로 변환\n",
    "> * 결측치 처리 필요 (n - Null 으로 변환하였음)"
   ]
  },
  {
   "cell_type": "code",
   "execution_count": null,
   "metadata": {},
   "outputs": [],
   "source": [
    "# Survived 0 사망 1 생존 변환 필요 없음\n",
    "# Pclass 1 1등실 2 2등실 3 3등실 변환 필요\n",
    "\n",
    "# Sex 0 male 1 female 변환 필요\n",
    "# Embarked 0 S 1 C 2 Q 변환 필요, 결측치 보간 후 더미변수화\n",
    "\n",
    "# train_df test_df는 변환하지 않고 all_df만 변환하여 관계만 파악함"
   ]
  },
  {
   "cell_type": "markdown",
   "metadata": {},
   "source": [
    "#### Embarked 결측치 - 도메인 지식을 통해 대체 보간\n",
    "\n",
    "* nan이 있을 시 수치형 변환이 되지 않기 때문에 먼저 시행하였음"
   ]
  },
  {
   "cell_type": "code",
   "execution_count": null,
   "metadata": {},
   "outputs": [],
   "source": [
    "all_df[all_df['Embarked'].isna()]"
   ]
  },
  {
   "cell_type": "code",
   "execution_count": null,
   "metadata": {},
   "outputs": [],
   "source": [
    "all_df['Embarked'] = all_df['Embarked'].fillna('S')\n",
    "all_df[all_df['Embarked'].isna()]"
   ]
  },
  {
   "cell_type": "code",
   "execution_count": null,
   "metadata": {},
   "outputs": [],
   "source": [
    "train_df['Embarked'] = train_df['Embarked'].fillna('S')\n",
    "train_df['Embarked'].isna().sum()"
   ]
  },
  {
   "cell_type": "code",
   "execution_count": null,
   "metadata": {
    "scrolled": true
   },
   "outputs": [],
   "source": [
    "# polyserial_correlation\n",
    "# 3개 이상의 범주를 가지는 변수 분석을 위해\n",
    "# !pip install RyStats --upgrade"
   ]
  },
  {
   "cell_type": "code",
   "execution_count": null,
   "metadata": {},
   "outputs": [],
   "source": [
    "# from RyStats.inferential import correlation\n",
    "# 사용 방법 찾아서 사용하기"
   ]
  },
  {
   "cell_type": "markdown",
   "metadata": {},
   "source": [
    "### 범주형 - 범주형 상관관계 파악"
   ]
  },
  {
   "cell_type": "markdown",
   "metadata": {},
   "source": [
    "> * 파이 계수(Phi coefficient)\n",
    "> * X, Y변수 모두 남/여 또는 있다/없다 등 이분변수일 때\n",
    "> * 두 변수간의 상관분석을 하는 방법\n",
    "> * 파이 계수 대신 L, C, Lambda 등을 이용\n",
    "> * 파이 계수의 상관계수 값은 0 ~ 1 사이의 범위를 갖고, \n",
    "> * 0에 가까울수록 상관관계가 낮으며\n",
    "> * 1에 가까울수록 상관관계가 높다고 해석\n",
    "\n",
    "> * 크래머 V계수(Cramer's V)\n",
    "> * X, Y 변수의 범주가 3개 이상인 경우 상관분석을 하는 방법\n",
    "> * 크래머 V계수를 사용\n",
    "> * 크래머 V계수의 상관계수 값도 파이 계수와 동일하게 0 ~ 1 사이의 범위"
   ]
  },
  {
   "cell_type": "code",
   "execution_count": null,
   "metadata": {},
   "outputs": [],
   "source": [
    "# from scipy.stats.contingency import association\n",
    "\n",
    "# association(X, method=\"tschuprow\")"
   ]
  },
  {
   "cell_type": "code",
   "execution_count": null,
   "metadata": {},
   "outputs": [],
   "source": [
    "# association(obs4x2, method=\"cramer\")"
   ]
  },
  {
   "cell_type": "markdown",
   "metadata": {},
   "source": [
    "### 결측치 처리 ['Embarked'] ['Fare'] ['Cabin'] ['Age']"
   ]
  },
  {
   "cell_type": "code",
   "execution_count": null,
   "metadata": {},
   "outputs": [],
   "source": [
    "import missingno as msno\n",
    "msno.bar(all_df)"
   ]
  },
  {
   "cell_type": "code",
   "execution_count": null,
   "metadata": {},
   "outputs": [],
   "source": [
    "msno.matrix(all_df)"
   ]
  },
  {
   "cell_type": "code",
   "execution_count": null,
   "metadata": {},
   "outputs": [],
   "source": [
    "msno.matrix(all_df.sample(100))"
   ]
  },
  {
   "attachments": {
    "23s.png": {
     "image/png": "[encoded data removed]"
    }
   },
   "cell_type": "markdown",
   "metadata": {},
   "source": [
    "![23s.png](attachment:23s.png)"
   ]
  },
  {
   "cell_type": "markdown",
   "metadata": {},
   "source": [
    "#### Cabin 결측치 처리"
   ]
  },
  {
   "cell_type": "code",
   "execution_count": null,
   "metadata": {},
   "outputs": [],
   "source": [
    "print(all_df.Cabin.unique())\n",
    "print(all_df.Cabin.nunique())"
   ]
  },
  {
   "cell_type": "code",
   "execution_count": null,
   "metadata": {
    "scrolled": true
   },
   "outputs": [],
   "source": [
    "# 공통 특징 뽑아내기\n",
    "print(all_df[all_df['Cabin']=='E46'])\n",
    "print('_'*40)\n",
    "print(\"\")\n",
    "print(all_df[all_df['Cabin']=='G6'])\n",
    "print('_'*40)\n",
    "print(\"\")\n",
    "print(all_df[all_df['Cabin']=='D56'])\n",
    "print('_'*40)\n",
    "print(\"\")\n",
    "print(all_df[all_df['Cabin']=='A6'])\n",
    "print('_'*40)\n",
    "print(\"\")\n",
    "print(all_df[all_df['Cabin']=='B78'])\n",
    "print('_'*40)\n",
    "print(\"\")\n",
    "print(all_df[all_df['Cabin']=='C23 C25 C27'])\n",
    "print('_'*40)\n",
    "print(\"\")\n",
    "print(all_df[all_df['Cabin']=='C85'])\n",
    "print('_'*40)\n",
    "print(\"\")\n",
    "print(all_df[all_df['Cabin']=='C123'])\n",
    "print('_'*40)\n",
    "print(\"\")\n",
    "print(all_df[all_df['Cabin']=='C103'])\n",
    "print('_'*40)\n",
    "print(\"\")\n",
    "print(all_df[all_df['Cabin']=='C52'])\n",
    "print('_'*40)\n",
    "print(\"\")\n",
    "print(all_df[all_df['Cabin']=='C110'])\n",
    "print('_'*40)\n",
    "print(\"\")\n",
    "print(all_df[all_df['Cabin']=='C2'])\n",
    "print('_'*40)\n",
    "print(\"\")\n",
    "print(all_df[all_df['Cabin']=='C126'])\n",
    "print('_'*40)\n",
    "print(\"\")\n",
    "# Pclass Embarked 무조건 동일 Sex Ticket Fare 부분 동일 가능"
   ]
  },
  {
   "cell_type": "code",
   "execution_count": null,
   "metadata": {
    "scrolled": true
   },
   "outputs": [],
   "source": [
    "all_df.loc[(all_df.Cabin.isna())]"
   ]
  },
  {
   "cell_type": "code",
   "execution_count": null,
   "metadata": {
    "scrolled": true
   },
   "outputs": [],
   "source": [
    "# Pclass Embarked 무조건 동일 Sex Ticket Fare 부분 동일 가능\n",
    "# 진행 불가로 삭제 예정\n",
    "all_df.loc[(all_df.Pclass == 1) & (all_df.Embarked == 'S') |\n",
    "          (all_df.Sex == 'male')].sort_values(by='Cabin').head(216)"
   ]
  },
  {
   "cell_type": "code",
   "execution_count": null,
   "metadata": {},
   "outputs": [],
   "source": [
    "# 갑판을 바탕으로 범주화\n",
    "\n",
    "all_df['Deck'] = all_df.Cabin.apply(lambda x: str(x)[0])\n",
    "all_df['Deck']"
   ]
  },
  {
   "cell_type": "code",
   "execution_count": null,
   "metadata": {},
   "outputs": [],
   "source": [
    "# n은 null 결측치 값을 뜻함\n",
    "all_df['Deck'].unique()"
   ]
  },
  {
   "cell_type": "code",
   "execution_count": null,
   "metadata": {},
   "outputs": [],
   "source": [
    "train_df['Deck'] = train_df.Cabin.apply(lambda x: str(x)[0])\n",
    "train_df['Deck']"
   ]
  },
  {
   "cell_type": "code",
   "execution_count": null,
   "metadata": {},
   "outputs": [],
   "source": [
    "# n은 null 결측치 값을 뜻함\n",
    "train_df['Deck'].unique()"
   ]
  },
  {
   "cell_type": "code",
   "execution_count": null,
   "metadata": {},
   "outputs": [],
   "source": [
    "test_df['Deck'] = test_df.Cabin.apply(lambda x: str(x)[0])\n",
    "test_df['Deck']"
   ]
  },
  {
   "cell_type": "code",
   "execution_count": null,
   "metadata": {},
   "outputs": [],
   "source": [
    "# n은 null 결측치 값을 뜻함\n",
    "test_df['Deck'].unique()"
   ]
  },
  {
   "cell_type": "code",
   "execution_count": null,
   "metadata": {},
   "outputs": [],
   "source": [
    "print(train_df['Deck'].isna().sum())\n",
    "print(test_df['Deck'].isna().sum())\n",
    "print(all_df['Deck'].isna().sum())"
   ]
  },
  {
   "cell_type": "code",
   "execution_count": null,
   "metadata": {},
   "outputs": [],
   "source": [
    "pd.pivot_table(all_df,index='Survived',columns='Deck', values = 'Name', aggfunc='count')"
   ]
  },
  {
   "cell_type": "code",
   "execution_count": null,
   "metadata": {},
   "outputs": [],
   "source": [
    "train_df = train_df.drop(['Cabin'], axis=1)\n",
    "test_df = test_df.drop(['Cabin'], axis=1)\n",
    "all_df = all_df.drop(['Cabin'], axis=1)\n",
    "print(train_df.columns)\n",
    "print(test_df.columns)\n",
    "print(all_df.columns)"
   ]
  },
  {
   "cell_type": "code",
   "execution_count": null,
   "metadata": {},
   "outputs": [],
   "source": [
    "pd.crosstab(train_df['Deck'], train_df['Sex'])"
   ]
  },
  {
   "cell_type": "code",
   "execution_count": null,
   "metadata": {},
   "outputs": [],
   "source": [
    "pd.crosstab(train_df['Deck'], train_df['Pclass'])\n",
    "## 1 - > 1등석"
   ]
  },
  {
   "cell_type": "code",
   "execution_count": null,
   "metadata": {},
   "outputs": [],
   "source": [
    "pd.crosstab(train_df['Deck'], train_df['Survived'])"
   ]
  },
  {
   "cell_type": "code",
   "execution_count": null,
   "metadata": {},
   "outputs": [],
   "source": [
    "# B = C > D > E 순으로 생존율이 가장 높음\n",
    "# A, B, C는 전체 1등석\n",
    "# D, E는 생존 비율이 비슷함\n",
    "# 결측치 n이 가장 생존율이 낮음, 1명이 있는 T와 그룹핑\n",
    "# F, G를 그룹핑하여 4개의 범주로 변환함\n",
    "\n",
    "train_df['Deck'] = train_df['Deck'].replace(['A','B','C'], 'ABC')\n",
    "train_df['Deck'] = train_df['Deck'].replace(['D','E'], 'DE')\n",
    "train_df['Deck'] = train_df['Deck'].replace(['F','G'], 'FG')\n",
    "train_df['Deck'] = train_df['Deck'].replace(['n','T'], 'NT')\n",
    "pd.crosstab(train_df['Deck'], train_df['Survived'])"
   ]
  },
  {
   "cell_type": "code",
   "execution_count": null,
   "metadata": {},
   "outputs": [],
   "source": [
    "pd.crosstab(test_df['Deck'], test_df['Pclass'])"
   ]
  },
  {
   "cell_type": "code",
   "execution_count": null,
   "metadata": {},
   "outputs": [],
   "source": [
    "test_df['Deck'] = test_df['Deck'].replace(['A','B','C'], 'ABC')\n",
    "test_df['Deck'] = test_df['Deck'].replace(['D','E'], 'DE')\n",
    "test_df['Deck'] = test_df['Deck'].replace(['F','G'], 'FG')\n",
    "test_df['Deck'] = test_df['Deck'].replace('n', 'NT')\n",
    "pd.crosstab(test_df['Deck'], test_df['Pclass'])"
   ]
  },
  {
   "cell_type": "markdown",
   "metadata": {},
   "source": [
    "#### Age 결측치 처리"
   ]
  },
  {
   "cell_type": "code",
   "execution_count": null,
   "metadata": {
    "scrolled": true
   },
   "outputs": [],
   "source": [
    "all_df[all_df['Age'].isna()]"
   ]
  },
  {
   "cell_type": "code",
   "execution_count": null,
   "metadata": {
    "scrolled": false
   },
   "outputs": [],
   "source": [
    "all_df.Age.unique()"
   ]
  },
  {
   "cell_type": "code",
   "execution_count": null,
   "metadata": {},
   "outputs": [],
   "source": [
    "print(all_df.Age.nunique())"
   ]
  },
  {
   "cell_type": "code",
   "execution_count": null,
   "metadata": {
    "scrolled": true
   },
   "outputs": [],
   "source": [
    "# Kendall's tau 는 두 변수 사이의 상관관계의 정도를 나타내는 지표\n",
    "# -1과 1 사이의 값을 가짐, -1 or 1에 가까워질수록 예측할 수 있는 정도가 높아짐\n",
    "# 즉, 예측도가 증가\n",
    "\n",
    "# age와 상관관계가 있는지 확인\n",
    "# age와 높은 상관관계를 가지는 변수는 없음\n",
    "# 다른 변수들과의 상관관계를 바탕으로 대체할 수 없다고 판단하여\n",
    "# 중위수로 대체하였음\n",
    "\n",
    "# 0 이하 값은 1로 대체\n",
    "# 소수점 값은 전체 반올림하여 정수형으로 변환\n",
    "# 범주화 진행 예정\n",
    "\n",
    "all_df.loc[all_df.Age <= 1, 'Age'] = 1\n",
    "all_df.loc[all_df.Age < 1]\n",
    "\n",
    "train_df.loc[train_df.Age <= 1, 'Age'] = 1\n",
    "train_df.loc[train_df.Age < 1]\n",
    "\n",
    "test_df.loc[test_df.Age <= 1, 'Age'] = 1\n",
    "test_df.loc[test_df.Age < 1]"
   ]
  },
  {
   "cell_type": "code",
   "execution_count": null,
   "metadata": {},
   "outputs": [],
   "source": [
    "train_df['Age'].fillna(train_df['Age'].median(), inplace=True)\n",
    "test_df['Age'].fillna(test_df['Age'].median(), inplace=True)\n",
    "all_df['Age'].fillna(all_df['Age'].median(), inplace=True)"
   ]
  },
  {
   "cell_type": "code",
   "execution_count": null,
   "metadata": {},
   "outputs": [],
   "source": [
    "train_df['Age'] = train_df['Age'].astype('int')\n",
    "test_df['Age'] = test_df['Age'].astype('int')\n",
    "all_df['Age'] = all_df['Age'].astype('int')"
   ]
  },
  {
   "cell_type": "code",
   "execution_count": null,
   "metadata": {},
   "outputs": [],
   "source": [
    "train_df['Age'].info()"
   ]
  },
  {
   "cell_type": "code",
   "execution_count": null,
   "metadata": {},
   "outputs": [],
   "source": [
    "train_df['Age'].unique()"
   ]
  },
  {
   "cell_type": "code",
   "execution_count": null,
   "metadata": {},
   "outputs": [],
   "source": [
    "print(train_df.columns)\n",
    "print(test_df.columns)\n",
    "print(all_df.columns)"
   ]
  },
  {
   "cell_type": "markdown",
   "metadata": {},
   "source": [
    "#### Fare 결측치 대체 보간"
   ]
  },
  {
   "cell_type": "code",
   "execution_count": null,
   "metadata": {},
   "outputs": [],
   "source": [
    "all_df[all_df['Fare'].isna()]"
   ]
  },
  {
   "cell_type": "code",
   "execution_count": null,
   "metadata": {
    "scrolled": true
   },
   "outputs": [],
   "source": [
    "all_df['Fare']"
   ]
  },
  {
   "cell_type": "code",
   "execution_count": null,
   "metadata": {},
   "outputs": [],
   "source": [
    "# 데이터의 기술 통계 확인\n",
    "\n",
    "plt.hist(all_df['Fare'], bins=100, color='lightcoral')\n",
    "plt.show()"
   ]
  },
  {
   "cell_type": "code",
   "execution_count": null,
   "metadata": {
    "scrolled": true
   },
   "outputs": [],
   "source": [
    "# 실제 512.3292 달러 낸 사람들은 다 살았음 (극단값이라고 삭제하면 안됨)\n",
    "# 그러나 그 이하 사람들은 살았을 수도 있고 죽었을 수도 있음\n",
    "# 돈을 많이 낸다고 무조건 사는지? 이를 알고 싶어짐\n",
    "\n",
    "train_df[['Fare','Survived']][train_df['Fare'] >= 100].\\\n",
    "sort_values(by='Fare',ascending=False)"
   ]
  },
  {
   "cell_type": "code",
   "execution_count": null,
   "metadata": {},
   "outputs": [],
   "source": [
    "# 티켓은 혼자 샀음\n",
    "all_df[all_df['Ticket']=='3701']"
   ]
  },
  {
   "cell_type": "code",
   "execution_count": null,
   "metadata": {},
   "outputs": [],
   "source": [
    "# 혼자 티켓 구매\n",
    "all_df[all_df['Name']== 'Storey, Mr. Thomas']"
   ]
  },
  {
   "cell_type": "code",
   "execution_count": null,
   "metadata": {
    "scrolled": true
   },
   "outputs": [],
   "source": [
    "# 3등석 탄 사람은 709명\n",
    "all_df[all_df['Pclass']==3]"
   ]
  },
  {
   "cell_type": "code",
   "execution_count": null,
   "metadata": {
    "scrolled": true
   },
   "outputs": [],
   "source": [
    "# 3등석 탄 사람은 916명\n",
    "all_df[all_df['Embarked']=='S']"
   ]
  },
  {
   "cell_type": "code",
   "execution_count": null,
   "metadata": {
    "scrolled": true
   },
   "outputs": [],
   "source": [
    "# 탑승한 부모나 자녀가 없는 사람은 1002명\n",
    "all_df[all_df['Parch'] == 0]"
   ]
  },
  {
   "cell_type": "code",
   "execution_count": null,
   "metadata": {},
   "outputs": [],
   "source": [
    "# 3등석에서 동승자 없이 혼자 50대에서 70대 사이의 \n",
    "# 영국 S에서 승선한 남자 사람들과 비슷하다고 생각하였음.\n",
    "all_df.loc[(all_df.Parch == 0) & (all_df.Pclass == 3) & \n",
    "           (all_df.Embarked == 'S') & (all_df.SibSp == 0) & \n",
    "           (all_df.Age <= 70) & (all_df.Age >= 50) & (all_df.Sex == 'male')]"
   ]
  },
  {
   "cell_type": "code",
   "execution_count": null,
   "metadata": {},
   "outputs": [],
   "source": [
    "# 평균\n",
    "(7.25+8.05+8.05+6.2375+7.75+8.05+7.0542)/7"
   ]
  },
  {
   "cell_type": "code",
   "execution_count": null,
   "metadata": {},
   "outputs": [],
   "source": [
    "# 중위수 6.2375,7.0542,7.25,7.75,8.05,8.05,8.05\n",
    "7.75"
   ]
  },
  {
   "cell_type": "code",
   "execution_count": null,
   "metadata": {},
   "outputs": [],
   "source": [
    "all_df['Fare'] = all_df['Fare'].fillna(7.4917)\n",
    "all_df['Fare'].isna().sum()"
   ]
  },
  {
   "cell_type": "code",
   "execution_count": null,
   "metadata": {},
   "outputs": [],
   "source": [
    "test_df['Fare'] = test_df['Fare'].fillna(7.4917)\n",
    "test_df['Fare'].isna().sum()"
   ]
  },
  {
   "cell_type": "code",
   "execution_count": null,
   "metadata": {},
   "outputs": [],
   "source": [
    "# Pclass가 낮을수록 요금이 감소하는 추세를 보임\n",
    "# 음의 상관관계를 보이며 서로 영향을 미치고 있음\n",
    "sns.regplot(data = train_df, x = 'Pclass', y = 'Fare', color = 'lightcoral');"
   ]
  },
  {
   "cell_type": "code",
   "execution_count": null,
   "metadata": {},
   "outputs": [],
   "source": [
    "# Parch가 낮을수록 요금이 감소하는 추세를 보임\n",
    "# 양의 상관관계를 보이며 서로 영향을 미치고 있음\n",
    "sns.regplot(data = train_df, x = 'Parch', y = 'Fare', color = 'lightcoral');"
   ]
  },
  {
   "cell_type": "code",
   "execution_count": null,
   "metadata": {},
   "outputs": [],
   "source": [
    "# Age가 낮을수록 요금이 감소하는 추세를 보임\n",
    "# 양의 상관관계를 보이며 서로 영향을 미치고 있음\n",
    "sns.regplot(data = train_df, x = 'Age', y = 'Fare', color = 'lightcoral');"
   ]
  },
  {
   "cell_type": "code",
   "execution_count": null,
   "metadata": {},
   "outputs": [],
   "source": [
    "# 생존한 사람이 사망한 사람보다 요금이 높은 추세를 보임\n",
    "# 양의 상관관계를 보이며 서로 영향을 미치고 있음\n",
    "sns.regplot(data = train_df, x = 'Survived', y = 'Fare', color = 'lightcoral');"
   ]
  },
  {
   "cell_type": "markdown",
   "metadata": {},
   "source": [
    "### SibSp, Parch 이상치 판단 및 데이터 탐색"
   ]
  },
  {
   "cell_type": "code",
   "execution_count": null,
   "metadata": {},
   "outputs": [],
   "source": [
    "# 데이터의 기술 통계 확인\n",
    "\n",
    "plt.hist(all_df['SibSp'], bins=16, color='lightcoral')\n",
    "plt.show()"
   ]
  },
  {
   "cell_type": "code",
   "execution_count": null,
   "metadata": {},
   "outputs": [],
   "source": [
    "# 데이터의 기술 통계 확인\n",
    "\n",
    "plt.hist(all_df['Parch'], bins=18, color='lightcoral')\n",
    "plt.show()"
   ]
  },
  {
   "cell_type": "code",
   "execution_count": null,
   "metadata": {
    "scrolled": false
   },
   "outputs": [],
   "source": [
    "test_df.info()"
   ]
  },
  {
   "cell_type": "code",
   "execution_count": null,
   "metadata": {},
   "outputs": [],
   "source": [
    "train_df.info()"
   ]
  },
  {
   "cell_type": "code",
   "execution_count": null,
   "metadata": {},
   "outputs": [],
   "source": [
    "all_df.info()"
   ]
  },
  {
   "cell_type": "markdown",
   "metadata": {},
   "source": [
    "### EDA - FE 진행"
   ]
  },
  {
   "cell_type": "code",
   "execution_count": null,
   "metadata": {},
   "outputs": [],
   "source": [
    "# 티켓 값 삭제\n",
    "train_df = train_df.drop(['Ticket'], axis=1)\n",
    "test_df = test_df.drop(['Ticket'], axis=1)\n",
    "all_df = all_df.drop(['Ticket'], axis=1)\n",
    "all_df.shape "
   ]
  },
  {
   "cell_type": "code",
   "execution_count": null,
   "metadata": {},
   "outputs": [],
   "source": [
    "train_df.shape, test_df.shape, train_df.columns, test_df.columns"
   ]
  },
  {
   "cell_type": "code",
   "execution_count": null,
   "metadata": {
    "scrolled": true
   },
   "outputs": [],
   "source": [
    "combine = [train_df, test_df]\n",
    "combine"
   ]
  },
  {
   "cell_type": "markdown",
   "metadata": {},
   "source": [
    "### Name -> Title 변환\n",
    "\n",
    "* 이름에서 호칭만 분리하여 파생변수로 선언"
   ]
  },
  {
   "cell_type": "code",
   "execution_count": null,
   "metadata": {
    "scrolled": false
   },
   "outputs": [],
   "source": [
    "for dataset in combine:\n",
    "    dataset['Title'] = dataset.Name.str.extract(' ([A-Za-z]+)\\.', expand=False)\n",
    "\n",
    "pd.crosstab(train_df['Title'], train_df['Sex'])"
   ]
  },
  {
   "cell_type": "markdown",
   "metadata": {},
   "source": [
    "* 1~7개의 상대적으로 적은 값을 가지는 호칭은 Rare 호칭으로 그룹핑하였음."
   ]
  },
  {
   "cell_type": "code",
   "execution_count": null,
   "metadata": {},
   "outputs": [],
   "source": [
    "for dataset in combine:\n",
    "    dataset['Title'] = dataset['Title'].replace(['Lady', 'Countess',\n",
    "                                                 'Capt', 'Col','Don',\n",
    "                                                 'Dr', 'Major', 'Rev',\n",
    "                                                 'Sir', 'Jonkheer', \n",
    "                                                 'Dona'], 'Rare')\n",
    "    dataset['Title'] = dataset['Title'].replace('Mlle', 'Miss')\n",
    "    dataset['Title'] = dataset['Title'].replace('Ms', 'Miss')\n",
    "    dataset['Title'] = dataset['Title'].replace('Mme', 'Mrs')\n",
    "    \n",
    "train_df[['Title', 'Survived']].groupby(['Title'], as_index=False).mean()"
   ]
  },
  {
   "cell_type": "code",
   "execution_count": null,
   "metadata": {},
   "outputs": [],
   "source": [
    "train_df['Title'].unique()"
   ]
  },
  {
   "cell_type": "code",
   "execution_count": null,
   "metadata": {},
   "outputs": [],
   "source": [
    "# 이름 삭제, train에서 승객 ID 삭제\n",
    "\n",
    "train_df = train_df.drop(['Name', 'PassengerId'], axis=1)\n",
    "test_df = test_df.drop(['Name'], axis=1)\n",
    "combine = [train_df, test_df]\n",
    "train_df.shape, test_df.shape"
   ]
  },
  {
   "cell_type": "markdown",
   "metadata": {},
   "source": [
    "### SibSp와 Parch를 합하면 가족이 되며 혼자 탑승한 사람인지 아닌지 알 수 있음\n",
    "\n",
    "* 도메인 지식을 활용하여 새로운 파생변수를 만들어 모델 성능을 올릴 수 있음"
   ]
  },
  {
   "cell_type": "code",
   "execution_count": null,
   "metadata": {},
   "outputs": [],
   "source": [
    "# 동승자가 없는 경우 -> Parch + SibSp = 0\n",
    "# 그러나 자기 자신이 있기 때문에 1을 더하여 가족 1명을 기본 값으로 설정함\n",
    "\n",
    "for dataset in combine:\n",
    "    dataset['Family'] = dataset['SibSp'] + dataset['Parch'] + 1\n",
    "\n",
    "train_df[['Family', 'Survived']].groupby(['Family'], as_index=False).\\\n",
    "mean().sort_values(by='Survived', ascending=False)"
   ]
  },
  {
   "cell_type": "code",
   "execution_count": null,
   "metadata": {},
   "outputs": [],
   "source": [
    "# Family를 통해 승객이 혼자인 경우와 혼자가 아닌 경우로 나뉘게 됨\n",
    "# 승객이 혼자인 경우 1, 승객이 여럿인 경우 0\n",
    "# 이 또한 생존 예측에 있어 중요한 변수라 생각하여 파생변수를 만듦\n",
    "\n",
    "for dataset in combine:\n",
    "    dataset['Alone'] = 0\n",
    "    dataset.loc[dataset['Family'] == 1, 'Alone'] = 1\n",
    "\n",
    "train_df[['Alone', 'Survived']].groupby(['Alone'], as_index=False).mean()"
   ]
  },
  {
   "cell_type": "code",
   "execution_count": null,
   "metadata": {},
   "outputs": [],
   "source": [
    "train_df = train_df.drop(['Parch', 'SibSp', 'Family'], axis=1)\n",
    "test_df = test_df.drop(['Parch', 'SibSp', 'Family'], axis=1)\n",
    "combine = [train_df, test_df]\n",
    "\n",
    "train_df.head()"
   ]
  },
  {
   "cell_type": "code",
   "execution_count": null,
   "metadata": {},
   "outputs": [],
   "source": [
    "test_df.head()"
   ]
  },
  {
   "cell_type": "code",
   "execution_count": null,
   "metadata": {},
   "outputs": [],
   "source": [
    "train_df.shape, test_df.shape"
   ]
  },
  {
   "cell_type": "markdown",
   "metadata": {},
   "source": [
    "### Age 값의 범주화\n",
    "\n",
    "* 값이 많기 때문에 비슷한 특징을 가진 값들을 그룹핑하여 모델의 성능을 높임\n",
    "* train data만 시행함"
   ]
  },
  {
   "cell_type": "code",
   "execution_count": null,
   "metadata": {},
   "outputs": [],
   "source": [
    "# 5개의 범주로 나누어 그룹핑 시행\n",
    "\n",
    "train_df['AgeBand'] = pd.cut(train_df['Age'], 5)\n",
    "train_df[['AgeBand', 'Survived']].groupby(['AgeBand'], as_index=False).\\\n",
    "mean().sort_values(by='AgeBand', ascending=True)"
   ]
  },
  {
   "cell_type": "code",
   "execution_count": null,
   "metadata": {},
   "outputs": [],
   "source": [
    "# 극간에 따라 값의 범주를 정의하여 서열화 함\n",
    "for dataset in combine:    \n",
    "    dataset.loc[ dataset['Age'] <= 16, 'Age'] = 0\n",
    "    dataset.loc[(dataset['Age'] > 16) & (dataset['Age'] <= 32), 'Age'] = 1\n",
    "    dataset.loc[(dataset['Age'] > 32) & (dataset['Age'] <= 48), 'Age'] = 2\n",
    "    dataset.loc[(dataset['Age'] > 48) & (dataset['Age'] <= 64), 'Age'] = 3\n",
    "    dataset.loc[ dataset['Age'] > 64, 'Age']\n",
    "train_df.head()"
   ]
  },
  {
   "cell_type": "code",
   "execution_count": null,
   "metadata": {},
   "outputs": [],
   "source": [
    "# AgeBand 삭제\n",
    "train_df = train_df.drop(['AgeBand'], axis=1)\n",
    "combine = [train_df, test_df]\n",
    "train_df.head()"
   ]
  },
  {
   "cell_type": "code",
   "execution_count": null,
   "metadata": {},
   "outputs": [],
   "source": [
    "test_df.head()"
   ]
  },
  {
   "cell_type": "code",
   "execution_count": null,
   "metadata": {},
   "outputs": [],
   "source": [
    "train_df.shape, test_df.shape"
   ]
  },
  {
   "cell_type": "markdown",
   "metadata": {},
   "source": [
    "### 요금 값의 범주화\n",
    "\n",
    "* 값이 많기 때문에 비슷한 특징을 가진 값들을 그룹핑하여 모델의 성능을 높임\n",
    "* train_data만 시행"
   ]
  },
  {
   "cell_type": "code",
   "execution_count": null,
   "metadata": {},
   "outputs": [],
   "source": [
    "train_df['FareBand'] = pd.qcut(train_df['Fare'], 4)\n",
    "train_df[['FareBand', 'Survived']].groupby(['FareBand'], as_index=False).\\\n",
    "mean().sort_values(by='FareBand', ascending=True)"
   ]
  },
  {
   "cell_type": "code",
   "execution_count": null,
   "metadata": {},
   "outputs": [],
   "source": [
    "for dataset in combine:\n",
    "    dataset.loc[ dataset['Fare'] <= 7.91, 'Fare'] = 0\n",
    "    dataset.loc[(dataset['Fare'] > 7.91) & (dataset['Fare'] <= 14.454), 'Fare']= 1\n",
    "    dataset.loc[(dataset['Fare'] > 14.454) & (dataset['Fare'] <= 31), 'Fare']  = 2\n",
    "    dataset.loc[ dataset['Fare'] > 31, 'Fare'] = 3\n",
    "    dataset['Fare'] = dataset['Fare'].astype(int)\n",
    "\n",
    "train_df = train_df.drop(['FareBand'], axis=1)\n",
    "combine = [train_df, test_df]\n",
    "    \n",
    "train_df.head(10)"
   ]
  },
  {
   "cell_type": "code",
   "execution_count": null,
   "metadata": {},
   "outputs": [],
   "source": [
    "test_df.head()"
   ]
  },
  {
   "cell_type": "code",
   "execution_count": null,
   "metadata": {},
   "outputs": [],
   "source": [
    "train_df.shape, test_df.shape"
   ]
  },
  {
   "cell_type": "markdown",
   "metadata": {},
   "source": [
    "## 인코딩 작업"
   ]
  },
  {
   "cell_type": "code",
   "execution_count": null,
   "metadata": {},
   "outputs": [],
   "source": [
    "# 서열형 변경 - 전체 데이터를 변경해야 함\n",
    "# Pclass - 1등실 : 값이 큰 2으로 변환\n",
    "# Pclass - 3등실 : 값이 작은 0으로 변환\n",
    "\n",
    "train_df['Pclass'] = train_df['Pclass'].map( {1 : 2, 2 : 1, 3 : 0} ).astype(int)\n",
    "train_df['Pclass']"
   ]
  },
  {
   "cell_type": "code",
   "execution_count": null,
   "metadata": {},
   "outputs": [],
   "source": [
    "test_df['Pclass'] = test_df['Pclass'].map( {1 : 2, 2 : 1, 3 : 0} ).astype(int)\n",
    "test_df['Pclass']"
   ]
  },
  {
   "cell_type": "code",
   "execution_count": null,
   "metadata": {},
   "outputs": [],
   "source": [
    "print(train_df.head())\n",
    "print('')\n",
    "print('')\n",
    "print(test_df.head())"
   ]
  },
  {
   "cell_type": "code",
   "execution_count": null,
   "metadata": {},
   "outputs": [],
   "source": [
    "train_df.info()"
   ]
  },
  {
   "cell_type": "markdown",
   "metadata": {},
   "source": [
    "### Pandas get_dummy 사용하여 범주형 변수를 수치형으로 변환\n",
    "\n",
    "* Survived ->   사망: 0   생존: 1\n",
    "\n",
    "* Pclass   ->   3등실: 0  2등실: 1  1등실: 2\n",
    "\n",
    "* Age      ->   16 이하: 0   16 초과 32 이하: 1 \n",
    "* 32 초과 48 이하: 2    48 초과 64 이하: 3     64 초과: 데이터 그대로\n",
    "\n",
    "* Fare     ->   7.91 이하: 0  7.91 초과 14.454 이하 :1 \n",
    "* 14.454 초과 31 이하: 2 31 초과: 3\n",
    "\n",
    "* Alone    ->   승객이 여럿인 경우: 0, 승객이 혼자인 경우: 1\n",
    "\n",
    "> * 원-핫 인코딩\n",
    "> * Sex_female   Sex_male\n",
    "> * Embarked_C   Embarked_Q   Embarked_S\n",
    "> * Deck_ABC     Deck_DE      Deck_FG      Deck_NT\n",
    "> * Title_Master Title_Miss   Title_Mr     Title_Mrs    Title_Rare"
   ]
  },
  {
   "cell_type": "code",
   "execution_count": null,
   "metadata": {},
   "outputs": [],
   "source": [
    "encoded_train_data = pd.get_dummies(train_df)\n",
    "encoded_train_data"
   ]
  },
  {
   "cell_type": "code",
   "execution_count": null,
   "metadata": {},
   "outputs": [],
   "source": [
    "encoded_test_data = pd.get_dummies(test_df)\n",
    "encoded_test_data"
   ]
  },
  {
   "cell_type": "code",
   "execution_count": null,
   "metadata": {
    "scrolled": true
   },
   "outputs": [],
   "source": [
    "encoded_train_data.columns, encoded_train_data.dtypes"
   ]
  },
  {
   "cell_type": "markdown",
   "metadata": {},
   "source": [
    "## 범주형(수치형 변환, 이진 변수), 수치형 변수 상관 관계 분석 - 생존 여부를 중심으로\n",
    "\n",
    "> * 'Survived' \n",
    "\n",
    "> * 'Age', 'Fare' 수치형 변수\n",
    "\n",
    "> * 'Alone' 범주형 이진 변수\n",
    "\n",
    "> * 'Sex_female', 'Sex_male' 범주형 이진 변수\n",
    "\n",
    "> * 'Pclass' 범주형 3개 변수\n",
    "\n",
    "> * 'Embarked_C', 'Embarked_Q', 'Embarked_S' 범주형 3개 변수\n",
    "\n",
    "> * 'Deck_ABC', 'Deck_DE', 'Deck_FG', 'Deck_NT' 범주형 4개 변수\n",
    "\n",
    "> * 'Title_Master', 'Title_Miss', 'Title_Mr', 'Title_Mrs', 'Title_Rare' 범주형 5개 변수"
   ]
  },
  {
   "cell_type": "code",
   "execution_count": null,
   "metadata": {},
   "outputs": [],
   "source": [
    "#'Survived', 'Pclass', 'Age', 'Fare', 'Alone', \n",
    "# 'Sex_female', 'Sex_male'\n",
    "# 'Embarked_C', 'Embarked_Q', 'Embarked_S'\n",
    "# 'Deck_ABC', 'Deck_DE', 'Deck_FG', 'Deck_NT'\n",
    "# 'Title_Master', 'Title_Miss', 'Title_Mr', 'Title_Mrs', 'Title_Rare'"
   ]
  },
  {
   "cell_type": "code",
   "execution_count": null,
   "metadata": {},
   "outputs": [],
   "source": [
    "# 범주형(수치형 변환, 이진 변수), 수치형 변수 상관 관계 분석\n",
    "from scipy.stats import pointbiserialr\n",
    "\n",
    "correlation, p_value = pointbiserialr(encoded_train_data['Survived'],\n",
    "                                      encoded_train_data['Age'])\n",
    "\n",
    "print('Correlation: ', correlation)\n",
    "print('P-value: ', p_value)"
   ]
  },
  {
   "cell_type": "code",
   "execution_count": null,
   "metadata": {},
   "outputs": [],
   "source": [
    "corr = encoded_train_data[[\"Age\",\"Survived\"]].corr()\n",
    "mask = np.triu(np.ones_like(corr))\n",
    "sns.heatmap(corr, annot=True, cmap=\"coolwarm\", vmax=1, vmin=-1, mask = mask)\n",
    "plt.title(\"Pearson Correlation\")\n",
    "plt.show()"
   ]
  },
  {
   "cell_type": "code",
   "execution_count": null,
   "metadata": {},
   "outputs": [],
   "source": [
    "encoded_train_data[[\"Age\",\"Survived\"]].\\\n",
    "corr(method=lambda x, y : stats.pearsonr(x,y)[1])"
   ]
  },
  {
   "cell_type": "code",
   "execution_count": null,
   "metadata": {},
   "outputs": [],
   "source": [
    "corr = encoded_train_data[[\"Age\",\"Survived\"]].corr(method='kendall')\n",
    "mask = np.triu(np.ones_like(corr))\n",
    "sns.heatmap(corr, annot=True, cmap=\"coolwarm\", vmax=1, vmin=-1, mask = mask)\n",
    "plt.title(\"Kendall's Tau Correlation\")\n",
    "plt.show()"
   ]
  },
  {
   "cell_type": "code",
   "execution_count": null,
   "metadata": {},
   "outputs": [],
   "source": [
    "# https://blog.naver.com/breezehome50/222353492058\n",
    "rho, p_val =  stats.kendalltau(encoded_train_data[\"Age\"],\n",
    "                               encoded_train_data[\"Survived\"])\n",
    "print(f\"correlation coefficient : {rho}, p-value : {p_val}\")"
   ]
  },
  {
   "cell_type": "code",
   "execution_count": null,
   "metadata": {},
   "outputs": [],
   "source": [
    "# 범주형(수치형 변환, 이진 변수), 수치형 변수 상관 관계 분석\n",
    "from scipy.stats import pointbiserialr\n",
    "\n",
    "correlation, p_value = pointbiserialr(encoded_train_data['Survived'],\n",
    "                                      encoded_train_data['Fare'])\n",
    "\n",
    "print('Correlation: ', correlation)\n",
    "print('P-value: ', p_value)"
   ]
  },
  {
   "cell_type": "code",
   "execution_count": null,
   "metadata": {},
   "outputs": [],
   "source": [
    "corr = encoded_train_data[[\"Fare\",\"Survived\"]].corr()\n",
    "mask = np.triu(np.ones_like(corr))\n",
    "sns.heatmap(corr, annot=True, cmap=\"coolwarm\", vmax=1, vmin=-1, mask = mask)\n",
    "plt.title(\"Pearson Correlation\")\n",
    "plt.show()"
   ]
  },
  {
   "cell_type": "code",
   "execution_count": null,
   "metadata": {},
   "outputs": [],
   "source": [
    "corr = encoded_train_data[[\"Fare\",\"Survived\"]].corr(method='kendall')\n",
    "mask = np.triu(np.ones_like(corr))\n",
    "sns.heatmap(corr, annot=True, cmap=\"coolwarm\", vmax=1, vmin=-1, mask = mask)\n",
    "plt.title(\"Kendall's Tau Correlation\")\n",
    "plt.show()"
   ]
  },
  {
   "cell_type": "code",
   "execution_count": null,
   "metadata": {},
   "outputs": [],
   "source": [
    "rho, p_val =  stats.kendalltau(encoded_train_data[\"Fare\"],\n",
    "                               encoded_train_data[\"Survived\"])\n",
    "print(f\"correlation coefficient : {rho}, p-value : {p_val}\")"
   ]
  },
  {
   "cell_type": "markdown",
   "metadata": {},
   "source": [
    "### Phi 이진 - 이진 상관 분석\n",
    "\n",
    "* 매튜상관계수 (MCC ; matthews correlation coefficient)\n",
    "* https://towardsdatascience.com/the-best-classification-metric-youve-never-heard-of-the-matthews-correlation-coefficient-3bf50a2f3e9a\n",
    "\n",
    "* -1 ~ +1 사이 값을 가지며, +1 완벽한 예측, 0 랜덤한 예측 , -1 완전 반대 예측"
   ]
  },
  {
   "cell_type": "code",
   "execution_count": null,
   "metadata": {},
   "outputs": [],
   "source": [
    "from sklearn.metrics import matthews_corrcoef\n",
    "matthews_corrcoef(encoded_train_data['Survived'], encoded_train_data['Sex_female'])"
   ]
  },
  {
   "cell_type": "code",
   "execution_count": null,
   "metadata": {},
   "outputs": [],
   "source": [
    "from sklearn.metrics import matthews_corrcoef\n",
    "matthews_corrcoef(encoded_train_data['Survived'], encoded_train_data['Sex_male'])"
   ]
  },
  {
   "cell_type": "code",
   "execution_count": null,
   "metadata": {},
   "outputs": [],
   "source": [
    "from sklearn.metrics import matthews_corrcoef\n",
    "matthews_corrcoef(encoded_train_data['Survived'], encoded_train_data['Alone'])"
   ]
  },
  {
   "cell_type": "markdown",
   "metadata": {},
   "source": [
    "### Cramer's V 이진 - 다중 클래스 상관 분석\n",
    " https://recipesds.tistory.com/entry/%EA%B5%90%EC%B0%A8%EB%B6%84%EC%84%9D%EC%9D%98-%EC%99%84%EC%84%B1-Cross-Tabulation-%CF%87%C2%B2-Testing-Cramer-V-%EC%97%B0%EA%B4%80%EB%8F%84\n",
    "\n",
    "> 크래머 V 계수(Cramer's V) = √(X²/n) / min(c-1, r-1)\n",
    "> X2: 카이제곱 통계량\n",
    "> n: 표본 크기\n",
    "> r: 행의 수\n",
    "> c: 열의 수\n",
    "\n",
    "> * χ² 값과 관련되어 있으니까 서로 독립일 때 \n",
    "> * 기대했던 값과 차이가 많이 날 수록 더 연관되어 있다고 생각하는 것\n",
    "\n",
    "> * 0: 두 명목형 변수(nomial variables)간에 아무런 관련성도 없다.\n",
    "> * 1: 두 명목형 변수(nomial variables)간에 서로 강한 관련성이 있다.\n",
    "\n",
    "* 'Pclass' 범주형 3개 변수\n",
    "* 'Embarked_C', 'Embarked_Q', 'Embarked_S' 범주형 3개 변수\n",
    "* 'Deck_ABC', 'Deck_DE', 'Deck_FG', 'Deck_NT' 범주형 4개 변수\n",
    "* 'Title_Master', 'Title_Miss', 'Title_Mr', 'Title_Mrs', 'Title_Rare' 범주형 5개 변수"
   ]
  },
  {
   "cell_type": "code",
   "execution_count": null,
   "metadata": {},
   "outputs": [],
   "source": [
    "train_df_encoded = encoded_train_data[['Survived','Pclass']].copy(deep = True)\n",
    "train_df_encoded"
   ]
  },
  {
   "cell_type": "code",
   "execution_count": null,
   "metadata": {},
   "outputs": [],
   "source": [
    "# https://blog.naver.com/kthchunjae/222290570091\n",
    "\n",
    "from sklearn import preprocessing\n",
    "from scipy.stats import chi2_contingency\n",
    "\n",
    "def cramers_V(var1,var2) :\n",
    "    crosstab =np.array(pd.crosstab(var1,var2, rownames=None, colnames=None)) # Cross table building\n",
    "    stat = chi2_contingency(crosstab)[0] # Keeping of the test statistic of the Chi2 test\n",
    "    obs = np.sum(crosstab) # Number of observations\n",
    "    phi2 = stat / obs\n",
    "    r, k = crosstab.shape\n",
    "    phi2corr = max(0, phi2 - (((k-1)*(r-1))/(obs - 1)))\n",
    "    rcorr = r - ((r-1)**2)/(obs-1)\n",
    "    kcorr = k - ((k-1)**2)/(obs-1)\n",
    "    return np.sqrt(phi2corr / min((kcorr-1), (rcorr-1)))\n",
    "\n",
    "rows=[]\n",
    "\n",
    "for var1 in train_df_encoded:\n",
    "    col = []\n",
    "    for var2 in train_df_encoded:\n",
    "        cramers = cramers_V(encoded_train_data[var1],\n",
    "                            encoded_train_data[var2]) # Cramer's V test\n",
    "        col.append(round(cramers,2)) # Keeping of the rounded value of the Cramer's V  \n",
    "    rows.append(col)\n",
    "\n",
    "cramers_results = np.array(rows)\n",
    "cramers_train_df = pd.DataFrame(cramers_results, \n",
    "                  columns = train_df_encoded.columns, \n",
    "                  index = train_df_encoded.columns)\n",
    "cramers_train_df"
   ]
  },
  {
   "cell_type": "code",
   "execution_count": null,
   "metadata": {},
   "outputs": [],
   "source": [
    "mask = np.triu(np.ones_like(cramers_train_df))\n",
    "sns.heatmap(cramers_train_df, annot=True, \n",
    "            cmap=\"coolwarm\", vmax=1, vmin=-1, mask = mask)\n",
    "plt.title(\"Cramer's V Correlation\")\n",
    "plt.show()"
   ]
  },
  {
   "cell_type": "code",
   "execution_count": null,
   "metadata": {},
   "outputs": [],
   "source": [
    "from sklearn import preprocessing\n",
    "from scipy.stats import chi2_contingency\n",
    "\n",
    "def cramers_V(var1,var2) :\n",
    "    crosstab =np.array(pd.crosstab(var1,var2, rownames=None, colnames=None)) \n",
    "    # Cross table building\n",
    "    stat = chi2_contingency(crosstab)[0] \n",
    "    # Keeping of the test statistic of the Chi2 test\n",
    "    obs = np.sum(crosstab) # Number of observations\n",
    "    phi2 = stat / obs\n",
    "    r, k = crosstab.shape\n",
    "    phi2corr = max(0, phi2 - (((k-1)*(r-1))/(obs - 1)))\n",
    "    rcorr = r - ((r-1)**2)/(obs-1)\n",
    "    kcorr = k - ((k-1)**2)/(obs-1)\n",
    "    return np.sqrt(phi2corr / min((kcorr-1), (rcorr-1)))\n",
    "\n",
    "train_df_encoded = encoded_train_data[['Survived', 'Embarked_C',\n",
    "                                       'Embarked_Q', 'Embarked_S' ]].\\\n",
    "copy(deep = True)\n",
    "rows=[]\n",
    "for var1 in train_df_encoded:\n",
    "    col = []\n",
    "    for var2 in train_df_encoded:\n",
    "        cramers = cramers_V(encoded_train_data[var1],\n",
    "                            encoded_train_data[var2]) # Cramer's V test\n",
    "        col.append(round(cramers,2)) \n",
    "        # Keeping of the rounded value of the Cramer's V  \n",
    "    rows.append(col)\n",
    "\n",
    "cramers_results = np.array(rows)\n",
    "cramers_train_df = pd.DataFrame(cramers_results, \n",
    "                  columns = train_df_encoded.columns, \n",
    "                  index = train_df_encoded.columns)\n",
    "cramers_train_df"
   ]
  },
  {
   "cell_type": "code",
   "execution_count": null,
   "metadata": {},
   "outputs": [],
   "source": [
    "mask = np.triu(np.ones_like(cramers_train_df))\n",
    "sns.heatmap(cramers_train_df, annot=True, \n",
    "            cmap=\"coolwarm\", vmax=1, vmin=-1, mask = mask)\n",
    "plt.title(\"Cramer's V Correlation\")\n",
    "plt.show()"
   ]
  },
  {
   "cell_type": "code",
   "execution_count": null,
   "metadata": {},
   "outputs": [],
   "source": [
    "from sklearn import preprocessing\n",
    "from scipy.stats import chi2_contingency\n",
    "\n",
    "def cramers_V(var1,var2) :\n",
    "    crosstab =np.array(pd.crosstab(var1,var2, rownames=None, colnames=None))\n",
    "    # Cross table building\n",
    "    stat = chi2_contingency(crosstab)[0] \n",
    "    # Keeping of the test statistic of the Chi2 test\n",
    "    obs = np.sum(crosstab) # Number of observations\n",
    "    phi2 = stat / obs\n",
    "    r, k = crosstab.shape\n",
    "    phi2corr = max(0, phi2 - (((k-1)*(r-1))/(obs - 1)))\n",
    "    rcorr = r - ((r-1)**2)/(obs-1)\n",
    "    kcorr = k - ((k-1)**2)/(obs-1)\n",
    "    return np.sqrt(phi2corr / min((kcorr-1), (rcorr-1)))\n",
    "\n",
    "train_df_encoded = encoded_train_data[['Survived', 'Deck_ABC', \n",
    "                                       'Deck_DE', 'Deck_FG', 'Deck_NT']].\\\n",
    "copy(deep = True)\n",
    "rows=[]\n",
    "for var1 in train_df_encoded:\n",
    "    col = []\n",
    "    for var2 in train_df_encoded:\n",
    "        cramers = cramers_V(encoded_train_data[var1],\n",
    "                            encoded_train_data[var2]) # Cramer's V test\n",
    "        col.append(round(cramers,2)) \n",
    "        # Keeping of the rounded value of the Cramer's V  \n",
    "    rows.append(col)\n",
    "\n",
    "cramers_results = np.array(rows)\n",
    "cramers_train_df = pd.DataFrame(cramers_results, \n",
    "                  columns = train_df_encoded.columns, \n",
    "                  index = train_df_encoded.columns)\n",
    "cramers_train_df"
   ]
  },
  {
   "cell_type": "code",
   "execution_count": null,
   "metadata": {},
   "outputs": [],
   "source": [
    "mask = np.triu(np.ones_like(cramers_train_df))\n",
    "sns.heatmap(cramers_train_df, annot=True, \n",
    "            cmap=\"coolwarm\", vmax=1, vmin=-1, mask = mask)\n",
    "plt.title(\"Cramer's V Correlation\")\n",
    "plt.show()"
   ]
  },
  {
   "cell_type": "code",
   "execution_count": null,
   "metadata": {},
   "outputs": [],
   "source": [
    "from sklearn import preprocessing\n",
    "from scipy.stats import chi2_contingency\n",
    "\n",
    "def cramers_V(var1,var2) :\n",
    "    crosstab =np.array(pd.crosstab(var1,var2, rownames=None, colnames=None)) \n",
    "    # Cross table building\n",
    "    stat = chi2_contingency(crosstab)[0] \n",
    "    # Keeping of the test statistic of the Chi2 test\n",
    "    obs = np.sum(crosstab) # Number of observations\n",
    "    phi2 = stat / obs\n",
    "    r, k = crosstab.shape\n",
    "    phi2corr = max(0, phi2 - (((k-1)*(r-1))/(obs - 1)))\n",
    "    rcorr = r - ((r-1)**2)/(obs-1)\n",
    "    kcorr = k - ((k-1)**2)/(obs-1)\n",
    "    return np.sqrt(phi2corr / min((kcorr-1), (rcorr-1)))\n",
    "\n",
    "train_df_encoded = encoded_train_data[['Survived', 'Title_Master', \n",
    "                                       'Title_Miss', 'Title_Mr', \n",
    "                                       'Title_Mrs', 'Title_Rare']].\\\n",
    "copy(deep = True)\n",
    "rows=[]\n",
    "for var1 in train_df_encoded:\n",
    "    col = []\n",
    "    for var2 in train_df_encoded:\n",
    "        cramers = cramers_V(encoded_train_data[var1],\n",
    "                            encoded_train_data[var2]) # Cramer's V test\n",
    "        col.append(round(cramers,2)) \n",
    "        # Keeping of the rounded value of the Cramer's V  \n",
    "    rows.append(col)\n",
    "\n",
    "cramers_results = np.array(rows)\n",
    "cramers_train_df = pd.DataFrame(cramers_results, \n",
    "                  columns = train_df_encoded.columns, \n",
    "                  index = train_df_encoded.columns)\n",
    "cramers_train_df"
   ]
  },
  {
   "cell_type": "code",
   "execution_count": null,
   "metadata": {},
   "outputs": [],
   "source": [
    "mask = np.triu(np.ones_like(cramers_train_df))\n",
    "sns.heatmap(cramers_train_df, annot=True, \n",
    "            cmap=\"coolwarm\", vmax=1, vmin=-1, mask = mask)\n",
    "plt.title(\"Cramer's V Correlation\")\n",
    "plt.show()"
   ]
  },
  {
   "cell_type": "markdown",
   "metadata": {},
   "source": [
    "## 데이터 정규화, 표준화"
   ]
  },
  {
   "cell_type": "code",
   "execution_count": null,
   "metadata": {},
   "outputs": [],
   "source": [
    "encoded_train_data.columns, encoded_train_data.dtypes, encoded_train_data.shape"
   ]
  },
  {
   "cell_type": "code",
   "execution_count": null,
   "metadata": {},
   "outputs": [],
   "source": [
    "encoded_test_data.columns, encoded_test_data.dtypes, encoded_test_data.shape"
   ]
  },
  {
   "cell_type": "code",
   "execution_count": null,
   "metadata": {},
   "outputs": [],
   "source": [
    "encoded_train_data.Age.unique()"
   ]
  },
  {
   "cell_type": "code",
   "execution_count": null,
   "metadata": {},
   "outputs": [],
   "source": [
    "encoded_test_data.Age.unique()"
   ]
  },
  {
   "cell_type": "code",
   "execution_count": null,
   "metadata": {},
   "outputs": [],
   "source": [
    "# Scale data \n",
    "# https://mkjjo.github.io/python/2019/01/10/scaler.html\n",
    "\n",
    "from sklearn.preprocessing import StandardScaler, RobustScaler\n",
    "ss = StandardScaler()\n",
    "rs = RobustScaler()\n",
    "\n",
    "encoded_test_data_scaled = encoded_test_data.copy(deep=True)\n",
    "\n",
    "encoded_test_data_scaled[[\"Age_scaled\"]] = rs.fit_transform(encoded_test_data_scaled[[\"Age\"]])\n",
    "encoded_test_data_scaled[[\"Age_scaled\"]]"
   ]
  },
  {
   "cell_type": "code",
   "execution_count": null,
   "metadata": {},
   "outputs": [],
   "source": [
    "encoded_test_data_scaled[[\"Age\"]]"
   ]
  },
  {
   "cell_type": "code",
   "execution_count": null,
   "metadata": {},
   "outputs": [],
   "source": [
    "encoded_train_data_scaled = encoded_train_data.copy(deep=True)\n",
    "\n",
    "encoded_train_data_scaled[[\"Age_scaled\"]] = rs.fit_transform(encoded_train_data_scaled[[\"Age\"]])\n",
    "encoded_train_data_scaled[[\"Age_scaled\"]]"
   ]
  },
  {
   "cell_type": "code",
   "execution_count": null,
   "metadata": {},
   "outputs": [],
   "source": [
    "encoded_train_data_scaled[[\"Age\"]]"
   ]
  },
  {
   "cell_type": "code",
   "execution_count": null,
   "metadata": {},
   "outputs": [],
   "source": [
    "encoded_train_data_scaled.columns, encoded_test_data_scaled.columns"
   ]
  },
  {
   "cell_type": "code",
   "execution_count": null,
   "metadata": {},
   "outputs": [],
   "source": [
    "encoded_train_data_scaled = encoded_train_data_scaled.drop(\"Age\", axis=1)\n",
    "encoded_test_data_scaled = encoded_test_data_scaled.drop(\"Age\", axis=1)\n",
    "encoded_train_data_scaled.columns, encoded_test_data_scaled.columns"
   ]
  },
  {
   "cell_type": "markdown",
   "metadata": {},
   "source": [
    "## 3. 데이터 학습셋 검증셋 분리"
   ]
  },
  {
   "cell_type": "code",
   "execution_count": null,
   "metadata": {},
   "outputs": [],
   "source": [
    "encoded_train_data_scaled"
   ]
  },
  {
   "cell_type": "code",
   "execution_count": null,
   "metadata": {},
   "outputs": [],
   "source": [
    "print(encoded_train_data_scaled.head())\n",
    "print(encoded_test_data_scaled.head())"
   ]
  },
  {
   "cell_type": "code",
   "execution_count": null,
   "metadata": {
    "_cell_guid": "0acf54f9-6cf5-24b5-72d9-29b30052823a",
    "_uuid": "04d2235855f40cffd81f76b977a500fceaae87ad"
   },
   "outputs": [],
   "source": [
    "X_train = encoded_train_data_scaled.drop(\"Survived\", axis=1)\n",
    "Y_train = encoded_train_data_scaled[\"Survived\"]\n",
    "X_test  = encoded_test_data_scaled.drop(\"PassengerId\", axis=1).copy()\n",
    "X_train.shape, Y_train.shape, X_test.shape"
   ]
  },
  {
   "cell_type": "code",
   "execution_count": null,
   "metadata": {},
   "outputs": [],
   "source": [
    "from sklearn.model_selection import train_test_split\n",
    "\n",
    "#train set 을 한번 더 나누어서 validation set 또한 만들어 낼 수 있습니다. \n",
    "x_train, x_val, y_train, y_val = train_test_split(X_train, Y_train, test_size=0.2, shuffle=True, random_state=777)\n",
    "\n",
    "# 최종적으로 분할된 각 test, validation, test set 을 모두 출력 \n",
    "print(\"x_train:\", x_train)\n",
    "print(\"y_train:\", y_train)\n",
    "print(\"x_val:\", x_val)\n",
    "print(\"y_val:\", y_val)\n",
    "print(\"X_test:\", X_test)"
   ]
  },
  {
   "cell_type": "code",
   "execution_count": null,
   "metadata": {},
   "outputs": [],
   "source": [
    "x_train.shape , y_train.shape , x_val.shape , y_val.shape"
   ]
  },
  {
   "cell_type": "markdown",
   "metadata": {},
   "source": [
    "## 4. 모델 학습 및 평가"
   ]
  },
  {
   "cell_type": "markdown",
   "metadata": {},
   "source": [
    "\n",
    "1. 의사결정트리 : DecisionTreeClassifier\n",
    "2. 랜덤포레스트 : RandomForestClassifier\n",
    "3. 로지스틱 회귀 : LogisticRegression\n",
    "\n",
    "### 📌 분류모델 성능 평가\n",
    "\n",
    "- 정확도(Accuracy) : 실제 데이터에서 예측 데이터가 얼마나 같은지 판단\n",
    "\n",
    "- 오차행렬(Confusion Matrix) : TN(True Negative), FP(False Positive), FN(False Negative), TP(True Positive)\n",
    "\n",
    "    - TN: `예측값`을 `N`egative 값 0으로 예측했고, 실제 값도 Negative 값 0\n",
    "    - FP: `예측값`을 `P`ositive 값 1로 예측했고, 실제 값은 Negative 값 0\n",
    "    - FN: `예측값`을 `N`egative 값 0으로 예측했고, 실제 값은 Positive 값 1\n",
    "    - TP: `예측값`을 `P`ositive 값 1으로 예측했고, 실제 값도 Positive 값 1 일때\n",
    "-     \n",
    "\n",
    "\n",
    "- 정밀도(Precision) : 예측을 Positive로 한 대상 중에 예측과 실제값이 Positive로 일치한 데이터의 비율\n",
    "\n",
    "- 재현율(Recall) : 실제 값이 Positive로 한 대상 중에 예측과 실제값이 Positive로 일치한 데이터의 비율\n",
    "\n",
    "- F1 스코어 : 정밀도와 재현율이 밸런스 있게 한쪽으로 치우치지 않으면 수치가 높아지는 척도\n",
    "\n",
    "- ROC AUC : 이진 분류 모델의 성능 측정하는 지표. 1에 가까울수록 좋음"
   ]
  },
  {
   "cell_type": "markdown",
   "metadata": {},
   "source": [
    " #### 모델 성능 평가 함수"
   ]
  },
  {
   "cell_type": "code",
   "execution_count": null,
   "metadata": {},
   "outputs": [],
   "source": [
    "from sklearn.metrics import accuracy_score, precision_score, recall_score, confusion_matrix, f1_score, roc_curve, roc_auc_score\n",
    "def get_classfication_evalulator(y_test, pred):\n",
    "    ## 오차행렬\n",
    "    confusion = confusion_matrix(y_test, pred)\n",
    "    ## 정확도\n",
    "    accuracy = accuracy_score(y_test, pred)\n",
    "    ## 정밀도\n",
    "    precision = precision_score(y_test, pred)\n",
    "    ## 재현율\n",
    "    recall = recall_score(y_test, pred)\n",
    "    ## F1 스코어\n",
    "    f1 = f1_score(y_test, pred)\n",
    "    print('------ 오차행렬 -------\\n', confusion)\n",
    "    print('\\n정확도(accuracy): {:.4f}, 정밀도(precision): {:.4f}, 재현율(recall): {:.4f}, F1: {:.4f}'.format(accuracy, precision, recall, f1))\n",
    "    print('---------------------\\n')\n"
   ]
  },
  {
   "cell_type": "markdown",
   "metadata": {},
   "source": [
    "#### ROC_AUC 그래프 시각화"
   ]
  },
  {
   "cell_type": "code",
   "execution_count": null,
   "metadata": {},
   "outputs": [],
   "source": [
    "def plot_roc_curves(models, X_test, y_test):\n",
    "    plt.figure(figsize=(10, 6))\n",
    "\n",
    "    for model_name, model in models.items():\n",
    "        pred_proba_c1 = model.predict_proba(X_test)[:, 1]\n",
    "        fprs, tprs, _ = roc_curve(y_test, pred_proba_c1)\n",
    "        roc_auc = roc_auc_score(y_test, pred_proba_c1)\n",
    "\n",
    "        plt.plot(fprs, tprs, label=f'{model_name} (ROC_AUC = {roc_auc:.2f})')\n",
    "\n",
    "    plt.plot([0, 1], [0, 1], 'k--', label='Random')\n",
    "    plt.xlim(0, 1)\n",
    "    plt.ylim(0, 1)\n",
    "    plt.xlabel('FPR (1 - Sensitivity)')\n",
    "    plt.ylabel('TPR (Recall)')\n",
    "    plt.title('ROC Curves for Multiple Models')\n",
    "    plt.legend()\n",
    "    plt.show()"
   ]
  },
  {
   "cell_type": "code",
   "execution_count": null,
   "metadata": {},
   "outputs": [],
   "source": [
    "from sklearn.tree import DecisionTreeClassifier\n",
    "from sklearn.ensemble import RandomForestClassifier\n",
    "from sklearn.linear_model import LogisticRegression\n",
    "\n",
    "# 결정 트리, 랜덤 포레스트, 로지스틱 회귀를 위한 사이킷런 Classifier 클래스 생성\n",
    "dt_clf = DecisionTreeClassifier(random_state=777)\n",
    "rf_clf = RandomForestClassifier(random_state=777)\n",
    "lr_clf = LogisticRegression(random_state=777)\n",
    "\n",
    "# x_train, x_val, y_train, y_val\n",
    "# X_train, X_test, y_train, y_test\n",
    "\n",
    "# DecisionTreeClassifier 학습/예측/평가\n",
    "dt_clf.fit(x_train, y_train)\n",
    "dt_pred = dt_clf.predict(x_val)\n",
    "print('🌲 DecisionTreeClassifier 평가\\n')\n",
    "get_classfication_evalulator(y_val, dt_pred)\n",
    "\n",
    "# RandomForestClassifier 학습/예측/평가\n",
    "rf_clf.fit(x_train, y_train)\n",
    "rf_pred = rf_clf.predict(x_val)\n",
    "print('🌳🌳 RandomForestClassifier 평가\\n')\n",
    "get_classfication_evalulator(y_val, rf_pred)\n",
    "\n",
    "\n",
    "# LogisticRegression 학습/예측/평가\n",
    "lr_clf.fit(x_train, y_train)\n",
    "lr_pred = lr_clf.predict(x_val)\n",
    "print('🧐 LogisticRegression 평가')\n",
    "get_classfication_evalulator(y_val, lr_pred)"
   ]
  },
  {
   "cell_type": "markdown",
   "metadata": {},
   "source": [
    "### 모델 성능 시각화\n",
    "\n",
    "- ROC_AUC는 일반적으로 1에 가까울수록 좋으므로, 0.83이 된 RandomForest가 좋음"
   ]
  },
  {
   "cell_type": "code",
   "execution_count": null,
   "metadata": {},
   "outputs": [],
   "source": [
    "models = {\n",
    "    'Logistic Regression': lr_clf,\n",
    "    'Decision Tree': dt_clf,\n",
    "    'Random Forest': rf_clf\n",
    "}\n",
    "\n",
    "plot_roc_curves(models, x_val, y_val)"
   ]
  },
  {
   "cell_type": "markdown",
   "metadata": {},
   "source": [
    "## 4. 모델 선택\n",
    "\n",
    "- 높은 모델인 RandomForestClassifier를 사용"
   ]
  },
  {
   "cell_type": "code",
   "execution_count": null,
   "metadata": {},
   "outputs": [],
   "source": [
    "# x_train, x_val, y_train, y_val\n",
    "# X_train, X_test, y_train, y_test\n",
    "### 전체 데이터 학습\n",
    "rf_clf.fit(X_train, Y_train)"
   ]
  },
  {
   "cell_type": "code",
   "execution_count": null,
   "metadata": {},
   "outputs": [],
   "source": [
    "\n"
   ]
  },
  {
   "attachments": {
    "image.png": {
     "image/png": "[encoded data removed]"
    }
   },
   "cell_type": "markdown",
   "metadata": {},
   "source": [
    "![image.png](attachment:image.png)"
   ]
  },
  {
   "cell_type": "markdown",
   "metadata": {},
   "source": [
    "## GridSearchCV 적용 대표 점수 및 전처리 방법 정리 Kaggle_Score 0.78468"
   ]
  },
  {
   "cell_type": "code",
   "execution_count": null,
   "metadata": {},
   "outputs": [],
   "source": [
    "train_df = pd.read_csv('train.csv')\n",
    "test_df = pd.read_csv('test.csv')\n",
    "combine = [train_df, test_df]\n",
    "all_df = pd.concat([train_df, test_df.reset_index(drop=True)], axis=0)\n",
    "\n",
    "# Embark 결측치 처리\n",
    "all_df['Embarked'] = all_df['Embarked'].fillna('S')\n",
    "train_df['Embarked'] = train_df['Embarked'].fillna('S')\n",
    "\n",
    "# 갑판을 바탕으로 범주화\n",
    "all_df['Deck'] = all_df.Cabin.apply(lambda x: str(x)[0])\n",
    "all_df['Deck']\n",
    "train_df['Deck'] = train_df.Cabin.apply(lambda x: str(x)[0])\n",
    "train_df['Deck']\n",
    "test_df['Deck'] = test_df.Cabin.apply(lambda x: str(x)[0])\n",
    "test_df['Deck']\n",
    "train_df = train_df.drop(['Cabin'], axis=1)\n",
    "test_df = test_df.drop(['Cabin'], axis=1)\n",
    "all_df = all_df.drop(['Cabin'], axis=1)\n",
    "\n",
    "train_df['Deck'] = train_df['Deck'].replace(['A','B','C'], 'ABC')\n",
    "train_df['Deck'] = train_df['Deck'].replace(['D','E'], 'DE')\n",
    "train_df['Deck'] = train_df['Deck'].replace(['F','G'], 'FG')\n",
    "train_df['Deck'] = train_df['Deck'].replace(['n','T'], 'NT')\n",
    "test_df['Deck'] = test_df['Deck'].replace(['A','B','C'], 'ABC')\n",
    "test_df['Deck'] = test_df['Deck'].replace(['D','E'], 'DE')\n",
    "test_df['Deck'] = test_df['Deck'].replace(['F','G'], 'FG')\n",
    "test_df['Deck'] = test_df['Deck'].replace('n', 'NT')\n",
    "\n",
    "# Age 결측치 처리\n",
    "all_df.loc[all_df.Age <= 1, 'Age'] = 1\n",
    "train_df.loc[train_df.Age <= 1, 'Age'] = 1\n",
    "test_df.loc[test_df.Age <= 1, 'Age'] = 1\n",
    "\n",
    "all_df['Age'].fillna(all_df['Age'].median(), inplace=True)\n",
    "train_df['Age'].fillna(train_df['Age'].median(), inplace=True)\n",
    "test_df['Age'].fillna(test_df['Age'].median(), inplace=True)\n",
    "\n",
    "all_df['Age'] = all_df['Age'].astype('int')\n",
    "train_df['Age'] = train_df['Age'].astype('int')\n",
    "test_df['Age'] = test_df['Age'].astype('int')\n",
    "\n",
    "# Fare 결측치 처리\n",
    "all_df['Fare'] = all_df['Fare'].fillna(7.4917)\n",
    "test_df['Fare'] = test_df['Fare'].fillna(7.4917)\n",
    "\n",
    "# 티켓 값 삭제\n",
    "all_df = all_df.drop(['Ticket'], axis=1)\n",
    "train_df = train_df.drop(['Ticket'], axis=1)\n",
    "test_df = test_df.drop(['Ticket'], axis=1)\n",
    "combine = [train_df, test_df]\n",
    "\n",
    "# 파생변수 변환과정\n",
    "\n",
    "# Name -> Title\n",
    "for dataset in combine:\n",
    "    dataset['Title'] = dataset.Name.str.extract(' ([A-Za-z]+)\\.', expand=False)\n",
    "\n",
    "for dataset in combine:\n",
    "    dataset['Title'] = dataset['Title'].replace(['Lady', 'Countess',\n",
    "                                                 'Capt', 'Col','Don',\n",
    "                                                 'Dr', 'Major', 'Rev',\n",
    "                                                 'Sir', 'Jonkheer', \n",
    "                                                 'Dona'], 'Rare')\n",
    "    dataset['Title'] = dataset['Title'].replace('Mlle', 'Miss')\n",
    "    dataset['Title'] = dataset['Title'].replace('Ms', 'Miss')\n",
    "    dataset['Title'] = dataset['Title'].replace('Mme', 'Mrs')\n",
    "\n",
    "train_df = train_df.drop(['Name', 'PassengerId'], axis=1)\n",
    "test_df = test_df.drop(['Name'], axis=1)\n",
    "combine = [train_df, test_df]\n",
    "\n",
    "# SibSp + Parch + 1 = Family, 1 -> Alone \n",
    "for dataset in combine:\n",
    "    dataset['Family'] = dataset['SibSp'] + dataset['Parch'] + 1\n",
    "\n",
    "for dataset in combine:\n",
    "    dataset['Alone'] = 0\n",
    "    dataset.loc[dataset['Family'] == 1, 'Alone'] = 1\n",
    "\n",
    "train_df = train_df.drop(['Parch', 'SibSp', 'Family'], axis=1)\n",
    "test_df = test_df.drop(['Parch', 'SibSp', 'Family'], axis=1)\n",
    "combine = [train_df, test_df]\n",
    "\n",
    "# Age -> Age 범주화\n",
    "# 동일 길이로 나누어서 범주를 만듦\n",
    "train_df['AgeBand'] = pd.cut(train_df['Age'], 5)\n",
    "for dataset in combine:    \n",
    "    dataset.loc[ dataset['Age'] <= 16, 'Age'] = 0\n",
    "    dataset.loc[(dataset['Age'] > 16) & (dataset['Age'] <= 32), 'Age'] = 1\n",
    "    dataset.loc[(dataset['Age'] > 32) & (dataset['Age'] <= 48), 'Age'] = 2\n",
    "    dataset.loc[(dataset['Age'] > 48) & (dataset['Age'] <= 64), 'Age'] = 3\n",
    "    dataset.loc[ dataset['Age'] > 64, 'Age']\n",
    "\n",
    "# AgeBand 삭제\n",
    "train_df = train_df.drop(['AgeBand'], axis=1)\n",
    "combine = [train_df, test_df]\n",
    "\n",
    "# Fare -> Fare 범주화 \n",
    "# 동일 개수로 나누어서 범주를 만듦\n",
    "train_df['FareBand'] = pd.qcut(train_df['Fare'], 4)\n",
    "for dataset in combine:\n",
    "    dataset.loc[ dataset['Fare'] <= 7.91, 'Fare'] = 0\n",
    "    dataset.loc[(dataset['Fare'] > 7.91) & (dataset['Fare'] <= 14.454), 'Fare']= 1\n",
    "    dataset.loc[(dataset['Fare'] > 14.454) & (dataset['Fare'] <= 31), 'Fare']  = 2\n",
    "    dataset.loc[ dataset['Fare'] > 31, 'Fare'] = 3\n",
    "    dataset['Fare'] = dataset['Fare'].astype(int)\n",
    "\n",
    "# FareBand 삭제\n",
    "train_df = train_df.drop(['FareBand'], axis=1)\n",
    "combine = [train_df, test_df]\n",
    "\n",
    "# 인코딩 작업\n",
    "\n",
    "# Pclass\n",
    "train_df['Pclass'] = train_df['Pclass'].map( {1 : 2, 2 : 1, 3 : 0} ).astype(int)\n",
    "test_df['Pclass'] = test_df['Pclass'].map( {1 : 2, 2 : 1, 3 : 0} ).astype(int)\n",
    "\n",
    "# 데이터 원핫 인코딩\n",
    "encoded_train_data = pd.get_dummies(train_df)\n",
    "encoded_test_data = pd.get_dummies(test_df)\n",
    "\n",
    "\n",
    "# 데이터 정규화\n",
    "from sklearn.preprocessing import StandardScaler, RobustScaler\n",
    "rs = RobustScaler()\n",
    "\n",
    "encoded_train_data_scaled = encoded_train_data.copy(deep=True)\n",
    "encoded_train_data_scaled[[\"Age_scaled\"]] = rs.fit_transform(encoded_train_data_scaled[[\"Age\"]])\n",
    "\n",
    "encoded_test_data_scaled = encoded_test_data.copy(deep=True)\n",
    "encoded_test_data_scaled[[\"Age_scaled\"]] = rs.fit_transform(encoded_test_data_scaled[[\"Age\"]])\n",
    "\n",
    "# Age 삭제\n",
    "encoded_train_data_scaled = encoded_train_data_scaled.drop(\"Age\", axis=1)\n",
    "encoded_test_data_scaled = encoded_test_data_scaled.drop(\"Age\", axis=1)\n",
    "\n",
    "\n",
    "# 데이터 분리 (학습 / 검증)\n",
    "X_train = encoded_train_data_scaled.drop(\"Survived\", axis=1)\n",
    "Y_train = encoded_train_data_scaled[\"Survived\"]\n",
    "X_test  = encoded_test_data_scaled.drop(\"PassengerId\", axis=1).copy()\n",
    "\n",
    "from sklearn.model_selection import train_test_split\n",
    "\n",
    "#train set 을 한번 더 나누어서 validation set 또한 만들어 낼 수 있습니다. \n",
    "x_train, x_val, y_train, y_val = train_test_split(X_train, Y_train, \n",
    "                                                  test_size=0.2, \n",
    "                                                  shuffle=True, random_state=777)\n",
    "\n",
    "\n",
    "## 모델 학습 및 평가 \n",
    "# 모델 성능 평가 함수\n",
    "from sklearn.metrics import accuracy_score, precision_score, recall_score, confusion_matrix, f1_score, roc_curve, roc_auc_score\n",
    "def get_classfication_evalulator(y_test, pred):\n",
    "    ## 오차행렬\n",
    "    confusion = confusion_matrix(y_test, pred)\n",
    "    ## 정확도\n",
    "    accuracy = accuracy_score(y_test, pred)\n",
    "    ## 정밀도\n",
    "    precision = precision_score(y_test, pred)\n",
    "    ## 재현율\n",
    "    recall = recall_score(y_test, pred)\n",
    "    ## F1 스코어\n",
    "    f1 = f1_score(y_test, pred)\n",
    "    print('------ 오차행렬 -------\\n', confusion)\n",
    "    print('\\n정확도(accuracy): {:.4f}, 정밀도(precision): {:.4f}, 재현율(recall): {:.4f}, F1: {:.4f}'.format(accuracy, precision, recall, f1))\n",
    "    print('---------------------\\n')\n",
    "    \n",
    "\n",
    "# ROC_AUC 그래프 시각화\n",
    "def plot_roc_curves(models, X_test, y_test):\n",
    "    plt.figure(figsize=(10, 6))\n",
    "\n",
    "    for model_name, model in models.items():\n",
    "        pred_proba_c1 = model.predict_proba(X_test)[:, 1]\n",
    "        fprs, tprs, _ = roc_curve(y_test, pred_proba_c1)\n",
    "        roc_auc = roc_auc_score(y_test, pred_proba_c1)\n",
    "\n",
    "        plt.plot(fprs, tprs, label=f'{model_name} (ROC_AUC = {roc_auc:.2f})')\n",
    "\n",
    "    plt.plot([0, 1], [0, 1], 'k--', label='Random')\n",
    "    plt.xlim(0, 1)\n",
    "    plt.ylim(0, 1)\n",
    "    plt.xlabel('FPR (1 - Sensitivity)')\n",
    "    plt.ylabel('TPR (Recall)')\n",
    "    plt.title('ROC Curves for Multiple Models')\n",
    "    plt.legend()\n",
    "    plt.show()"
   ]
  },
  {
   "cell_type": "code",
   "execution_count": null,
   "metadata": {},
   "outputs": [],
   "source": [
    "from sklearn.model_selection import GridSearchCV\n",
    "\n",
    "dt_param_grid = {\n",
    "    'max_depth': [2, 3, 5, 10],\n",
    "    'min_samples_split': [2, 3, 5],\n",
    "    'min_samples_leaf': [1, 5, 8]\n",
    "}\n",
    "\n",
    "rf_param_grid = {\n",
    "    'n_estimators': [50, 100, 200],\n",
    "    'max_depth': [None, 7, 10, 20],\n",
    "    'min_samples_split': [2, 3, 6],\n",
    "    'min_samples_leaf': [1, 5, 6, 8]\n",
    "}\n",
    "\n",
    "lr_param_grid = {\n",
    "    'C': [0.1, 1.0, 10.0],\n",
    "    'penalty': ['l1', 'l2'],\n",
    "    'max_iter': [500, 700, 1000]\n",
    "}\n",
    "\n",
    "\n",
    "grid_dt_clf = GridSearchCV(dt_clf, param_grid=dt_param_grid, scoring='accuracy', cv=5, n_jobs=-1)\n",
    "grid_rf_clf = GridSearchCV(rf_clf, param_grid=rf_param_grid, scoring='accuracy', cv=5, n_jobs=-1)\n",
    "grid_lr_clf = GridSearchCV(lr_clf, param_grid=lr_param_grid, scoring='accuracy', cv=5, n_jobs=-1)\n",
    "\n",
    "\n",
    "grid_dt_clf.fit(x_train, y_train)\n",
    "grid_rf_clf.fit(x_train, y_train)\n",
    "grid_lr_clf.fit(x_train, y_train)\n",
    "\n",
    "print('Decision Tree - GridSearchCV 최적 하이퍼 파라미터:', grid_dt_clf.best_params_)\n",
    "print('Decision Tree - GridSearchCV 최고 정확도: {0:.4f}'.format(grid_dt_clf.best_score_))\n",
    "\n",
    "print('Random Forest - GridSearchCV 최적 하이퍼 파라미터:', grid_rf_clf.best_params_)\n",
    "print('Random Forest - GridSearchCV 최고 정확도: {0:.4f}'.format(grid_rf_clf.best_score_))\n",
    "\n",
    "print('Logistic Regression - GridSearchCV 최적 하이퍼 파라미터:', grid_lr_clf.best_params_)\n",
    "print('Logistic Regression - GridSearchCV 최고 정확도: {0:.4f}'.format(grid_lr_clf.best_score_))\n",
    "\n",
    "\n",
    "best_dt_clf = grid_dt_clf.best_estimator_\n",
    "best_rf_clf = grid_rf_clf.best_estimator_\n",
    "best_lr_clf = grid_lr_clf.best_estimator_\n",
    "\n",
    "\n",
    "dt_predictions = best_dt_clf.predict(x_val)\n",
    "rf_predictions = best_rf_clf.predict(x_val)\n",
    "lr_predictions = best_lr_clf.predict(x_val)\n",
    "\n",
    "dt_accuracy = accuracy_score(y_val, dt_predictions)\n",
    "rf_accuracy = accuracy_score(y_val, rf_predictions)\n",
    "lr_accuracy = accuracy_score(y_val, lr_predictions)\n",
    "\n",
    "print('Decision Tree - 테스트셋에서 정확도: {0:.4f}'.format(dt_accuracy))\n",
    "print('Random Forest - 테스트셋에서 정확도: {0:.4f}'.format(rf_accuracy))\n",
    "print('Logistic Regression - 테스트셋에서 정확도: {0:.4f}'.format(lr_accuracy))"
   ]
  },
  {
   "cell_type": "code",
   "execution_count": null,
   "metadata": {},
   "outputs": [],
   "source": [
    "# DecisionTreeClassifier 학습/예측/평가\n",
    "\n",
    "print('🌲 DecisionTreeClassifier 평가\\n')\n",
    "get_classfication_evalulator(y_val, dt_predictions)\n",
    "\n",
    "# RandomForestClassifier 학습/예측/평가\n",
    "\n",
    "print('🌳🌳 RandomForestClassifier 평가\\n')\n",
    "get_classfication_evalulator(y_val, rf_predictions)\n",
    "\n",
    "# LogisticRegression 학습/예측/평가\n",
    "\n",
    "print('🧐 LogisticRegression 평가')\n",
    "get_classfication_evalulator(y_val, lr_predictions)"
   ]
  },
  {
   "cell_type": "code",
   "execution_count": null,
   "metadata": {},
   "outputs": [],
   "source": [
    "models = {\n",
    "    'Logistic Regression': best_lr_clf,\n",
    "    'Decision Tree': best_dt_clf,\n",
    "    'Random Forest': best_rf_clf\n",
    "}\n",
    "\n",
    "\n",
    "plot_roc_curves(models, x_val, y_val)"
   ]
  },
  {
   "cell_type": "code",
   "execution_count": null,
   "metadata": {},
   "outputs": [],
   "source": [
    "## best_rf_clf 로 예측\n",
    "pred = best_rf_clf.predict(X_test)\n",
    "\n",
    "\n",
    "## 예측 결과를 Survived 컬럼으로 입력한다.\n",
    "X_test['Survived'] = pred\n",
    "\n",
    "## 예측 결과를 PassengerId와 Survived 컬럼으로만 제한해 CSV 파일로 저장한다.\n",
    "X_test['PassengerId'] = test_df[\"PassengerId\"]\n",
    "submission = X_test[['PassengerId','Survived']]\n",
    "submission.to_csv('submission_baseline2.csv', index=False) \n",
    "\n",
    "## 0.78468 점수를 얻었다."
   ]
  },
  {
   "attachments": {
    "image.png": {
     "image/png": "[encoded data removed]"
    }
   },
   "cell_type": "markdown",
   "metadata": {},
   "source": [
    "![image.png](attachment:image.png)"
   ]
  },
  {
   "cell_type": "code",
   "execution_count": null,
   "metadata": {},
   "outputs": [],
   "source": [
    "# Pickle 형으로 모델을 꺼내는 joblib 사용하여 실제 모델을 배포할 수 있음\n",
    "\n",
    "import joblib\n",
    "\n",
    "joblib.dump(grid_rf_clf,'best_rf_model.pkl')\n",
    "# grid_rf_clf.predict(X,y)\n",
    "\n",
    "loaded_model = joblib.load('best_rf_model.pkl')\n",
    "\n",
    "score = loaded_model.score(X_train,Y_train)\n",
    "print('정확도: {score:.3f}'.format(score=score))"
   ]
  },
  {
   "cell_type": "code",
   "execution_count": null,
   "metadata": {},
   "outputs": [],
   "source": [
    "# 실제 인물 데이터를 넣으면 어떻게 되는지 정리 및 예측\n",
    "\n",
    "# 변환 작업 먼저 시행 필요\n",
    "\n",
    "# 실제 데이터\n",
    "# Pclass Name               Sex   Age SibSp Parch Ticket Fare Cabin Embarked\n",
    "# 3      Master.Jack Dawson male  20  0     0     Jack    8   None   S\n",
    "# 1      Miss. Rose DeWitt female 17  1     0     Rose   247  B58    C\n",
    "\n",
    "# 코딩\n",
    "# Pclass     Title       Sex   Age스케일링 Alone  Fare Deck      Embarked\n",
    "# 0      Title_Master Sex_male  1    1     1   Deck_NT   Embarked_S\n",
    "# 2      Title_Miss Sex_female 1    0     3  Deck_ABC    Embarked_C\n",
    "\n",
    "# 필요한 작업 \n",
    "# 1. 데이터가 들어오면 전처리 방식 그대로 스케일링 및 인코딩\n",
    "# 2. 이후 이에 따라 나온 값을 모델에 적용\n",
    "# 3. 모델에서 계산한 생존 확률을 바탕으로 고위험군 / 보통위험군 / 저위험군 같은 임계값 바탕 고객 정리표에 맞게 고객군을 정의함\n",
    "# 4. 정의한 고객군에 맞는 이미 가지고 있는 상품 리스트에서 가장 적합한 상품을 고르고\n",
    "# 5. 순위로 정렬하여 1순위는 가장 잘 맞는 상품을 올려서 사용자의 앞단에 보일 수 있게 함\n",
    "# 6. 고객이 이 상품을 구매할 수 있도록 유도함\n",
    "\n",
    "# Pclass Fare Alone Sex_female Sex_male Embarked_C\tEmbarked_Q\tEmbarked_S\t\n",
    "# Deck_ABC\tDeck_DE\tDeck_FG\tDeck_NT\t\n",
    "# Title_Master\tTitle_Miss\tTitle_Mr\tTitle_Mrs\tTitle_Rare\tAge_scaled\n",
    "# [[0, 1, 1, 0, 1, 0, 0, 1, 0, 0, 0, 1, 1, 0, 0, 0, 0, 1]]\n",
    "# [[2, 3, 0, 1, 0, 1, 0, 0, 1, 0, 0, 0, 0, 1, 0, 0, 0, 2]]\n",
    "\n",
    "Jack = np.array([[0, 1, 1, 0, 1, 0, 0, 1, 0, 0, 0, 1, 1, 0, 0, 0, 0, 1]])\n",
    "print('Jack :', grid_rf_clf.best_estimator_.predict_proba(Jack)[0, 1])\n",
    "\n",
    "Rose = np.array([[2, 3, 0, 1, 0, 1, 0, 0, 1, 0, 0, 0, 0, 1, 0, 0, 0, 2]])\n",
    "print('Rose :', grid_rf_clf.best_estimator_.predict_proba(Rose)[0, 1])"
   ]
  },
  {
   "cell_type": "markdown",
   "metadata": {},
   "source": [
    "## 전처리 다시 해서 -> 그리드 서치 적용"
   ]
  },
  {
   "cell_type": "code",
   "execution_count": null,
   "metadata": {},
   "outputs": [],
   "source": [
    "# data analysis and wrangling\n",
    "import pandas as pd\n",
    "import numpy as np\n",
    "import random\n",
    "\n",
    "# visualization\n",
    "import seaborn as sns\n",
    "import matplotlib.pyplot as plt\n",
    "%matplotlib inline\n",
    "\n",
    "# machine learning\n",
    "from sklearn.linear_model import LogisticRegression\n",
    "from sklearn.svm import SVC, LinearSVC\n",
    "from sklearn.ensemble import RandomForestClassifier\n",
    "from sklearn.neighbors import KNeighborsClassifier\n",
    "from sklearn.naive_bayes import GaussianNB\n",
    "from sklearn.linear_model import Perceptron\n",
    "from sklearn.linear_model import SGDClassifier\n",
    "from sklearn.tree import DecisionTreeClassifier\n",
    "\n",
    "# load dataset\n",
    "train_df = pd.read_csv('train.csv')\n",
    "test_df = pd.read_csv('test.csv')\n",
    "combine = [train_df, test_df]\n",
    "all_df = pd.concat([train_df, test_df.reset_index(drop=True)], axis=0)\n",
    "\n",
    "\n",
    "# Embark 결측치 처리\n",
    "all_df['Embarked'] = all_df['Embarked'].fillna('S')\n",
    "train_df['Embarked'] = train_df['Embarked'].fillna('S')\n",
    "\n",
    "# 갑판을 바탕으로 범주화 -> A B C D E F G T n\n",
    "all_df['Deck'] = all_df.Cabin.apply(lambda x: str(x)[0])\n",
    "all_df['Deck']\n",
    "train_df['Deck'] = train_df.Cabin.apply(lambda x: str(x)[0])\n",
    "train_df['Deck']\n",
    "test_df['Deck'] = test_df.Cabin.apply(lambda x: str(x)[0])\n",
    "test_df['Deck']\n",
    "train_df = train_df.drop(['Cabin'], axis=1)\n",
    "test_df = test_df.drop(['Cabin'], axis=1)\n",
    "all_df = all_df.drop(['Cabin'], axis=1)\n",
    "\n",
    "# 비슷한 특징 범주화 하지 말자\n",
    "# train_df['Deck'] = train_df['Deck'].replace(['A','B','C'], 'ABC')\n",
    "# train_df['Deck'] = train_df['Deck'].replace(['D','E'], 'DE')\n",
    "# train_df['Deck'] = train_df['Deck'].replace(['F','G'], 'FG')\n",
    "train_df['Deck'] = train_df['Deck'].replace(['n','T'], 'NT')\n",
    "# test_df['Deck'] = test_df['Deck'].replace(['A','B','C'], 'ABC')\n",
    "# test_df['Deck'] = test_df['Deck'].replace(['D','E'], 'DE')\n",
    "# test_df['Deck'] = test_df['Deck'].replace(['F','G'], 'FG')\n",
    "test_df['Deck'] = test_df['Deck'].replace('n', 'NT')\n",
    "\n",
    "# Age 결측치 처리\n",
    "\n",
    "# 0세는 1세로 변환\n",
    "all_df.loc[all_df.Age <= 1, 'Age'] = 1\n",
    "train_df.loc[train_df.Age <= 1, 'Age'] = 1\n",
    "test_df.loc[test_df.Age <= 1, 'Age'] = 1\n",
    "\n",
    "# median으로 처리\n",
    "all_df['Age'].fillna(all_df['Age'].median(), inplace=True)\n",
    "train_df['Age'].fillna(train_df['Age'].median(), inplace=True)\n",
    "test_df['Age'].fillna(test_df['Age'].median(), inplace=True)\n",
    "\n",
    "# float 형을 int형으로 변환하는데 반올림 자동 실행\n",
    "all_df['Age'] = all_df['Age'].astype('int')\n",
    "train_df['Age'] = train_df['Age'].astype('int')\n",
    "test_df['Age'] = test_df['Age'].astype('int')\n",
    "\n",
    "# Fare 결측치 처리 -> 평균으로 하였음\n",
    "all_df['Fare'] = all_df['Fare'].fillna(7.4917)\n",
    "test_df['Fare'] = test_df['Fare'].fillna(7.4917)\n",
    "\n",
    "# 티켓 값 삭제 -> 필요 없는 변수 삭제\n",
    "all_df = all_df.drop(['Ticket'], axis=1)\n",
    "train_df = train_df.drop(['Ticket'], axis=1)\n",
    "test_df = test_df.drop(['Ticket'], axis=1)\n",
    "combine = [train_df, test_df]\n",
    "\n",
    "# 파생변수 변환과정\n",
    "\n",
    "# Name -> Title re 정규식 문법 사용하여 변환\n",
    "for dataset in combine:\n",
    "    dataset['Title'] = dataset.Name.str.extract(' ([A-Za-z]+)\\.', expand=False)\n",
    "\n",
    "# 작은 값 가진 호칭은 너무 많아서 하나로 정리하기 Rare\n",
    "# Mrs, Miss, Master, Mr, Rare 5개 범주\n",
    "for dataset in combine:\n",
    "    dataset['Title'] = dataset['Title'].replace(['Lady', 'Countess',\n",
    "                                                 'Capt', 'Col','Don',\n",
    "                                                 'Dr', 'Major', 'Rev',\n",
    "                                                 'Sir', 'Jonkheer', \n",
    "                                                 'Dona'], 'Rare')\n",
    "    dataset['Title'] = dataset['Title'].replace('Mlle', 'Miss')\n",
    "    dataset['Title'] = dataset['Title'].replace('Ms', 'Miss')\n",
    "    dataset['Title'] = dataset['Title'].replace('Mme', 'Mrs')\n",
    "\n",
    "# train에서 PassengerId는 삭제하기\n",
    "# Name도 쓰임을 다해 삭제하기\n",
    "train_df = train_df.drop(['Name', 'PassengerId'], axis=1)\n",
    "test_df = test_df.drop(['Name'], axis=1)\n",
    "combine = [train_df, test_df]\n",
    "\n",
    "# SibSp + Parch + 1 = Family \n",
    "# Family는 0명이 많기 때문에 Alone으로 변환 2명 이상 시 0, 1명은 1로 코딩\n",
    "for dataset in combine:\n",
    "    dataset['Family'] = dataset['SibSp'] + dataset['Parch'] + 1\n",
    "\n",
    "for dataset in combine:\n",
    "    dataset['Alone'] = 0\n",
    "    dataset.loc[dataset['Family'] == 1, 'Alone'] = 1\n",
    "\n",
    "# SibSp, Parch, Family 삭제하기\n",
    "train_df = train_df.drop(['Parch', 'SibSp', 'Family'], axis=1)\n",
    "test_df = test_df.drop(['Parch', 'SibSp', 'Family'], axis=1)\n",
    "combine = [train_df, test_df]\n",
    "\n",
    "# Age -> Age 범주화 하지말기\n",
    "# train_df['AgeBand'] = pd.cut(train_df['Age'], 5)\n",
    "# for dataset in combine:\n",
    "#     dataset.loc[ dataset['Age'] <= 16, 'Age'] = 0\n",
    "#     dataset.loc[(dataset['Age'] > 16) & (dataset['Age'] <= 32), 'Age'] = 1\n",
    "#     dataset.loc[(dataset['Age'] > 32) & (dataset['Age'] <= 48), 'Age'] = 2\n",
    "#     dataset.loc[(dataset['Age'] > 48) & (dataset['Age'] <= 64), 'Age'] = 3\n",
    "#     dataset.loc[ dataset['Age'] > 64, 'Age']\n",
    "\n",
    "# AgeBand 삭제\n",
    "# train_df = train_df.drop(['AgeBand'], axis=1)\n",
    "# combine = [train_df, test_df]\n",
    "\n",
    "# Fare -> Fare 범주화\n",
    "# train_df['FareBand'] = pd.qcut(train_df['Fare'], 4)\n",
    "# for dataset in combine:\n",
    "#     dataset.loc[ dataset['Fare'] <= 7.91, 'Fare'] = 0\n",
    "#     dataset.loc[(dataset['Fare'] > 7.91) & (dataset['Fare'] <= 14.454), 'Fare']= 1\n",
    "#     dataset.loc[(dataset['Fare'] > 14.454) & (dataset['Fare'] <= 31), 'Fare']  = 2\n",
    "#     dataset.loc[ dataset['Fare'] > 31, 'Fare'] = 3\n",
    "#     dataset['Fare'] = dataset['Fare'].astype(int)\n",
    "\n",
    "# FareBand 삭제\n",
    "# train_df = train_df.drop(['FareBand'], axis=1)\n",
    "# combine = [train_df, test_df]\n",
    "\n",
    "# 인코딩 작업\n",
    "# 변수 정리\n",
    "# 종속변수\n",
    "\n",
    "# 범주형 int 생존 여부 [Survived] 0, 1\n",
    "\n",
    "# 독립변수 \n",
    "\n",
    "# - 수치형 2\n",
    "\n",
    "# Age 이산형 데이터 범위 min max 설명 피룡\n",
    "# Fare 이산형임 데이터 범위 min max 설명 필요\n",
    "\n",
    "# - 범주형 5\n",
    "\n",
    "# int 숫자형\n",
    "# Alone 0, 1                          :  동승자 여부 2명 이상 동승, 1명 승선, 서열 존재하지 않음\n",
    "# Pclass 0, 1, 2                      :  사회 경제적 지위 값 가격 3등실 , 2등실, 1등실, 서열 존재\n",
    "\n",
    "# object 문자형\n",
    "# Embarked S C Q                      :  S 영국 C 프랑스 Q 아일랜드, 서열 존재하지 않음\n",
    "# Deck A B C D E F G T n              :  갑판의 위치, n은 결측치, 서열 존재하지 않음\n",
    "# Title Mrs, Miss, Master, Mr, Rare   :  호칭, 서열 존재하지 않음\n",
    "\n",
    "# Pclass\n",
    "train_df['Pclass'] = train_df['Pclass'].map( {1 : 2, 2 : 1, 3 : 0} ).astype(int)\n",
    "test_df['Pclass'] = test_df['Pclass'].map( {1 : 2, 2 : 1, 3 : 0} ).astype(int)\n",
    "\n",
    "# 데이터 원핫 인코딩 -> 서열이 존재하지 않는 경우에 사용하기 때문에 원핫 인코딩 사용\n",
    "# 다중공선성 해결하기 위해 생성된 컬럼수 -1만큼의 컬럼만 사용해야 함\n",
    "# drop_first=True 옵션 필히 설정하기\n",
    "\n",
    "encoded_train_data = pd.get_dummies(train_df, drop_first=True)\n",
    "encoded_test_data = pd.get_dummies(test_df, drop_first=True)\n",
    "\n",
    "\n",
    "# 데이터 정규화 -> 이상치에 강한 정규화 방법 boxplot과 연관 있음, \n",
    "\n",
    "# Age와 Fare 값의 스케일이 다른 변수보다 커서 스케일링 시행함\n",
    "from sklearn.preprocessing import StandardScaler, RobustScaler\n",
    "rs = RobustScaler()\n",
    "\n",
    "# Age 스케일링\n",
    "\n",
    "encoded_train_data_scaled = encoded_train_data.copy(deep=True)\n",
    "encoded_train_data_scaled[[\"Age_scaled\"]] = rs.fit_transform(encoded_train_data_scaled[[\"Age\"]])\n",
    "\n",
    "encoded_test_data_scaled = encoded_test_data.copy(deep=True)\n",
    "encoded_test_data_scaled[[\"Age_scaled\"]] = rs.fit_transform(encoded_test_data_scaled[[\"Age\"]])\n",
    "\n",
    "# Age 삭제\n",
    "encoded_train_data_scaled = encoded_train_data_scaled.drop(\"Age\", axis=1)\n",
    "encoded_test_data_scaled = encoded_test_data_scaled.drop(\"Age\", axis=1)\n",
    "\n",
    "# Fare 스케일링\n",
    "\n",
    "encoded_train_data_scaled = encoded_train_data.copy(deep=True)\n",
    "encoded_train_data_scaled[[\"Fare_scaled\"]] = rs.fit_transform(encoded_train_data_scaled[[\"Fare\"]])\n",
    "\n",
    "encoded_test_data_scaled = encoded_test_data.copy(deep=True)\n",
    "encoded_test_data_scaled[[\"Fare_scaled\"]] = rs.fit_transform(encoded_test_data_scaled[[\"Fare\"]])\n",
    "\n",
    "# Fare 삭제\n",
    "encoded_train_data_scaled = encoded_train_data_scaled.drop(\"Fare\", axis=1)\n",
    "encoded_test_data_scaled = encoded_test_data_scaled.drop(\"Fare\", axis=1)\n",
    "\n",
    "\n",
    "# 데이터 분리 (학습 / 검증)\n",
    "X_train = encoded_train_data_scaled.drop(\"Survived\", axis=1)\n",
    "Y_train = encoded_train_data_scaled[\"Survived\"]\n",
    "X_test  = encoded_test_data_scaled.drop(\"PassengerId\", axis=1).copy()\n",
    "\n",
    "from sklearn.model_selection import train_test_split\n",
    "\n",
    "#train set 을 한번 더 나누어서 validation set 또한 만들어 낼 수 있습니다. \n",
    "x_train, x_val, y_train, y_val = train_test_split(X_train, Y_train, \n",
    "                                                  test_size=0.2, \n",
    "                                                  shuffle=True, random_state=777)\n",
    "\n",
    "\n",
    "## 모델 학습 및 평가 \n",
    "# 모델 성능 평가 함수\n",
    "from sklearn.metrics import accuracy_score, precision_score, recall_score, confusion_matrix, f1_score, roc_curve, roc_auc_score\n",
    "def get_classfication_evalulator(y_test, pred):\n",
    "    ## 오차행렬\n",
    "    confusion = confusion_matrix(y_test, pred)\n",
    "    ## 정확도\n",
    "    accuracy = accuracy_score(y_test, pred)\n",
    "    ## 정밀도\n",
    "    precision = precision_score(y_test, pred)\n",
    "    ## 재현율\n",
    "    recall = recall_score(y_test, pred)\n",
    "    ## F1 스코어\n",
    "    f1 = f1_score(y_test, pred)\n",
    "    print('------ 오차행렬 -------\\n', confusion)\n",
    "    print('\\n정확도(accuracy): {:.4f}, 정밀도(precision): {:.4f}, 재현율(recall): {:.4f}, F1: {:.4f}'.format(accuracy, precision, recall, f1))\n",
    "    print('---------------------\\n')\n",
    "    \n",
    "\n",
    "# ROC_AUC 그래프 시각화\n",
    "def plot_roc_curves(models, X_test, y_test):\n",
    "    plt.figure(figsize=(10, 6))\n",
    "\n",
    "    for model_name, model in models.items():\n",
    "        pred_proba_c1 = model.predict_proba(X_test)[:, 1]\n",
    "        fprs, tprs, _ = roc_curve(y_test, pred_proba_c1)\n",
    "        roc_auc = roc_auc_score(y_test, pred_proba_c1)\n",
    "\n",
    "        plt.plot(fprs, tprs, label=f'{model_name} (ROC_AUC = {roc_auc:.2f})')\n",
    "\n",
    "    plt.plot([0, 1], [0, 1], 'k--', label='Random')\n",
    "    plt.xlim(0, 1)\n",
    "    plt.ylim(0, 1)\n",
    "    plt.xlabel('FPR (1 - Sensitivity)')\n",
    "    plt.ylabel('TPR (Recall)')\n",
    "    plt.title('ROC Curves for Multiple Models')\n",
    "    plt.legend()\n",
    "    plt.show()"
   ]
  },
  {
   "cell_type": "code",
   "execution_count": null,
   "metadata": {},
   "outputs": [],
   "source": [
    "encoded_train_data_scaled.head(10)"
   ]
  },
  {
   "cell_type": "code",
   "execution_count": null,
   "metadata": {},
   "outputs": [],
   "source": [
    "encoded_train_data_scaled.columns # 총 23개의 변수 생성"
   ]
  },
  {
   "cell_type": "code",
   "execution_count": null,
   "metadata": {},
   "outputs": [],
   "source": [
    "# 최종적으로 분할된 각 test, validation, test set 을 모두 출력 \n",
    "print(\"x_train:\", x_train)\n",
    "print(\"y_train:\", y_train)\n",
    "print(\"x_val:\", x_val)\n",
    "print(\"y_val:\", y_val)\n",
    "print(\"X_test:\", X_test)"
   ]
  },
  {
   "cell_type": "markdown",
   "metadata": {},
   "source": [
    "### 하이퍼 파라미터 튜닝 ㄱ"
   ]
  },
  {
   "cell_type": "code",
   "execution_count": null,
   "metadata": {},
   "outputs": [],
   "source": [
    "from traitlets.config.application import Application\n",
    "from sklearn.tree import DecisionTreeClassifier\n",
    "from sklearn.ensemble import RandomForestClassifier\n",
    "from sklearn.linear_model import LogisticRegression\n",
    "from lightgbm import LGBMClassifier\n",
    "from xgboost import XGBClassifier\n",
    "\n",
    "# boosting_type: str = 'gbdt', num_leaves: int = 31, max_depth: int = -1, learning_rate: float = 0.1, n_estimators: int = 100, subsample_for_bin: int = 200000, objective: _LGBM_ScikitCustomObjectiveFunction | str | None = None, class_weight: Dict[Unknown, Unknown] | str | None = None, min_split_gain: float = 0, min_child_weight: float = 0.001, min_child_samples: int = 20, subsample: float = 1, subsample_freq: int = 0, colsample_bytree: float = 1, reg_alpha: float = 0, reg_lambda: float = 0, random_state: int | RandomState | None = None, n_jobs: int | None = None, importance_type: str = 'split', **kwargs: Unknown)\n",
    "# https://blog.naver.com/diana-0/223153560097\n",
    "# \n",
    "\n",
    "# 결정 트리, 랜덤 포레스트, 로지스틱 회귀를 위한 사이킷런 Classifier 클래스 생성\n",
    "# 그래디언트 부스팅 발전 버전인 xgboost와 더 속도 높은 lightgbm 사용해보기\n",
    "\n",
    "lg_clf = LGBMClassifier(random_state=777,application='binary', metric='accuracy')\n",
    "xg_clf = XGBClassifier(random_state=777)\n",
    "dt_clf = DecisionTreeClassifier(random_state=777)\n",
    "rf_clf = RandomForestClassifier(random_state=777)\n",
    "lr_clf = LogisticRegression(random_state=777)\n",
    "\n",
    "# x_train, x_val, y_train, y_val\n",
    "# X_train, X_test, y_train, y_test\n",
    "\n",
    "# XgboostClassifier 학습/예측/평가\n",
    "xg_clf.fit(x_train, y_train)\n",
    "xg_pred = xg_clf.predict(x_val)\n",
    "print('🌲 XGBClassifier 평가\\n')\n",
    "get_classfication_evalulator(y_val, xg_pred)\n",
    "\n",
    "# lightGBMClassifier 학습/예측/평가\n",
    "lg_clf.fit(x_train, y_train)\n",
    "lg_pred = lg_clf.predict(x_val)\n",
    "print('🌲 LGBMClassifier 평가\\n')\n",
    "get_classfication_evalulator(y_val, lg_pred)\n",
    "\n",
    "# DecisionTreeClassifier 학습/예측/평가\n",
    "dt_clf.fit(x_train, y_train)\n",
    "dt_pred = dt_clf.predict(x_val)\n",
    "print('🌲 DecisionTreeClassifier 평가\\n')\n",
    "get_classfication_evalulator(y_val, dt_pred)\n",
    "\n",
    "# RandomForestClassifier 학습/예측/평가\n",
    "rf_clf.fit(x_train, y_train)\n",
    "rf_pred = rf_clf.predict(x_val)\n",
    "print('🌳🌳 RandomForestClassifier 평가\\n')\n",
    "get_classfication_evalulator(y_val, rf_pred)\n",
    "\n",
    "# LogisticRegression 학습/예측/평가\n",
    "lr_clf.fit(x_train, y_train)\n",
    "lr_pred = lr_clf.predict(x_val)\n",
    "print('🧐 LogisticRegression 평가')\n",
    "get_classfication_evalulator(y_val, lr_pred)"
   ]
  },
  {
   "cell_type": "code",
   "execution_count": null,
   "metadata": {},
   "outputs": [],
   "source": [
    "from sklearn.model_selection import GridSearchCV\n",
    "from sklearn.model_selection import RandomizedSearchCV\n",
    "\n",
    "xg_param_grid = {\n",
    "    \"max_depth\": [10,30,50],\n",
    "    \"min_child_weight\" : [1,3,6,10],\n",
    "    \"n_estimators\": [200,300,500,1000],\n",
    "     'colsample_bytree':[0.5, 0.75]\n",
    "              } \n",
    "\n",
    "# https://knowallworld.tistory.com/448\n",
    "lg_param_grid = {\n",
    "    'max_depth': [3, 4],                        # 트리의 최대 깊이\n",
    "    'learning_rate': [0.01, 0.05],               # 학습률\n",
    "    'n_estimators': [200, 300, 400],             # 트리의 개수\n",
    "    'min_child_samples': [1, 2, 3, 4],           # 리프 노드에 필요한 최소 샘플 수\n",
    "    'subsample': [0.05, 0.01],                   # 트리를 학습할 때 사용할 샘플링 비율\n",
    "    'colsample_bytree': [0.8,0.9, 1],                # 트리를 학습할 때 사용할 특성의 비율\n",
    "    'reg_alpha': [0.1,0.2],                     # L1 정규화 항의 가중치\n",
    "    'reg_lambda': [0.0, 0.1],                         # L2 정규화 항의 가중치\n",
    "    #'ManchesterUNITED': [2, 3]                   # 유효하지 않은 매개변수 (무시됨)\n",
    "}\n",
    "\n",
    "# https://knowallworld.tistory.com/447\n",
    "dt_param_grid = {\n",
    "    'max_depth': [2, 3, 5, 10],                        # 의사결정트리의 최대 깊이\n",
    "    'min_samples_split': [1, 2, 3, 5, 7, 10],            # 노드를 분할하기 위한 최소 샘플 수\n",
    "    'min_samples_leaf': [0, 1, 2, 3, 4, 5, 6],           # 리프 노드에 필요한 최소 샘플 수\n",
    "    'ccp_alpha': [0.0, 0.1, 0.2],                     # Cost-Complexity Pruning (CCP) 알고리즘에 대한 복잡성 매개변수\n",
    "    # 'class_weight': [None, 'balanced'],               # 클래스별 가중치 (None: 균등한 가중치, 'balanced': 불균등한 가중치)\n",
    "    'criterion': ['gini', 'entropy'],                  # 불순도(impurity) 계산에 사용할 기준 ('gini': Gini 불순도, 'entropy': 엔트로피)\n",
    "    # 'max_features': ['auto', 'sqrt', 'log2', None],    # 각 분할에서 고려할 최대 특성 개수 ('auto': sqrt(features), 'sqrt': sqrt(features), 'log2': log2(features), None: 모든 특성)\n",
    "    'max_leaf_nodes': [1, 5, 10, 15],               # 리프 노드의 최대 개수 (None: 제한 없음, 정수 값: 리프 노드의 최대 개수)\n",
    "    # 'min_impurity_decrease': [0.0, 0.1, 0.2],          # 분할 기준으로서 필요한 최소 불순도 감소량\n",
    "    # 'min_weight_fraction_leaf': [0.0, 0.1, 0.2],       # 리프 노드의 최소 가중치 비율\n",
    "    'random_state': [42],                              # 난수 발생 시드 값\n",
    "    'splitter': ['best', 'random']                     # 분할 기준을 선택하는 전략 ('best': 최적의 분할, 'random': 무작위 분할)\n",
    "}\n",
    "\n",
    "rf_param_grid = {\n",
    "    'n_estimators': [50, 100, 200],\n",
    "    'max_depth': [None, 7, 10, 20],\n",
    "    'min_samples_split': [2, 3, 6],\n",
    "    'min_samples_leaf': [1, 5, 6, 8]\n",
    "}\n",
    "\n",
    "# https://knowallworld.tistory.com/446\n",
    "lr_param_grid = {\n",
    "    'penalty': ['l1', 'l2'],                      # 규제 유형 ('l1': L1 규제, 'l2': L2 규제)\n",
    "    'C': [0.1, 1.0, 10.0],                        # 규제 강도의 역수 (값이 작을수록 강한 규제)\n",
    "    'solver': ['lbfgs', 'newton-cg', 'saga'],      # 최적화에 사용할 알고리즘\n",
    "    'max_iter': [500, 700, 1000],                 # 최대 반복 횟수\n",
    "    'class_weight': [None, 'balanced'],            # 클래스 가중치 (None: 균등한 가중치, 'balanced': 불균등한 가중치)\n",
    "    'dual': [True, False],                         # 이중 문제 유형 (True: 이중 문제 사용, False: 원 문제 사용)\n",
    "    # 'fit_intercept': [True, False],                # 절편(intercept) 학습 여부\n",
    "    # 'intercept_scaling': [1, 2, 3],                # 절편의 스케일링 비율\n",
    "    # 'l1_ratio': [None, 0.2, 0.5],                  # L1 규제와 L2 규제 사이의 혼합 비율\n",
    "    # 'multi_class': ['auto', 'ovr', 'multinomial'], # 다중 클래스 처리 방법 ('auto': 자동 선택, 'ovr': 일대다, 'multinomial': 다항 분류)\n",
    "    'n_jobs': [None, -1],                          # 병렬 처리에 사용할 CPU 코어 수 (None: 1개, -1: 모든 코어)\n",
    "    'random_state': [42],                          # 난수 발생 시드 값\n",
    "    'tol': [0.0001, 0.001, 0.01],                  # 수렴 기준 (작을수록 더 정밀한 계산)\n",
    "    # 'verbose': [0, 1, 2],                          # 출력 메시지 레벨 (0: 출력 없음, 1: 진행 상황 메시지, 2: 모든 메시지)\n",
    "    # 'warm_start': [True, False]                    # 이전 학습 결과를 재사용하여 학습 계속 여부\n",
    "}\n",
    "\n",
    "grid_lg_clf = GridSearchCV(lg_clf, param_grid=lg_param_grid, \n",
    "                           scoring='accuracy', refit=True, cv=5, n_jobs=-1)\n",
    "grid_xg_clf = GridSearchCV(xg_clf, param_grid=xg_param_grid, \n",
    "                           scoring='accuracy', refit=True, cv=5, n_jobs=-1)\n",
    "grid_dt_clf = GridSearchCV(dt_clf, param_grid=dt_param_grid, \n",
    "                           scoring='accuracy', refit=True, cv=5, n_jobs=-1)\n",
    "grid_rf_clf = GridSearchCV(rf_clf, param_grid=rf_param_grid, \n",
    "                           scoring='accuracy', refit=True, cv=5, n_jobs=-1)\n",
    "grid_lr_clf = GridSearchCV(lr_clf, param_grid=lr_param_grid, \n",
    "                           scoring='accuracy', refit=True, cv=5, n_jobs=-1)\n",
    "\n",
    "grid_lg_clf.fit(x_train, y_train)\n",
    "grid_xg_clf.fit(x_train, y_train)\n",
    "grid_dt_clf.fit(x_train, y_train)\n",
    "grid_rf_clf.fit(x_train, y_train)\n",
    "grid_lr_clf.fit(x_train, y_train)\n",
    "\n",
    "print('XGBClassifier - GridSearchCV 최적 하이퍼 파라미터:', grid_xg_clf.best_params_)\n",
    "print('XGBClassifier - GridSearchCV 최고 정확도: {0:.4f}'.format(grid_xg_clf.best_score_))\n",
    "\n",
    "print('LGBMClassifier - GridSearchCV 최적 하이퍼 파라미터:', grid_lg_clf.best_params_)\n",
    "print('LGBMClassifier - GridSearchCV 최고 정확도: {0:.4f}'.format(grid_lg_clf.best_score_))\n",
    "\n",
    "print('Decision Tree - GridSearchCV 최적 하이퍼 파라미터:', grid_dt_clf.best_params_)\n",
    "print('Decision Tree - GridSearchCV 최고 정확도: {0:.4f}'.format(grid_dt_clf.best_score_))\n",
    "\n",
    "print('Random Forest - GridSearchCV 최적 하이퍼 파라미터:', grid_rf_clf.best_params_)\n",
    "print('Random Forest - GridSearchCV 최고 정확도: {0:.4f}'.format(grid_rf_clf.best_score_))\n",
    "\n",
    "print('Logistic Regression - GridSearchCV 최적 하이퍼 파라미터:', grid_lr_clf.best_params_)\n",
    "print('Logistic Regression - GridSearchCV 최고 정확도: {0:.4f}'.format(grid_lr_clf.best_score_))\n",
    "\n",
    "best_lg_clf = grid_lg_clf.best_estimator_\n",
    "best_xg_clf = grid_xg_clf.best_estimator_\n",
    "best_dt_clf = grid_dt_clf.best_estimator_\n",
    "best_rf_clf = grid_rf_clf.best_estimator_\n",
    "best_lr_clf = grid_lr_clf.best_estimator_\n",
    "\n",
    "lg_predictions = best_lg_clf.predict(x_val)\n",
    "xg_predictions = best_xg_clf.predict(x_val)\n",
    "dt_predictions = best_dt_clf.predict(x_val)\n",
    "rf_predictions = best_rf_clf.predict(x_val)\n",
    "lr_predictions = best_lr_clf.predict(x_val)\n",
    "\n",
    "lg_accuracy = accuracy_score(y_val, lg_predictions)\n",
    "xg_accuracy = accuracy_score(y_val, xg_predictions)\n",
    "dt_accuracy = accuracy_score(y_val, dt_predictions)\n",
    "rf_accuracy = accuracy_score(y_val, rf_predictions)\n",
    "lr_accuracy = accuracy_score(y_val, lr_predictions)\n",
    "\n",
    "print('XGBClassifier - 테스트셋에서 정확도: {0:.4f}'.format(xg_accuracy))\n",
    "print('LGBMClassifier - 테스트셋에서 정확도: {0:.4f}'.format(lg_accuracy))\n",
    "print('Decision Tree - 테스트셋에서 정확도: {0:.4f}'.format(dt_accuracy))\n",
    "print('Random Forest - 테스트셋에서 정확도: {0:.4f}'.format(rf_accuracy))\n",
    "print('Logistic Regression - 테스트셋에서 정확도: {0:.4f}'.format(lr_accuracy))"
   ]
  },
  {
   "cell_type": "code",
   "execution_count": null,
   "metadata": {},
   "outputs": [],
   "source": [
    "models = {\n",
    "    'LGBMClassifier': best_lg_clf,\n",
    "    'XGBClassifier': best_xg_clf,\n",
    "    'Logistic Regression': best_lr_clf,\n",
    "    'Decision Tree': best_dt_clf,\n",
    "    'Random Forest': best_rf_clf\n",
    "}\n",
    "\n",
    "plot_roc_curves(models, x_val, y_val)"
   ]
  },
  {
   "cell_type": "code",
   "execution_count": null,
   "metadata": {},
   "outputs": [],
   "source": [
    "# x_train, x_val, y_train, y_val\n",
    "# X_train, X_test, y_train, y_test\n",
    "### 전체 데이터 학습\n",
    "rf_clf.fit(X_train, Y_train)"
   ]
  },
  {
   "cell_type": "code",
   "execution_count": null,
   "metadata": {},
   "outputs": [],
   "source": [
    "X_test\n",
    "\n",
    "## 예측을 수행한다.\n",
    "pred = rf_clf.predict(X_test)\n",
    "\n",
    "## 예측 결과를 Survived 컬럼으로 입력한다.\n",
    "X_test['Survived'] = pred\n",
    "\n",
    "## 예측 결과를 PassengerId와 Survived 컬럼으로만 제한해 CSV 파일로 저장한다.\n",
    "X_test['PassengerId'] = test_df[\"PassengerId\"]\n",
    "submission = X_test[['PassengerId','Survived']]\n",
    "submission.to_csv('Pycaret_Classification_titanic_mono_model_result231017_AFDmod.csv', index=False) "
   ]
  },
  {
   "attachments": {
    "image.png": {
     "image/png": "[encoded data removed]"
    }
   },
   "cell_type": "markdown",
   "metadata": {},
   "source": [
    "![image.png](attachment:image.png)"
   ]
  },
  {
   "cell_type": "markdown",
   "metadata": {},
   "source": [
    "## 이를 통해 알 수 있었던 것: 앙상블이 답이 아닐 수 있음"
   ]
  },
  {
   "cell_type": "markdown",
   "metadata": {},
   "source": [
    "* 일단 Age, Fare 범주형 변환 시행하지 말고, \n",
    "\n",
    "* Age, Fare 스케일링하고\n",
    "\n",
    "* Deck 범주형 2번 변환 하지 말고 시행해보기\n",
    "\n",
    "> * 원핫인코딩의 이점\n",
    "> * 인코딩된 벡터는 직관적으로 이해하기 쉽다.\n",
    "> * 각 범주가 하나의 차원을 나타내므로 범주의 의미를 보존함\n",
    "\n",
    "> * 단점\n",
    "\n",
    "> 메모리 증가\n",
    "> * 범주의 수가 많고 데이터가 희소한 경우에는 벡터의 크기가 커질 수 있어 메모리와 계산 비용이 증가\n",
    "\n",
    "> 정보 손실\n",
    "> * 범주 간의 관계를 고려하지 않기 때문에 일부 정보가 손실될 수 있습니다.\n",
    "\n",
    "> 그렇다면 나는 라벨 인코딩을 해보려 함\n",
    "\n",
    "바로 실행해보기"
   ]
  },
  {
   "cell_type": "code",
   "execution_count": null,
   "metadata": {},
   "outputs": [],
   "source": [
    "# data analysis and wrangling\n",
    "import pandas as pd\n",
    "import numpy as np\n",
    "import random\n",
    "\n",
    "# visualization\n",
    "import seaborn as sns\n",
    "import matplotlib.pyplot as plt\n",
    "%matplotlib inline\n",
    "\n",
    "# machine learning\n",
    "from sklearn.linear_model import LogisticRegression\n",
    "from sklearn.svm import SVC, LinearSVC\n",
    "from sklearn.ensemble import RandomForestClassifier\n",
    "from sklearn.neighbors import KNeighborsClassifier\n",
    "from sklearn.naive_bayes import GaussianNB\n",
    "from sklearn.linear_model import Perceptron\n",
    "from sklearn.linear_model import SGDClassifier\n",
    "from sklearn.tree import DecisionTreeClassifier\n",
    "\n",
    "# load dataset\n",
    "train_df = pd.read_csv('train.csv')\n",
    "test_df = pd.read_csv('test.csv')\n",
    "combine = [train_df, test_df]\n",
    "all_df = pd.concat([train_df, test_df.reset_index(drop=True)], axis=0)\n",
    "\n",
    "\n",
    "# Embark 결측치 처리\n",
    "all_df['Embarked'] = all_df['Embarked'].fillna('S')\n",
    "train_df['Embarked'] = train_df['Embarked'].fillna('S')\n",
    "\n",
    "# 갑판을 바탕으로 범주화 -> A B C D E F G T n\n",
    "all_df['Deck'] = all_df.Cabin.apply(lambda x: str(x)[0])\n",
    "all_df['Deck']\n",
    "train_df['Deck'] = train_df.Cabin.apply(lambda x: str(x)[0])\n",
    "train_df['Deck']\n",
    "test_df['Deck'] = test_df.Cabin.apply(lambda x: str(x)[0])\n",
    "test_df['Deck']\n",
    "train_df = train_df.drop(['Cabin'], axis=1)\n",
    "test_df = test_df.drop(['Cabin'], axis=1)\n",
    "all_df = all_df.drop(['Cabin'], axis=1)\n",
    "\n",
    "# 비슷한 특징 범주화 하지 말자\n",
    "# train_df['Deck'] = train_df['Deck'].replace(['A','B','C'], 'ABC')\n",
    "# train_df['Deck'] = train_df['Deck'].replace(['D','E'], 'DE')\n",
    "# train_df['Deck'] = train_df['Deck'].replace(['F','G'], 'FG')\n",
    "# train_df['Deck'] = train_df['Deck'].replace(['n','T'], 'NT')\n",
    "# test_df['Deck'] = test_df['Deck'].replace(['A','B','C'], 'ABC')\n",
    "# test_df['Deck'] = test_df['Deck'].replace(['D','E'], 'DE')\n",
    "# test_df['Deck'] = test_df['Deck'].replace(['F','G'], 'FG')\n",
    "# test_df['Deck'] = test_df['Deck'].replace('n', 'NT')\n",
    "\n",
    "# Age 결측치 처리\n",
    "\n",
    "# 0세는 1세로 변환\n",
    "all_df.loc[all_df.Age <= 1, 'Age'] = 1\n",
    "train_df.loc[train_df.Age <= 1, 'Age'] = 1\n",
    "test_df.loc[test_df.Age <= 1, 'Age'] = 1\n",
    "\n",
    "# median으로 처리\n",
    "all_df['Age'].fillna(all_df['Age'].median(), inplace=True)\n",
    "train_df['Age'].fillna(train_df['Age'].median(), inplace=True)\n",
    "test_df['Age'].fillna(test_df['Age'].median(), inplace=True)\n",
    "\n",
    "# float 형을 int형으로 변환하는데 반올림 자동 실행\n",
    "all_df['Age'] = all_df['Age'].astype('int')\n",
    "train_df['Age'] = train_df['Age'].astype('int')\n",
    "test_df['Age'] = test_df['Age'].astype('int')\n",
    "\n",
    "# Fare 결측치 처리 -> 평균으로 하였음\n",
    "all_df['Fare'] = all_df['Fare'].fillna(7.4917)\n",
    "test_df['Fare'] = test_df['Fare'].fillna(7.4917)\n",
    "\n",
    "# 티켓 값 삭제 -> 필요 없는 변수 삭제\n",
    "all_df = all_df.drop(['Ticket'], axis=1)\n",
    "train_df = train_df.drop(['Ticket'], axis=1)\n",
    "test_df = test_df.drop(['Ticket'], axis=1)\n",
    "combine = [train_df, test_df]\n",
    "\n",
    "# 파생변수 변환과정\n",
    "\n",
    "# Name -> Title re 정규식 문법 사용하여 변환\n",
    "for dataset in combine:\n",
    "    dataset['Title'] = dataset.Name.str.extract(' ([A-Za-z]+)\\.', expand=False)\n",
    "\n",
    "# 작은 값 가진 호칭은 너무 많아서 하나로 정리하기 Rare\n",
    "# Mrs, Miss, Master, Mr, Rare 5개 범주\n",
    "for dataset in combine:\n",
    "    dataset['Title'] = dataset['Title'].replace(['Lady', 'Countess',\n",
    "                                                 'Capt', 'Col','Don',\n",
    "                                                 'Dr', 'Major', 'Rev',\n",
    "                                                 'Sir', 'Jonkheer', \n",
    "                                                 'Dona'], 'Rare')\n",
    "    dataset['Title'] = dataset['Title'].replace('Mlle', 'Miss')\n",
    "    dataset['Title'] = dataset['Title'].replace('Ms', 'Miss')\n",
    "    dataset['Title'] = dataset['Title'].replace('Mme', 'Mrs')\n",
    "\n",
    "# train에서 PassengerId는 삭제하기\n",
    "# Name도 쓰임을 다해 삭제하기\n",
    "train_df = train_df.drop(['Name', 'PassengerId'], axis=1)\n",
    "test_df = test_df.drop(['Name'], axis=1)\n",
    "combine = [train_df, test_df]\n",
    "\n",
    "# SibSp + Parch + 1 = Family \n",
    "# Family는 0명이 많기 때문에 Alone으로 변환 2명 이상 시 0, 1명은 1로 코딩\n",
    "for dataset in combine:\n",
    "    dataset['Family'] = dataset['SibSp'] + dataset['Parch'] + 1\n",
    "\n",
    "for dataset in combine:\n",
    "    dataset['Alone'] = 0\n",
    "    dataset.loc[dataset['Family'] == 1, 'Alone'] = 1\n",
    "\n",
    "# SibSp, Parch, Family 삭제하기\n",
    "train_df = train_df.drop(['Parch', 'SibSp', 'Family'], axis=1)\n",
    "test_df = test_df.drop(['Parch', 'SibSp', 'Family'], axis=1)\n",
    "combine = [train_df, test_df]\n",
    "\n",
    "# Age -> Age 범주화 하지말기\n",
    "# train_df['AgeBand'] = pd.cut(train_df['Age'], 5)\n",
    "# for dataset in combine:\n",
    "#     dataset.loc[ dataset['Age'] <= 16, 'Age'] = 0\n",
    "#     dataset.loc[(dataset['Age'] > 16) & (dataset['Age'] <= 32), 'Age'] = 1\n",
    "#     dataset.loc[(dataset['Age'] > 32) & (dataset['Age'] <= 48), 'Age'] = 2\n",
    "#     dataset.loc[(dataset['Age'] > 48) & (dataset['Age'] <= 64), 'Age'] = 3\n",
    "#     dataset.loc[ dataset['Age'] > 64, 'Age']\n",
    "\n",
    "# AgeBand 삭제\n",
    "# train_df = train_df.drop(['AgeBand'], axis=1)\n",
    "# combine = [train_df, test_df]\n",
    "\n",
    "# Fare -> Fare 범주화\n",
    "# train_df['FareBand'] = pd.qcut(train_df['Fare'], 4)\n",
    "# for dataset in combine:\n",
    "#     dataset.loc[ dataset['Fare'] <= 7.91, 'Fare'] = 0\n",
    "#     dataset.loc[(dataset['Fare'] > 7.91) & (dataset['Fare'] <= 14.454), 'Fare']= 1\n",
    "#     dataset.loc[(dataset['Fare'] > 14.454) & (dataset['Fare'] <= 31), 'Fare']  = 2\n",
    "#     dataset.loc[ dataset['Fare'] > 31, 'Fare'] = 3\n",
    "#     dataset['Fare'] = dataset['Fare'].astype(int)\n",
    "\n",
    "# FareBand 삭제\n",
    "# train_df = train_df.drop(['FareBand'], axis=1)\n",
    "# combine = [train_df, test_df]\n",
    "\n",
    "# 인코딩 작업\n",
    "# 변수 정리\n",
    "# 종속변수\n",
    "\n",
    "# 범주형 int 생존 여부 [Survived] 0, 1\n",
    "\n",
    "# 독립변수 \n",
    "\n",
    "# - 수치형 2\n",
    "\n",
    "# Age 이산형 데이터 범위 min max 설명 피룡\n",
    "# Fare 이산형임 데이터 범위 min max 설명 필요\n",
    "\n",
    "# - 범주형 5\n",
    "\n",
    "# int 숫자형\n",
    "# Alone 0, 1                          :  동승자 여부 2명 이상 동승, 1명 승선, 서열 존재하지 않음\n",
    "# Pclass 0, 1, 2                      :  사회 경제적 지위 값 가격 3등실 , 2등실, 1등실, 서열 존재\n",
    "\n",
    "# object 문자형\n",
    "# Embarked S C Q                      :  S 영국 C 프랑스 Q 아일랜드, 서열 존재하지 않음\n",
    "# Deck A B C D E F G nT               :  갑판의 위치, n은 결측치, 서열 존재하지 않음\n",
    "# Title Mrs, Miss, Master, Mr, Rare   :  호칭, 서열 존재하지 않음\n",
    "\n",
    "# 데이터 원핫 인코딩 -> 서열이 존재하지 않는 경우에 사용하기 때문에 원핫 인코딩 사용\n",
    "# 다중공선성 해결하기 위해 생성된 컬럼수 -1만큼의 컬럼만 사용해야 함\n",
    "# drop_first=True 옵션 필히 설정하기\n",
    "\n",
    "# encoded_train_data = pd.get_dummies(train_df, drop_first=True)\n",
    "# encoded_test_data = pd.get_dummies(test_df, drop_first=True)\n",
    "\n",
    "# https://towardsdatascience.com/one-hot-encoding-is-making-your-tree-based-ensembles-worse-heres-why-d64b282b5769\n",
    "# 그러나!!! 결정트리에서는 이러한 숫자의 특성을 반영을 하지 않아 사용하기 적절하다는 것이 중론...\n",
    "# (특히 gradient Boosting Decison tree에서는 Label encoder 기법이 기본적인 방법\n",
    "# 진짜인지 실험해보자\n",
    "\n",
    "# 범주형 변수 인코딩 -> 라벨 인코딩 안 돼서 손으로 함\n",
    "\n",
    "# Sex\n",
    "train_df['Sex'] = train_df['Sex'].map( {'female' : 0, 'male' : 1} ).astype(int)\n",
    "test_df['Sex'] = test_df['Sex'].map( {'female' : 0, 'male' : 1} ).astype(int)\n",
    "\n",
    "# Pclass\n",
    "train_df['Pclass'] = train_df['Pclass'].map( {1 : 2, 2 : 1, 3 : 0} ).astype(int)\n",
    "test_df['Pclass'] = test_df['Pclass'].map( {1 : 2, 2 : 1, 3 : 0} ).astype(int)\n",
    "\n",
    "# Embarked S C Q\n",
    "train_df['Embarked'] = train_df['Embarked'].map( {'S' : 0, 'C' : 1, 'Q' : 2} ).astype(int)\n",
    "test_df['Embarked'] = test_df['Embarked'].map( {'S' : 0, 'C' : 1, 'Q' : 2} ).astype(int)\n",
    "\n",
    "# Deck A B C D E F G nT\n",
    "train_df['Deck'] = train_df['Deck'].map( {\"B\" : 1, 'C' : 2, 'D' : 3, 'E' : 4, 'F' : 5, 'G' : 6, 'T' : 7, \"A\" : 8, 'n' : 0} )\n",
    "test_df['Deck'] = test_df['Deck'].map( {\"B\" : 1, 'C' : 2, 'D' : 3, 'E' : 4, 'F' : 5, 'G' : 6, 'T' : 7, \"A\" : 8, 'n' : 0} )\n",
    "\n",
    "# Title Mrs, Miss, Master, Mr, Rare\n",
    "train_df['Title'] = train_df['Title'].map( { \"Mrs\" : 0, 'Miss' : 1, 'Master' : 2, 'Mr' : 3, 'Rare' : 4 } ).astype(int)\n",
    "test_df['Title'] = test_df['Title'].map( { \"Mrs\" : 0, 'Miss' : 1, 'Master' : 2, 'Mr' : 3, 'Rare' : 4 } ).astype(int)\n",
    "\n",
    "encoded_train_data = train_df.copy(deep = True)\n",
    "encoded_test_data = test_df.copy(deep = True)\n",
    "\n",
    "## 데이터 정규화 -> 이상치에 강한 정규화 방법 boxplot과 연관 있음, \n",
    "\n",
    "# Age와 Fare 값의 스케일이 다른 변수보다 커서 스케일링 시행함\n",
    "from sklearn.preprocessing import StandardScaler, RobustScaler\n",
    "rs = RobustScaler()\n",
    "\n",
    "# Age 스케일링\n",
    "\n",
    "encoded_train_data_scaled = encoded_train_data.copy(deep=True)\n",
    "encoded_train_data_scaled[[\"Age_scaled\"]] = rs.fit_transform(encoded_train_data_scaled[[\"Age\"]])\n",
    "\n",
    "encoded_test_data_scaled = encoded_test_data.copy(deep=True)\n",
    "encoded_test_data_scaled[[\"Age_scaled\"]] = rs.fit_transform(encoded_test_data_scaled[[\"Age\"]])\n",
    "\n",
    "# Age 삭제\n",
    "encoded_train_data_scaled = encoded_train_data_scaled.drop(\"Age\", axis=1)\n",
    "encoded_test_data_scaled = encoded_test_data_scaled.drop(\"Age\", axis=1)\n",
    "\n",
    "# Fare 스케일링\n",
    "\n",
    "encoded_train_data_scaled = encoded_train_data.copy(deep=True)\n",
    "encoded_train_data_scaled[[\"Fare_scaled\"]] = rs.fit_transform(encoded_train_data_scaled[[\"Fare\"]])\n",
    "\n",
    "encoded_test_data_scaled = encoded_test_data.copy(deep=True)\n",
    "encoded_test_data_scaled[[\"Fare_scaled\"]] = rs.fit_transform(encoded_test_data_scaled[[\"Fare\"]])\n",
    "\n",
    "# Fare 삭제\n",
    "encoded_train_data_scaled = encoded_train_data_scaled.drop(\"Fare\", axis=1)\n",
    "encoded_test_data_scaled = encoded_test_data_scaled.drop(\"Fare\", axis=1)\n",
    "\n",
    "\n",
    "# 데이터 분리 (학습 / 검증)\n",
    "X_train = encoded_train_data_scaled.drop(\"Survived\", axis=1)\n",
    "Y_train = encoded_train_data_scaled[\"Survived\"]\n",
    "X_test  = encoded_test_data_scaled.drop(\"PassengerId\", axis=1).copy()\n",
    "\n",
    "from sklearn.model_selection import train_test_split\n",
    "\n",
    "#train set 을 한번 더 나누어서 validation set 또한 만들어 낼 수 있습니다. \n",
    "x_train, x_val, y_train, y_val = train_test_split(X_train, Y_train, \n",
    "                                                  test_size=0.2, \n",
    "                                                  shuffle=True, random_state=777)\n",
    "\n",
    "\n",
    "## 모델 학습 및 평가 \n",
    "# 모델 성능 평가 함수\n",
    "from sklearn.metrics import accuracy_score, precision_score, recall_score, confusion_matrix, f1_score, roc_curve, roc_auc_score\n",
    "def get_classfication_evalulator(y_test, pred):\n",
    "    ## 오차행렬\n",
    "    confusion = confusion_matrix(y_test, pred)\n",
    "    ## 정확도\n",
    "    accuracy = accuracy_score(y_test, pred)\n",
    "    ## 정밀도\n",
    "    precision = precision_score(y_test, pred)\n",
    "    ## 재현율\n",
    "    recall = recall_score(y_test, pred)\n",
    "    ## F1 스코어\n",
    "    f1 = f1_score(y_test, pred)\n",
    "    print('------ 오차행렬 -------\\n', confusion)\n",
    "    print('\\n정확도(accuracy): {:.4f}, 정밀도(precision): {:.4f}, 재현율(recall): {:.4f}, F1: {:.4f}'.format(accuracy, precision, recall, f1))\n",
    "    print('---------------------\\n')\n",
    "    \n",
    "\n",
    "# ROC_AUC 그래프 시각화\n",
    "def plot_roc_curves(models, X_test, y_test):\n",
    "    plt.figure(figsize=(10, 6))\n",
    "\n",
    "    for model_name, model in models.items():\n",
    "        pred_proba_c1 = model.predict_proba(X_test)[:, 1]\n",
    "        fprs, tprs, _ = roc_curve(y_test, pred_proba_c1)\n",
    "        roc_auc = roc_auc_score(y_test, pred_proba_c1)\n",
    "\n",
    "        plt.plot(fprs, tprs, label=f'{model_name} (ROC_AUC = {roc_auc:.2f})')\n",
    "\n",
    "    plt.plot([0, 1], [0, 1], 'k--', label='Random')\n",
    "    plt.xlim(0, 1)\n",
    "    plt.ylim(0, 1)\n",
    "    plt.xlabel('FPR (1 - Sensitivity)')\n",
    "    plt.ylabel('TPR (Recall)')\n",
    "    plt.title('ROC Curves for Multiple Models')\n",
    "    plt.legend()\n",
    "    plt.show()"
   ]
  },
  {
   "cell_type": "code",
   "execution_count": null,
   "metadata": {},
   "outputs": [],
   "source": [
    "encoded_train_data_scaled.head(10)"
   ]
  },
  {
   "cell_type": "code",
   "execution_count": null,
   "metadata": {},
   "outputs": [],
   "source": [
    "encoded_train_data_scaled.columns # 총 9개의 변수 생성"
   ]
  },
  {
   "cell_type": "code",
   "execution_count": null,
   "metadata": {},
   "outputs": [],
   "source": [
    "# 최종적으로 분할된 각 test, validation, test set 을 모두 출력 \n",
    "print(\"x_train:\", x_train)\n",
    "print(\"y_train:\", y_train)\n",
    "print(\"x_val:\", x_val)\n",
    "print(\"y_val:\", y_val)\n",
    "print(\"X_test:\", X_test)"
   ]
  },
  {
   "cell_type": "code",
   "execution_count": null,
   "metadata": {},
   "outputs": [],
   "source": [
    "from traitlets.config.application import Application\n",
    "from sklearn.tree import DecisionTreeClassifier\n",
    "from sklearn.ensemble import RandomForestClassifier\n",
    "from sklearn.linear_model import LogisticRegression\n",
    "from lightgbm import LGBMClassifier\n",
    "from xgboost import XGBClassifier\n",
    "\n",
    "# boosting_type: str = 'gbdt', num_leaves: int = 31, max_depth: int = -1, learning_rate: float = 0.1, n_estimators: int = 100, subsample_for_bin: int = 200000, objective: _LGBM_ScikitCustomObjectiveFunction | str | None = None, class_weight: Dict[Unknown, Unknown] | str | None = None, min_split_gain: float = 0, min_child_weight: float = 0.001, min_child_samples: int = 20, subsample: float = 1, subsample_freq: int = 0, colsample_bytree: float = 1, reg_alpha: float = 0, reg_lambda: float = 0, random_state: int | RandomState | None = None, n_jobs: int | None = None, importance_type: str = 'split', **kwargs: Unknown)\n",
    "# https://blog.naver.com/diana-0/223153560097\n",
    "# https://blog.naver.com/dlwoduq234/223056037863\n",
    "# https://blog.naver.com/charzim0611/222930745760\n",
    "\n",
    "# 결정 트리, 랜덤 포레스트, 로지스틱 회귀를 위한 사이킷런 Classifier 클래스 생성\n",
    "# 그래디언트 부스팅 발전 버전인 xgboost와 더 속도 높은 lightgbm 사용해보기\n",
    "\n",
    "# pycaret 결과 [model_gbc, model_lightgbm, model_xgboost, model_lr, model_rf]가 좋음\n",
    "\n",
    "lg_clf = LGBMClassifier(random_state=777,application='binary', metric='AUC')\n",
    "xg_clf = XGBClassifier(random_state=777)\n",
    "dt_clf = DecisionTreeClassifier(random_state=777)\n",
    "rf_clf = RandomForestClassifier(random_state=777)\n",
    "lr_clf = LogisticRegression(random_state=777)\n",
    "\n",
    "# x_train, x_val, y_train, y_val\n",
    "# X_train, X_test, y_train, y_test\n",
    "\n",
    "# lightGBMClassifier 학습/예측/평가\n",
    "lg_clf.fit(x_train, y_train)\n",
    "lg_pred = lg_clf.predict(x_val)\n",
    "print('🌲 LGBMClassifier 평가\\n')\n",
    "get_classfication_evalulator(y_val, lg_pred)\n",
    "\n",
    "# XgboostClassifier 학습/예측/평가\n",
    "xg_clf.fit(x_train, y_train)\n",
    "xg_pred = xg_clf.predict(x_val)\n",
    "print('🌲 XGBClassifier 평가\\n')\n",
    "get_classfication_evalulator(y_val, xg_pred)\n",
    "\n",
    "# DecisionTreeClassifier 학습/예측/평가\n",
    "dt_clf.fit(x_train, y_train)\n",
    "dt_pred = dt_clf.predict(x_val)\n",
    "print('🌲 DecisionTreeClassifier 평가\\n')\n",
    "get_classfication_evalulator(y_val, dt_pred)\n",
    "\n",
    "# RandomForestClassifier 학습/예측/평가\n",
    "rf_clf.fit(x_train, y_train)\n",
    "rf_pred = rf_clf.predict(x_val)\n",
    "print('🌳🌳 RandomForestClassifier 평가\\n')\n",
    "get_classfication_evalulator(y_val, rf_pred)\n",
    "\n",
    "# LogisticRegression 학습/예측/평가\n",
    "lr_clf.fit(x_train, y_train)\n",
    "lr_pred = lr_clf.predict(x_val)\n",
    "print('🧐 LogisticRegression 평가')\n",
    "get_classfication_evalulator(y_val, lr_pred)"
   ]
  },
  {
   "cell_type": "code",
   "execution_count": null,
   "metadata": {},
   "outputs": [],
   "source": [
    "from sklearn.model_selection import GridSearchCV\n",
    "from sklearn.model_selection import RandomizedSearchCV\n",
    "\n",
    "xg_param_grid = {\n",
    "    \"max_depth\": [10,30,50],\n",
    "    \"min_child_weight\" : [1,3,6,10],\n",
    "    \"n_estimators\": [200,300,500,1000],\n",
    "     'colsample_bytree':[0.5, 0.75]\n",
    "              } \n",
    "\n",
    "# https://knowallworld.tistory.com/448\n",
    "lg_param_grid = {\n",
    "    'max_depth': [3, 4],                        # 트리의 최대 깊이\n",
    "    'learning_rate': [0.01, 0.05],               # 학습률\n",
    "    'n_estimators': [200, 300, 400],             # 트리의 개수\n",
    "    'min_child_samples': [1, 2, 3, 4],           # 리프 노드에 필요한 최소 샘플 수\n",
    "    'subsample': [0.05, 0.01],                   # 트리를 학습할 때 사용할 샘플링 비율\n",
    "    'colsample_bytree': [0.8,0.9, 1],                # 트리를 학습할 때 사용할 특성의 비율\n",
    "    'reg_alpha': [0.1,0.2],                     # L1 정규화 항의 가중치\n",
    "    'reg_lambda': [0.0, 0.1],                         # L2 정규화 항의 가중치\n",
    "    'ManchesterUNITED': [2, 3]                   # 유효하지 않은 매개변수 (무시됨)\n",
    "}\n",
    "\n",
    "# https://knowallworld.tistory.com/447\n",
    "dt_param_grid = {\n",
    "    'max_depth': [2, 3, 5, 10],                        # 의사결정트리의 최대 깊이\n",
    "    'min_samples_split': [1, 2, 3, 5, 7, 10],            # 노드를 분할하기 위한 최소 샘플 수\n",
    "    'min_samples_leaf': [0, 1, 2, 3, 4, 5, 6],           # 리프 노드에 필요한 최소 샘플 수\n",
    "    'ccp_alpha': [0.0, 0.1, 0.2],                     # Cost-Complexity Pruning (CCP) 알고리즘에 대한 복잡성 매개변수\n",
    "    # 'class_weight': [None, 'balanced'],               # 클래스별 가중치 (None: 균등한 가중치, 'balanced': 불균등한 가중치)\n",
    "    'criterion': ['gini', 'entropy'],                  # 불순도(impurity) 계산에 사용할 기준 ('gini': Gini 불순도, 'entropy': 엔트로피)\n",
    "    # 'max_features': ['auto', 'sqrt', 'log2', None],    # 각 분할에서 고려할 최대 특성 개수 ('auto': sqrt(features), 'sqrt': sqrt(features), 'log2': log2(features), None: 모든 특성)\n",
    "    'max_leaf_nodes': [1, 5, 10, 15],               # 리프 노드의 최대 개수 (None: 제한 없음, 정수 값: 리프 노드의 최대 개수)\n",
    "    # 'min_impurity_decrease': [0.0, 0.1, 0.2],          # 분할 기준으로서 필요한 최소 불순도 감소량\n",
    "    # 'min_weight_fraction_leaf': [0.0, 0.1, 0.2],       # 리프 노드의 최소 가중치 비율\n",
    "    'random_state': [42],                              # 난수 발생 시드 값\n",
    "    'splitter': ['best', 'random']                     # 분할 기준을 선택하는 전략 ('best': 최적의 분할, 'random': 무작위 분할)\n",
    "}\n",
    "\n",
    "rf_param_grid = {\n",
    "    'n_estimators': [50, 100, 200],\n",
    "    'max_depth': [None, 7, 10, 20],\n",
    "    'min_samples_split': [2, 3, 6],\n",
    "    'min_samples_leaf': [1, 5, 6, 8]\n",
    "}\n",
    "\n",
    "# https://knowallworld.tistory.com/446\n",
    "lr_param_grid = {\n",
    "    'penalty': ['l1', 'l2'],                      # 규제 유형 ('l1': L1 규제, 'l2': L2 규제)\n",
    "    'C': [0.1, 1.0, 10.0],                        # 규제 강도의 역수 (값이 작을수록 강한 규제)\n",
    "    'solver': ['lbfgs', 'newton-cg', 'saga'],      # 최적화에 사용할 알고리즘\n",
    "    'max_iter': [500, 700, 1000],                 # 최대 반복 횟수\n",
    "    'class_weight': [None, 'balanced'],            # 클래스 가중치 (None: 균등한 가중치, 'balanced': 불균등한 가중치)\n",
    "    'dual': [True, False],                         # 이중 문제 유형 (True: 이중 문제 사용, False: 원 문제 사용)\n",
    "    # 'fit_intercept': [True, False],                # 절편(intercept) 학습 여부\n",
    "    # 'intercept_scaling': [1, 2, 3],                # 절편의 스케일링 비율\n",
    "    # 'l1_ratio': [None, 0.2, 0.5],                  # L1 규제와 L2 규제 사이의 혼합 비율\n",
    "    # 'multi_class': ['auto', 'ovr', 'multinomial'], # 다중 클래스 처리 방법 ('auto': 자동 선택, 'ovr': 일대다, 'multinomial': 다항 분류)\n",
    "    'n_jobs': [None, -1],                          # 병렬 처리에 사용할 CPU 코어 수 (None: 1개, -1: 모든 코어)\n",
    "    'random_state': [42],                          # 난수 발생 시드 값\n",
    "    'tol': [0.0001, 0.001, 0.01],                  # 수렴 기준 (작을수록 더 정밀한 계산)\n",
    "    # 'verbose': [0, 1, 2],                          # 출력 메시지 레벨 (0: 출력 없음, 1: 진행 상황 메시지, 2: 모든 메시지)\n",
    "    # 'warm_start': [True, False]                    # 이전 학습 결과를 재사용하여 학습 계속 여부\n",
    "}\n",
    "\n",
    "grid_lg_clf = GridSearchCV(lg_clf, param_grid=lg_param_grid, \n",
    "                           scoring='accuracy', refit=True, cv=5, n_jobs=-1)\n",
    "grid_xg_clf = GridSearchCV(xg_clf, param_grid=xg_param_grid, \n",
    "                           scoring='accuracy', refit=True, cv=5, n_jobs=-1)\n",
    "grid_dt_clf = GridSearchCV(dt_clf, param_grid=dt_param_grid, \n",
    "                           scoring='accuracy', refit=True, cv=5, n_jobs=-1)\n",
    "grid_rf_clf = GridSearchCV(rf_clf, param_grid=rf_param_grid, \n",
    "                           scoring='accuracy', refit=True, cv=5, n_jobs=-1)\n",
    "grid_lr_clf = GridSearchCV(lr_clf, param_grid=lr_param_grid, \n",
    "                           scoring='accuracy', refit=True, cv=5, n_jobs=-1)\n",
    "\n",
    "grid_lg_clf.fit(x_train, y_train)\n",
    "grid_xg_clf.fit(x_train, y_train)\n",
    "grid_dt_clf.fit(x_train, y_train)\n",
    "grid_rf_clf.fit(x_train, y_train)\n",
    "grid_lr_clf.fit(x_train, y_train)\n",
    "\n",
    "print('LGBMClassifier - GridSearchCV 최적 하이퍼 파라미터:', grid_lg_clf.best_params_)\n",
    "print('LGBMClassifier - GridSearchCV 최고 정확도: {0:.4f}'.format(grid_lg_clf.best_score_))\n",
    "\n",
    "print('XGBClassifier - GridSearchCV 최적 하이퍼 파라미터:', grid_xg_clf.best_params_)\n",
    "print('XGBClassifier - GridSearchCV 최고 정확도: {0:.4f}'.format(grid_xg_clf.best_score_))\n",
    "\n",
    "print('Decision Tree - GridSearchCV 최적 하이퍼 파라미터:', grid_dt_clf.best_params_)\n",
    "print('Decision Tree - GridSearchCV 최고 정확도: {0:.4f}'.format(grid_dt_clf.best_score_))\n",
    "\n",
    "print('Random Forest - GridSearchCV 최적 하이퍼 파라미터:', grid_rf_clf.best_params_)\n",
    "print('Random Forest - GridSearchCV 최고 정확도: {0:.4f}'.format(grid_rf_clf.best_score_))\n",
    "\n",
    "print('Logistic Regression - GridSearchCV 최적 하이퍼 파라미터:', grid_lr_clf.best_params_)\n",
    "print('Logistic Regression - GridSearchCV 최고 정확도: {0:.4f}'.format(grid_lr_clf.best_score_))\n",
    "\n",
    "best_lg_clf = grid_lg_clf.best_estimator_\n",
    "best_xg_clf = grid_xg_clf.best_estimator_\n",
    "best_dt_clf = grid_dt_clf.best_estimator_\n",
    "best_rf_clf = grid_rf_clf.best_estimator_\n",
    "best_lr_clf = grid_lr_clf.best_estimator_\n",
    "\n",
    "lg_predictions = best_lg_clf.predict(x_val)\n",
    "xg_predictions = best_xg_clf.predict(x_val)\n",
    "dt_predictions = best_dt_clf.predict(x_val)\n",
    "rf_predictions = best_rf_clf.predict(x_val)\n",
    "lr_predictions = best_lr_clf.predict(x_val)\n",
    "\n",
    "lg_accuracy = accuracy_score(y_val, lg_predictions)\n",
    "xg_accuracy = accuracy_score(y_val, xg_predictions)\n",
    "dt_accuracy = accuracy_score(y_val, dt_predictions)\n",
    "rf_accuracy = accuracy_score(y_val, rf_predictions)\n",
    "lr_accuracy = accuracy_score(y_val, lr_predictions)\n",
    "\n",
    "print('LGBMClassifier - 테스트셋에서 정확도: {0:.4f}'.format(lg_accuracy))\n",
    "print('XGBClassifier - 테스트셋에서 정확도: {0:.4f}'.format(xg_accuracy))\n",
    "print('Decision Tree - 테스트셋에서 정확도: {0:.4f}'.format(dt_accuracy))\n",
    "print('Random Forest - 테스트셋에서 정확도: {0:.4f}'.format(rf_accuracy))\n",
    "\n",
    "print('Logistic Regression - 테스트셋에서 정확도: {0:.4f}'.format(lr_accuracy))"
   ]
  },
  {
   "cell_type": "code",
   "execution_count": null,
   "metadata": {},
   "outputs": [],
   "source": [
    "# ROC 곡선 그래프\n",
    "# True Positive Rate를 Y축, False Positive Rate를 X축으로 하여 \n",
    "# 모델이 양성/긍정으로 예측했을 때 얼마나 잘 맞추고 있는지를 설명\n",
    "# ROC 곡선을 통해 모델의 성능을 평가하거나 최적의 분류기준(threshold)을 찾기\n",
    "# ROC curve가 왼쪽 상단(0,1) 방향으로 더 휘어질 수록 예측성능이 뛰어난 모델\n",
    "\n",
    "# 이진 분류 성능 평가 지표로 많이 사용됨\n",
    "\n",
    "models = {\n",
    "    'LGBMClassifier': best_lg_clf,\n",
    "    'XGBClassifier': best_xg_clf,\n",
    "    'Logistic Regression': best_lr_clf,\n",
    "    'Decision Tree': best_dt_clf,\n",
    "    'Random Forest': best_rf_clf\n",
    "}\n",
    "\n",
    "plot_roc_curves(models, x_val, y_val)"
   ]
  },
  {
   "cell_type": "code",
   "execution_count": null,
   "metadata": {},
   "outputs": [],
   "source": [
    "# x_train, x_val, y_train, y_val\n",
    "# X_train, X_test, y_train, y_test\n",
    "### 전체 데이터 학습\n",
    "xg_clf.fit(X_train, Y_train)"
   ]
  },
  {
   "cell_type": "code",
   "execution_count": null,
   "metadata": {},
   "outputs": [],
   "source": [
    "X_test\n",
    "\n",
    "## 예측을 수행한다.\n",
    "pred = xg_clf.predict(X_test)\n",
    "\n",
    "## 예측 결과를 Survived 컬럼으로 입력한다.\n",
    "X_test['Survived'] = pred\n",
    "\n",
    "## 예측 결과를 PassengerId와 Survived 컬럼으로만 제한해 CSV 파일로 저장한다.\n",
    "X_test['PassengerId'] = test_df[\"PassengerId\"]\n",
    "submission = X_test[['PassengerId','Survived']]\n",
    "submission.to_csv('Pycaret_Classification_titanic_mono_model_result231017_AFDmod_xg.csv', index=False) \n",
    "\n",
    "## 0.71291 점수를 얻었다."
   ]
  },
  {
   "attachments": {
    "image.png": {
     "image/png": "[encoded data removed]"
    }
   },
   "cell_type": "markdown",
   "metadata": {},
   "source": [
    "![image.png](attachment:image.png)"
   ]
  },
  {
   "cell_type": "code",
   "execution_count": null,
   "metadata": {},
   "outputs": [],
   "source": []
  }
 ],
 "metadata": {
  "_change_revision": 0,
  "_is_fork": false,
  "kernelspec": {
   "display_name": "Python 3 (ipykernel)",
   "language": "python",
   "name": "python3"
  },
  "language_info": {
   "codemirror_mode": {
    "name": "ipython",
    "version": 3
   },
   "file_extension": ".py",
   "mimetype": "text/x-python",
   "name": "python",
   "nbconvert_exporter": "python",
   "pygments_lexer": "ipython3",
   "version": "3.11.3"
  }
 },
 "nbformat": 4,
 "nbformat_minor": 1
}
