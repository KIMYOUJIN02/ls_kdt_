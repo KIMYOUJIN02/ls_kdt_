{
 "cells": [
  {
   "cell_type": "code",
   "execution_count": 221,
   "id": "d83982b4",
   "metadata": {},
   "outputs": [],
   "source": [
    "import pandas as pd\n",
    "import numpy as np\n",
    "import seaborn as sns\n",
    "import matplotlib.pyplot as plt"
   ]
  },
  {
   "cell_type": "code",
   "execution_count": 222,
   "id": "9bffd21c",
   "metadata": {},
   "outputs": [
    {
     "name": "stdout",
     "output_type": "stream",
     "text": [
      "C:\\Users\\USER\\Desktop\\Project\\Tiranic\n"
     ]
    }
   ],
   "source": [
    "%cd C:/Users/USER/Desktop/Project/Tiranic"
   ]
  },
  {
   "cell_type": "markdown",
   "id": "85856838",
   "metadata": {},
   "source": [
    "# 데이터 불러오기"
   ]
  },
  {
   "cell_type": "code",
   "execution_count": 223,
   "id": "da6b3425",
   "metadata": {},
   "outputs": [],
   "source": [
    "train = pd.read_csv(\"./Data/train.csv\", index_col = 'PassengerId')\n",
    "test = pd.read_csv(\"./Data/test.csv\", index_col = 'PassengerId')"
   ]
  },
  {
   "cell_type": "markdown",
   "id": "8049b0f2",
   "metadata": {},
   "source": [
    "# feature engineering"
   ]
  },
  {
   "cell_type": "code",
   "execution_count": 224,
   "id": "3d39ef4e",
   "metadata": {},
   "outputs": [],
   "source": [
    "def feature_engineering(data) :\n",
    "    # Name에서 Initial 추출\n",
    "    data['Initial'] = 0\n",
    "    data['Initial'] = data['Name'].str.extract('([A-Za-z]+)\\.')\n",
    "    \n",
    "    # Initial 변수 축소\n",
    "    data['Initial'].replace(['Mlle','Mme','Ms','Dr','Major','Lady','Countess','Jonkheer','Col','Rev','Capt','Sir','Don'],\n",
    "                            ['Miss','Miss','Miss','Mr','Mrs','Mrs','Mrs','Other','Other','Other','Mr','Mr','Mr'], inplace = True)\n",
    "    data['Initial'].replace(['Rev','Col','Dr','Dona','Ms'],\n",
    "                            ['Other','Other','Mr','Mr',\"Miss\"],inplace=True)\n",
    "    \n",
    "    # Initial 변수의 평균으로 Age 결측치 처리\n",
    "    data.loc[(data['Age'].isna())&(data['Initial']=='Mr'),'Age'] = 33\n",
    "    data.loc[(data['Age'].isna())&(data['Initial']=='Mrs'),'Age'] = 36\n",
    "    data.loc[(data['Age'].isna())&(data['Initial']=='Master'),'Age'] = 5\n",
    "    data.loc[(data['Age'].isna())&(data['Initial']=='Miss'),'Age'] = 22\n",
    "    data.loc[(data['Age'].isna())&(data['Initial']=='Other'),'Age'] = 46\n",
    "    \n",
    "    \n",
    "    # Cabin 결측치와 관측된 값으로 나누기\n",
    "    data.loc[~data['Cabin'].isna(), 'Cabin'] = 'T'\n",
    "    data['Cabin'].fillna('N', inplace=True)\n",
    "    \n",
    "    # Embarked 결측치 실제 데이터 대체\n",
    "    data.loc[data['Embarked'].isna(), 'Embarked'] = 'S'\n",
    "    \n",
    "    # Fare / 동일한 Ticket 개수로 나누기 \n",
    "    ticket_grouped = data.groupby('Ticket')['Fare'].count().reset_index()\n",
    "    ticket_grouped.rename(columns={'Fare': 'PassengerCount'}, inplace=True)\n",
    "    \n",
    "    data = data.merge(ticket_grouped, on='Ticket', how='left')\n",
    "    data['FarePerPassenger'] = data['Fare'] / data['PassengerCount']\n",
    "\n",
    "    # SibSp, Parch, PassengerCount를 합쳐 동승자 변수 생성하여 동승자 여부가 생존에 미치는 영향 판단\n",
    "    data['Fellow_passenger'] = data['SibSp'] + data['Parch'] + data['PassengerCount']\n",
    "    data['Alone'] = 1\n",
    "    data.loc[data['Fellow_passenger'] > 1,'Alone'] = 0\n",
    "\n",
    "    # 필요없는 변수 제거\n",
    "    data.drop(['Name', 'Ticket', 'Fare','SibSp','Parch', 'PassengerCount','Fellow_passenger'], axis = 1, inplace = True)\n",
    "    \n",
    "    return data"
   ]
  },
  {
   "cell_type": "code",
   "execution_count": 225,
   "id": "79945c54",
   "metadata": {},
   "outputs": [],
   "source": [
    "train = feature_engineering(train)"
   ]
  },
  {
   "cell_type": "code",
   "execution_count": 226,
   "id": "f4bcffe4",
   "metadata": {},
   "outputs": [],
   "source": [
    "test = feature_engineering(test)"
   ]
  },
  {
   "cell_type": "code",
   "execution_count": 227,
   "id": "03e9a888",
   "metadata": {},
   "outputs": [],
   "source": [
    "# test 데이터의 FarePerPassenger 결측치 처리\n",
    "test.loc[test['FarePerPassenger'].isna(),'FarePerPassenger'] = train[(train['Initial'] == 'Mr') & (train['Pclass'] == 3)]['FarePerPassenger'].mean()"
   ]
  },
  {
   "cell_type": "markdown",
   "id": "d306dbdd",
   "metadata": {},
   "source": [
    "# Data Preprocessing"
   ]
  },
  {
   "cell_type": "code",
   "execution_count": 228,
   "id": "012eac3d",
   "metadata": {},
   "outputs": [],
   "source": [
    "x_train = train.drop('Survived', axis = 1)\n",
    "y_train = train['Survived']"
   ]
  },
  {
   "cell_type": "code",
   "execution_count": 229,
   "id": "4352ce38",
   "metadata": {},
   "outputs": [],
   "source": [
    "num_col = ['Age', 'FarePerPassenger']\n",
    "str_col = ['Sex', 'Cabin', 'Embarked', 'Initial']\n",
    "cat_col = ['Pclass', 'FamilySize']"
   ]
  },
  {
   "cell_type": "code",
   "execution_count": 230,
   "id": "a9d09b4c",
   "metadata": {},
   "outputs": [],
   "source": [
    "from sklearn.preprocessing import LabelEncoder"
   ]
  },
  {
   "cell_type": "code",
   "execution_count": 231,
   "id": "e0722cbc",
   "metadata": {},
   "outputs": [],
   "source": [
    "def preprocessing(data) :\n",
    "    for col in str_col :\n",
    "        le = LabelEncoder()\n",
    "        le.fit(x_train[col])\n",
    "        x_train[col] = le.transform(x_train[col])\n",
    "        test[col] = le.transform(test[col])\n",
    "        \n",
    "    for num in num_col :\n",
    "        max = x_train[num].max()\n",
    "        min = x_train[num].min()\n",
    "        x_train[num] = (x_train[num] - min) / (max - min)\n",
    "        test[num] = (test[num] - min) / (max - min)\n",
    "    \n",
    "    return data"
   ]
  },
  {
   "cell_type": "code",
   "execution_count": 232,
   "id": "e11c87fe",
   "metadata": {},
   "outputs": [],
   "source": [
    "x_train = preprocessing(x_train)\n",
    "test = preprocessing(test)"
   ]
  },
  {
   "cell_type": "code",
   "execution_count": 233,
   "id": "9aa30651",
   "metadata": {},
   "outputs": [
    {
     "name": "stdout",
     "output_type": "stream",
     "text": [
      "Pclass              0\n",
      "Sex                 0\n",
      "Age                 0\n",
      "Cabin               0\n",
      "Embarked            0\n",
      "Initial             0\n",
      "FarePerPassenger    0\n",
      "Alone               0\n",
      "dtype: int64\n",
      "(891, 8)\n",
      "----------------------\n",
      "Pclass              0\n",
      "Sex                 0\n",
      "Age                 0\n",
      "Cabin               0\n",
      "Embarked            0\n",
      "Initial             0\n",
      "FarePerPassenger    0\n",
      "Alone               0\n",
      "dtype: int64\n",
      "(418, 8)\n"
     ]
    }
   ],
   "source": [
    "print(x_train.isna().sum())\n",
    "print(x_train.shape)\n",
    "print(\"----------------------\")\n",
    "print(test.isna().sum())\n",
    "print(test.shape)"
   ]
  },
  {
   "cell_type": "markdown",
   "id": "0ecc427b",
   "metadata": {},
   "source": [
    "# 모델링 "
   ]
  },
  {
   "cell_type": "code",
   "execution_count": 234,
   "id": "a0983ffe",
   "metadata": {},
   "outputs": [],
   "source": [
    "from sklearn.ensemble import RandomForestClassifier, AdaBoostClassifier, GradientBoostingClassifier, ExtraTreesClassifier, VotingClassifier\n",
    "from sklearn.discriminant_analysis import LinearDiscriminantAnalysis\n",
    "from sklearn.linear_model import LogisticRegression\n",
    "from sklearn.neighbors import KNeighborsClassifier\n",
    "from sklearn.tree import DecisionTreeClassifier\n",
    "from sklearn.neural_network import MLPClassifier\n",
    "from sklearn.svm import SVC\n",
    "from sklearn.model_selection import GridSearchCV, cross_val_score, StratifiedKFold, learning_curve"
   ]
  },
  {
   "cell_type": "code",
   "execution_count": 235,
   "id": "fe347b69",
   "metadata": {},
   "outputs": [
    {
     "data": {
      "text/html": [
       "<div>\n",
       "<style scoped>\n",
       "    .dataframe tbody tr th:only-of-type {\n",
       "        vertical-align: middle;\n",
       "    }\n",
       "\n",
       "    .dataframe tbody tr th {\n",
       "        vertical-align: top;\n",
       "    }\n",
       "\n",
       "    .dataframe thead th {\n",
       "        text-align: right;\n",
       "    }\n",
       "</style>\n",
       "<table border=\"1\" class=\"dataframe\">\n",
       "  <thead>\n",
       "    <tr style=\"text-align: right;\">\n",
       "      <th></th>\n",
       "      <th>Algorithm</th>\n",
       "      <th>CrossValMeans</th>\n",
       "    </tr>\n",
       "  </thead>\n",
       "  <tbody>\n",
       "    <tr>\n",
       "      <th>0</th>\n",
       "      <td>SVC</td>\n",
       "      <td>0.815930</td>\n",
       "    </tr>\n",
       "    <tr>\n",
       "      <th>1</th>\n",
       "      <td>DecisionTree</td>\n",
       "      <td>0.785630</td>\n",
       "    </tr>\n",
       "    <tr>\n",
       "      <th>2</th>\n",
       "      <td>RandomForest</td>\n",
       "      <td>0.799114</td>\n",
       "    </tr>\n",
       "    <tr>\n",
       "      <th>3</th>\n",
       "      <td>GradientBoosting</td>\n",
       "      <td>0.835019</td>\n",
       "    </tr>\n",
       "    <tr>\n",
       "      <th>4</th>\n",
       "      <td>LogisticRegression</td>\n",
       "      <td>0.791248</td>\n",
       "    </tr>\n",
       "  </tbody>\n",
       "</table>\n",
       "</div>"
      ],
      "text/plain": [
       "            Algorithm  CrossValMeans\n",
       "0                 SVC       0.815930\n",
       "1        DecisionTree       0.785630\n",
       "2        RandomForest       0.799114\n",
       "3    GradientBoosting       0.835019\n",
       "4  LogisticRegression       0.791248"
      ]
     },
     "execution_count": 235,
     "metadata": {},
     "output_type": "execute_result"
    }
   ],
   "source": [
    "kfold = StratifiedKFold(n_splits=10)\n",
    "\n",
    "random_state = 2023\n",
    "classifiers = []\n",
    "classifiers.append(SVC(random_state=random_state))\n",
    "classifiers.append(DecisionTreeClassifier(random_state=random_state))\n",
    "classifiers.append(RandomForestClassifier(random_state=random_state))\n",
    "classifiers.append(GradientBoostingClassifier(random_state=random_state))\n",
    "classifiers.append(LogisticRegression(random_state = random_state))\n",
    "\n",
    "cv_results = []\n",
    "for classifier in classifiers :\n",
    "    cv_results.append(cross_val_score(classifier, x_train, y = y_train, scoring = \"accuracy\", cv = kfold, n_jobs=-1))\n",
    "\n",
    "cv_means = []\n",
    "for cv_result in cv_results:\n",
    "    cv_means.append(cv_result.mean())\n",
    "\n",
    "cv_res = pd.DataFrame({\"Algorithm\":[\"SVC\",\"DecisionTree\",\"RandomForest\",\"GradientBoosting\",\"LogisticRegression\"],\n",
    "                       \"CrossValMeans\":cv_means})\n",
    "\n",
    "cv_res"
   ]
  },
  {
   "cell_type": "code",
   "execution_count": 236,
   "id": "a4b7e690",
   "metadata": {},
   "outputs": [
    {
     "data": {
      "text/plain": [
       "0.8350187265917602"
      ]
     },
     "execution_count": 236,
     "metadata": {},
     "output_type": "execute_result"
    }
   ],
   "source": [
    "GB = GradientBoostingClassifier(random_state=random_state)\n",
    "\n",
    "cross_val_score(GB, x_train, y = y_train, scoring = \"accuracy\", cv = kfold, n_jobs=-1).mean()"
   ]
  },
  {
   "cell_type": "code",
   "execution_count": 238,
   "id": "b51c2408",
   "metadata": {},
   "outputs": [
    {
     "name": "stdout",
     "output_type": "stream",
     "text": [
      "Best Hyperparameters:  {'learning_rate': 0.15, 'max_depth': 4, 'min_samples_leaf': 20, 'n_estimators': 100, 'subsample': 0.5}\n",
      "Best Score:  0.8417727840199751\n"
     ]
    }
   ],
   "source": [
    "# 최적의 하이퍼파라미터 찾기\n",
    "\n",
    "parameters = {\n",
    "    \"learning_rate\": [0.1, 0.15, 0.2, 0.5],\n",
    "    'min_samples_leaf' : range(1,32),\n",
    "    \"max_depth\":[1,2,4,8],\n",
    "    \"subsample\":[0.5, 0.65,0.8],\n",
    "    \"n_estimators\":[10, 50, 100]\n",
    "    }\n",
    "\n",
    "grid_search = GridSearchCV(GradientBoostingClassifier(random_state = random_state), parameters, cv = 10, n_jobs=-1)\n",
    "grid_search.fit(x_train, y_train)\n",
    "print(\"Best Hyperparameters: \", grid_search.best_params_)\n",
    "print(\"Best Score: \", grid_search.best_score_)"
   ]
  },
  {
   "cell_type": "code",
   "execution_count": 239,
   "id": "1bbb5cbb",
   "metadata": {},
   "outputs": [
    {
     "data": {
      "text/html": [
       "<style>#sk-container-id-7 {color: black;background-color: white;}#sk-container-id-7 pre{padding: 0;}#sk-container-id-7 div.sk-toggleable {background-color: white;}#sk-container-id-7 label.sk-toggleable__label {cursor: pointer;display: block;width: 100%;margin-bottom: 0;padding: 0.3em;box-sizing: border-box;text-align: center;}#sk-container-id-7 label.sk-toggleable__label-arrow:before {content: \"▸\";float: left;margin-right: 0.25em;color: #696969;}#sk-container-id-7 label.sk-toggleable__label-arrow:hover:before {color: black;}#sk-container-id-7 div.sk-estimator:hover label.sk-toggleable__label-arrow:before {color: black;}#sk-container-id-7 div.sk-toggleable__content {max-height: 0;max-width: 0;overflow: hidden;text-align: left;background-color: #f0f8ff;}#sk-container-id-7 div.sk-toggleable__content pre {margin: 0.2em;color: black;border-radius: 0.25em;background-color: #f0f8ff;}#sk-container-id-7 input.sk-toggleable__control:checked~div.sk-toggleable__content {max-height: 200px;max-width: 100%;overflow: auto;}#sk-container-id-7 input.sk-toggleable__control:checked~label.sk-toggleable__label-arrow:before {content: \"▾\";}#sk-container-id-7 div.sk-estimator input.sk-toggleable__control:checked~label.sk-toggleable__label {background-color: #d4ebff;}#sk-container-id-7 div.sk-label input.sk-toggleable__control:checked~label.sk-toggleable__label {background-color: #d4ebff;}#sk-container-id-7 input.sk-hidden--visually {border: 0;clip: rect(1px 1px 1px 1px);clip: rect(1px, 1px, 1px, 1px);height: 1px;margin: -1px;overflow: hidden;padding: 0;position: absolute;width: 1px;}#sk-container-id-7 div.sk-estimator {font-family: monospace;background-color: #f0f8ff;border: 1px dotted black;border-radius: 0.25em;box-sizing: border-box;margin-bottom: 0.5em;}#sk-container-id-7 div.sk-estimator:hover {background-color: #d4ebff;}#sk-container-id-7 div.sk-parallel-item::after {content: \"\";width: 100%;border-bottom: 1px solid gray;flex-grow: 1;}#sk-container-id-7 div.sk-label:hover label.sk-toggleable__label {background-color: #d4ebff;}#sk-container-id-7 div.sk-serial::before {content: \"\";position: absolute;border-left: 1px solid gray;box-sizing: border-box;top: 0;bottom: 0;left: 50%;z-index: 0;}#sk-container-id-7 div.sk-serial {display: flex;flex-direction: column;align-items: center;background-color: white;padding-right: 0.2em;padding-left: 0.2em;position: relative;}#sk-container-id-7 div.sk-item {position: relative;z-index: 1;}#sk-container-id-7 div.sk-parallel {display: flex;align-items: stretch;justify-content: center;background-color: white;position: relative;}#sk-container-id-7 div.sk-item::before, #sk-container-id-7 div.sk-parallel-item::before {content: \"\";position: absolute;border-left: 1px solid gray;box-sizing: border-box;top: 0;bottom: 0;left: 50%;z-index: -1;}#sk-container-id-7 div.sk-parallel-item {display: flex;flex-direction: column;z-index: 1;position: relative;background-color: white;}#sk-container-id-7 div.sk-parallel-item:first-child::after {align-self: flex-end;width: 50%;}#sk-container-id-7 div.sk-parallel-item:last-child::after {align-self: flex-start;width: 50%;}#sk-container-id-7 div.sk-parallel-item:only-child::after {width: 0;}#sk-container-id-7 div.sk-dashed-wrapped {border: 1px dashed gray;margin: 0 0.4em 0.5em 0.4em;box-sizing: border-box;padding-bottom: 0.4em;background-color: white;}#sk-container-id-7 div.sk-label label {font-family: monospace;font-weight: bold;display: inline-block;line-height: 1.2em;}#sk-container-id-7 div.sk-label-container {text-align: center;}#sk-container-id-7 div.sk-container {/* jupyter's `normalize.less` sets `[hidden] { display: none; }` but bootstrap.min.css set `[hidden] { display: none !important; }` so we also need the `!important` here to be able to override the default hidden behavior on the sphinx rendered scikit-learn.org. See: https://github.com/scikit-learn/scikit-learn/issues/21755 */display: inline-block !important;position: relative;}#sk-container-id-7 div.sk-text-repr-fallback {display: none;}</style><div id=\"sk-container-id-7\" class=\"sk-top-container\"><div class=\"sk-text-repr-fallback\"><pre>GradientBoostingClassifier(learning_rate=0.15, max_depth=4, min_samples_leaf=20,\n",
       "                           random_state=42, subsample=0.5)</pre><b>In a Jupyter environment, please rerun this cell to show the HTML representation or trust the notebook. <br />On GitHub, the HTML representation is unable to render, please try loading this page with nbviewer.org.</b></div><div class=\"sk-container\" hidden><div class=\"sk-item\"><div class=\"sk-estimator sk-toggleable\"><input class=\"sk-toggleable__control sk-hidden--visually\" id=\"sk-estimator-id-7\" type=\"checkbox\" checked><label for=\"sk-estimator-id-7\" class=\"sk-toggleable__label sk-toggleable__label-arrow\">GradientBoostingClassifier</label><div class=\"sk-toggleable__content\"><pre>GradientBoostingClassifier(learning_rate=0.15, max_depth=4, min_samples_leaf=20,\n",
       "                           random_state=42, subsample=0.5)</pre></div></div></div></div></div>"
      ],
      "text/plain": [
       "GradientBoostingClassifier(learning_rate=0.15, max_depth=4, min_samples_leaf=20,\n",
       "                           random_state=42, subsample=0.5)"
      ]
     },
     "execution_count": 239,
     "metadata": {},
     "output_type": "execute_result"
    }
   ],
   "source": [
    "GB = GradientBoostingClassifier(random_state=42, **grid_search.best_params_)\n",
    "GB.fit(x_train, y_train)"
   ]
  },
  {
   "cell_type": "code",
   "execution_count": 240,
   "id": "b16abe95",
   "metadata": {},
   "outputs": [
    {
     "data": {
      "text/plain": [
       "0.8888888888888888"
      ]
     },
     "execution_count": 240,
     "metadata": {},
     "output_type": "execute_result"
    }
   ],
   "source": [
    "GB.score(x_train, y_train)"
   ]
  },
  {
   "cell_type": "code",
   "execution_count": 241,
   "id": "65158991",
   "metadata": {},
   "outputs": [],
   "source": [
    "Survived_pred = GB.predict(test)"
   ]
  },
  {
   "cell_type": "code",
   "execution_count": 242,
   "id": "d892d88a",
   "metadata": {},
   "outputs": [],
   "source": [
    "Survived_pred_proba = GB.predict_proba(test)"
   ]
  },
  {
   "cell_type": "markdown",
   "id": "1a4bf481",
   "metadata": {},
   "source": [
    "# 모델 평가"
   ]
  },
  {
   "cell_type": "code",
   "execution_count": 243,
   "id": "f445ffd9",
   "metadata": {},
   "outputs": [],
   "source": [
    "Sub = pd.read_csv(\"./Data/gender_submission.csv\", index_col = 'PassengerId')"
   ]
  },
  {
   "cell_type": "code",
   "execution_count": 244,
   "id": "dabfe15f",
   "metadata": {},
   "outputs": [],
   "source": [
    "Sub['Survived'] = Survived_pred"
   ]
  },
  {
   "cell_type": "code",
   "execution_count": 245,
   "id": "841cbbed",
   "metadata": {},
   "outputs": [],
   "source": [
    "Sub['Survived'].to_csv('./submisson.csv')"
   ]
  },
  {
   "cell_type": "code",
   "execution_count": null,
   "id": "0cbcf545",
   "metadata": {},
   "outputs": [],
   "source": []
  }
 ],
 "metadata": {
  "kernelspec": {
   "display_name": "Python 3 (ipykernel)",
   "language": "python",
   "name": "python3"
  },
  "language_info": {
   "codemirror_mode": {
    "name": "ipython",
    "version": 3
   },
   "file_extension": ".py",
   "mimetype": "text/x-python",
   "name": "python",
   "nbconvert_exporter": "python",
   "pygments_lexer": "ipython3",
   "version": "3.11.3"
  }
 },
 "nbformat": 4,
 "nbformat_minor": 5
}
