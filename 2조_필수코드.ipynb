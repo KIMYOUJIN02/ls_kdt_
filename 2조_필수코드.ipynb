{
 "cells": [
  {
   "cell_type": "markdown",
   "metadata": {},
   "source": [
    "# 1. 데이터 불러오기"
   ]
  },
  {
   "cell_type": "code",
   "execution_count": 150,
   "metadata": {},
   "outputs": [
    {
     "name": "stderr",
     "output_type": "stream",
     "text": [
      "C:\\Users\\USER\\AppData\\Local\\Temp\\ipykernel_31168\\3959905438.py:12: DtypeWarning: Columns (29) have mixed types. Specify dtype option on import or set low_memory=False.\n",
      "  df=pd.read_csv('casting.csv',encoding='cp949',index_col=0)\n"
     ]
    }
   ],
   "source": [
    "import pandas as pd\n",
    "import numpy as np\n",
    "from sklearn.preprocessing import MinMaxScaler\n",
    "from sklearn.linear_model import LogisticRegression\n",
    "from sklearn.neighbors import KNeighborsClassifier\n",
    "from sklearn.tree import DecisionTreeClassifier\n",
    "from sklearn.ensemble import RandomForestClassifier\n",
    "from xgboost import XGBClassifier\n",
    "from sklearn.model_selection import train_test_split\n",
    "from sklearn.metrics import roc_auc_score\n",
    "\n",
    "df=pd.read_csv('casting.csv',encoding='cp949',index_col=0)"
   ]
  },
  {
   "cell_type": "code",
   "execution_count": 151,
   "metadata": {},
   "outputs": [],
   "source": [
    "\n",
    "def make_df(df):\n",
    "    \"\"\"전처리 함수\"\"\"\n",
    "    \n",
    "    # 결측치 처리\n",
    "    df['heating_furnace']=df['heating_furnace'].fillna('C')\n",
    "    df['molten_temp']=df['molten_temp'].fillna(df['molten_temp'].mean())\n",
    "    df['upper_mold_temp3']=df['upper_mold_temp3'].fillna(method='ffill')\n",
    "    df['lower_mold_temp3']=df['lower_mold_temp3'].fillna(method='bfill')\n",
    "    \n",
    "    # 필요없는 열 제거\n",
    "    df.drop(['line','name','mold_name','emergency_stop','tryshot_signal','time','date','molten_volume','registration_time'],axis=1,inplace=True)\n",
    "    \n",
    "    # 결측치 날리기\n",
    "    df=df.dropna(subset=['count', 'working', 'molten_temp',\n",
    "       'facility_operation_cycleTime', 'production_cycletime',\n",
    "       'low_section_speed', 'high_section_speed',\n",
    "       'cast_pressure', 'biscuit_thickness', 'upper_mold_temp1',\n",
    "       'upper_mold_temp2', 'upper_mold_temp3', 'lower_mold_temp1',\n",
    "       'lower_mold_temp2', 'lower_mold_temp3', 'sleeve_temperature',\n",
    "       'physical_strength', 'Coolant_temperature', 'EMS_operation_time',\n",
    "        'passorfail', 'mold_code'])\n",
    "    \n",
    "    # 이상치 처리할 열 지정\n",
    "    column=['molten_temp', 'facility_operation_cycleTime',\n",
    "           'production_cycletime', 'low_section_speed', 'high_section_speed',\n",
    "           'cast_pressure', 'biscuit_thickness',\n",
    "           'upper_mold_temp1', 'upper_mold_temp2', 'upper_mold_temp3',\n",
    "           'lower_mold_temp1', 'lower_mold_temp2', 'lower_mold_temp3',\n",
    "           'sleeve_temperature', 'physical_strength', 'Coolant_temperature',\n",
    "           'EMS_operation_time']\n",
    "    \n",
    "    # 이상치 처리 (3시그마 벗어나는 범위는 평균으로 대체)\n",
    "    for i in column:\n",
    "        std=df[i].std()*3\n",
    "        mean=df[i].mean()\n",
    "    \n",
    "        min_out=mean-std\n",
    "        max_out=mean+std\n",
    "    \n",
    "        df.loc[df[i]<min_out,i]=mean\n",
    "        df.loc[df[i]>max_out,i]=mean\n",
    "        \n",
    "    return df"
   ]
  },
  {
   "cell_type": "code",
   "execution_count": 152,
   "metadata": {},
   "outputs": [
    {
     "data": {
      "text/plain": [
       "0.9973051539487486"
      ]
     },
     "execution_count": 152,
     "metadata": {},
     "output_type": "execute_result"
    }
   ],
   "source": [
    "# 전처리\n",
    "df['heating_furnace']=df['heating_furnace'].fillna('C')\n",
    "df['molten_temp']=df['molten_temp'].fillna(df['molten_temp'].mean())\n",
    "df['upper_mold_temp3']=df['upper_mold_temp3'].fillna(method='ffill')\n",
    "df['lower_mold_temp3']=df['lower_mold_temp3'].fillna(method='bfill')\n",
    "\n",
    "#  필요없는 열 제거\n",
    "df.drop(['line','name','mold_name','emergency_stop','tryshot_signal','time','date','molten_volume','registration_time'],axis=1,inplace=True)\n",
    "\n",
    "# 결측치 날리기\n",
    "df=df.dropna(subset=['count', 'working', 'molten_temp',\n",
    "       'facility_operation_cycleTime', 'production_cycletime',\n",
    "       'low_section_speed', 'high_section_speed',\n",
    "       'cast_pressure', 'biscuit_thickness', 'upper_mold_temp1',\n",
    "       'upper_mold_temp2', 'upper_mold_temp3', 'lower_mold_temp1',\n",
    "       'lower_mold_temp2', 'lower_mold_temp3', 'sleeve_temperature',\n",
    "       'physical_strength', 'Coolant_temperature', 'EMS_operation_time',\n",
    "        'passorfail', 'mold_code'])\n",
    "\n",
    "# 이상치 처리할 열 지정\n",
    "column=['molten_temp', 'facility_operation_cycleTime',\n",
    "           'production_cycletime', 'low_section_speed', 'high_section_speed',\n",
    "           'cast_pressure', 'biscuit_thickness',\n",
    "           'upper_mold_temp1', 'upper_mold_temp2', 'upper_mold_temp3',\n",
    "           'lower_mold_temp1', 'lower_mold_temp2', 'lower_mold_temp3',\n",
    "           'sleeve_temperature', 'physical_strength', 'Coolant_temperature',\n",
    "           'EMS_operation_time']\n",
    "\n",
    "# 이상치 처리 (3시그마 벗어나는 범위는 평균으로 대체)\n",
    "for i in column:\n",
    "    std=df[i].std()*3\n",
    "    mean=df[i].mean()\n",
    "    \n",
    "    min_out=mean-std\n",
    "    max_out=mean+std\n",
    "    \n",
    "    df.loc[df[i]<min_out,i]=mean\n",
    "    df.loc[df[i]>max_out,i]=mean\n",
    "    \n",
    "# 범주형 원핫인코딩하기\n",
    "df=pd.get_dummies(df, columns=['working', 'heating_furnace','mold_code'])\n",
    "\n",
    "# 표준화하기\n",
    "minmax_scaler=MinMaxScaler()\n",
    "select_column=['count', 'molten_temp', 'facility_operation_cycleTime',\n",
    "       'production_cycletime', 'low_section_speed', 'high_section_speed',\n",
    "       'cast_pressure', 'biscuit_thickness', 'upper_mold_temp1',\n",
    "       'upper_mold_temp2', 'upper_mold_temp3', 'lower_mold_temp1',\n",
    "       'lower_mold_temp2', 'lower_mold_temp3', 'sleeve_temperature',\n",
    "       'physical_strength', 'Coolant_temperature', 'EMS_operation_time',\n",
    "       'passorfail']\n",
    "maxmax_scaled=minmax_scaler.fit_transform(df[select_column])\n",
    "\n",
    "df[select_column]=maxmax_scaled\n",
    "\n",
    "# train, val데이터 분리\n",
    "X=df.drop(['passorfail'],axis=1)\n",
    "y=df['passorfail']\n",
    "\n",
    "X_train,X_val,y_train,y_val=train_test_split(X,y,test_size=0.2,random_state=2021)\n",
    "\n",
    "# 랜덤포레스트 모델\n",
    "#RandomForestClassifier\n",
    "model=RandomForestClassifier()\n",
    "model.fit(X_train,y_train)\n",
    "pred=model.predict_proba(X_val)\n",
    "# 성능확인\n",
    "roc_auc_score(y_val, pred[:,1])\n"
   ]
  },
  {
   "cell_type": "markdown",
   "metadata": {},
   "source": [
    "## 모델 선택 및 결과 출력"
   ]
  },
  {
   "cell_type": "code",
   "execution_count": null,
   "metadata": {},
   "outputs": [
    {
     "data": {
      "text/plain": [
       "array([0., 0., 0., ..., 0., 0., 0.])"
      ]
     },
     "metadata": {},
     "output_type": "display_data"
    }
   ],
   "source": [
    "model=RandomForestClassifier()\n",
    "model.fit(X_train,y_train)\n",
    "pred = model.predict(X_val)\n",
    "pred"
   ]
  },
  {
   "cell_type": "code",
   "execution_count": null,
   "metadata": {},
   "outputs": [],
   "source": [
    "submission = pd.DataFrame({\n",
    "        \"ID\": X_val.index,\n",
    "        \"passorfail\": pred\n",
    "    })"
   ]
  },
  {
   "cell_type": "code",
   "execution_count": null,
   "metadata": {},
   "outputs": [
    {
     "data": {
      "text/html": [
       "<div>\n",
       "<style scoped>\n",
       "    .dataframe tbody tr th:only-of-type {\n",
       "        vertical-align: middle;\n",
       "    }\n",
       "\n",
       "    .dataframe tbody tr th {\n",
       "        vertical-align: top;\n",
       "    }\n",
       "\n",
       "    .dataframe thead th {\n",
       "        text-align: right;\n",
       "    }\n",
       "</style>\n",
       "<table border=\"1\" class=\"dataframe\">\n",
       "  <thead>\n",
       "    <tr style=\"text-align: right;\">\n",
       "      <th></th>\n",
       "      <th>ID</th>\n",
       "      <th>passorfail</th>\n",
       "    </tr>\n",
       "  </thead>\n",
       "  <tbody>\n",
       "    <tr>\n",
       "      <th>0</th>\n",
       "      <td>38699</td>\n",
       "      <td>0.0</td>\n",
       "    </tr>\n",
       "    <tr>\n",
       "      <th>1</th>\n",
       "      <td>6144</td>\n",
       "      <td>0.0</td>\n",
       "    </tr>\n",
       "    <tr>\n",
       "      <th>2</th>\n",
       "      <td>10800</td>\n",
       "      <td>0.0</td>\n",
       "    </tr>\n",
       "    <tr>\n",
       "      <th>3</th>\n",
       "      <td>42049</td>\n",
       "      <td>0.0</td>\n",
       "    </tr>\n",
       "    <tr>\n",
       "      <th>4</th>\n",
       "      <td>60061</td>\n",
       "      <td>0.0</td>\n",
       "    </tr>\n",
       "  </tbody>\n",
       "</table>\n",
       "</div>"
      ],
      "text/plain": [
       "      ID  passorfail\n",
       "0  38699         0.0\n",
       "1   6144         0.0\n",
       "2  10800         0.0\n",
       "3  42049         0.0\n",
       "4  60061         0.0"
      ]
     },
     "metadata": {},
     "output_type": "display_data"
    }
   ],
   "source": [
    "submission.head()"
   ]
  },
  {
   "cell_type": "code",
   "execution_count": null,
   "metadata": {},
   "outputs": [],
   "source": []
  },
  {
   "cell_type": "code",
   "execution_count": null,
   "metadata": {},
   "outputs": [],
   "source": []
  },
  {
   "cell_type": "code",
   "execution_count": null,
   "metadata": {},
   "outputs": [],
   "source": []
  },
  {
   "cell_type": "code",
   "execution_count": null,
   "metadata": {},
   "outputs": [],
   "source": []
  },
  {
   "cell_type": "markdown",
   "metadata": {},
   "source": [
    "## 3. 모델링"
   ]
  },
  {
   "cell_type": "markdown",
   "metadata": {},
   "source": [
    "### 3-1. 타겟값 빈도 확인하기('passorfail')"
   ]
  },
  {
   "cell_type": "code",
   "execution_count": 148,
   "metadata": {},
   "outputs": [
    {
     "data": {
      "text/plain": [
       "0.0    87998\n",
       "1.0     4016\n",
       "Name: passorfail, dtype: int64"
      ]
     },
     "execution_count": 148,
     "metadata": {},
     "output_type": "execute_result"
    }
   ],
   "source": [
    "df['passorfail'].value_counts()"
   ]
  },
  {
   "cell_type": "code",
   "execution_count": 108,
   "metadata": {},
   "outputs": [
    {
     "name": "stderr",
     "output_type": "stream",
     "text": [
      "c:\\Users\\USER\\anaconda3\\Lib\\site-packages\\sklearn\\linear_model\\_logistic.py:458: ConvergenceWarning: lbfgs failed to converge (status=1):\n",
      "STOP: TOTAL NO. of ITERATIONS REACHED LIMIT.\n",
      "\n",
      "Increase the number of iterations (max_iter) or scale the data as shown in:\n",
      "    https://scikit-learn.org/stable/modules/preprocessing.html\n",
      "Please also refer to the documentation for alternative solver options:\n",
      "    https://scikit-learn.org/stable/modules/linear_model.html#logistic-regression\n",
      "  n_iter_i = _check_optimize_result(\n"
     ]
    },
    {
     "data": {
      "text/plain": [
       "0.954667048108555"
      ]
     },
     "execution_count": 108,
     "metadata": {},
     "output_type": "execute_result"
    }
   ],
   "source": [
    "#LogisticRegression\n",
    "model=LogisticRegression()\n",
    "model.fit(X_train,y_train)\n",
    "pred=model.predict_proba(X_val)\n",
    "roc_auc_score(y_val, pred[:,1])\n"
   ]
  },
  {
   "cell_type": "code",
   "execution_count": 109,
   "metadata": {},
   "outputs": [
    {
     "data": {
      "text/plain": [
       "0.9516842221936967"
      ]
     },
     "execution_count": 109,
     "metadata": {},
     "output_type": "execute_result"
    }
   ],
   "source": [
    "#KNeighborsClassifier\n",
    "model = KNeighborsClassifier()\n",
    "model.fit(X_train,y_train)\n",
    "pred=model.predict_proba(X_val)\n",
    "roc_auc_score(y_val, pred[:,1])"
   ]
  },
  {
   "cell_type": "code",
   "execution_count": 110,
   "metadata": {},
   "outputs": [
    {
     "data": {
      "text/plain": [
       "0.9273970563259114"
      ]
     },
     "execution_count": 110,
     "metadata": {},
     "output_type": "execute_result"
    }
   ],
   "source": [
    "#DecisionTreeClassifier\n",
    "model=DecisionTreeClassifier()\n",
    "model.fit(X_train,y_train)\n",
    "pred=model.predict_proba(X_val)\n",
    "roc_auc_score(y_val, pred[:,1])\n"
   ]
  },
  {
   "cell_type": "code",
   "execution_count": 111,
   "metadata": {},
   "outputs": [
    {
     "data": {
      "text/plain": [
       "0.9981210482174966"
      ]
     },
     "execution_count": 111,
     "metadata": {},
     "output_type": "execute_result"
    }
   ],
   "source": [
    "#RandomForestClassifier\n",
    "model=RandomForestClassifier()\n",
    "model.fit(X_train,y_train)\n",
    "pred=model.predict_proba(X_val)\n",
    "roc_auc_score(y_val, pred[:,1])"
   ]
  },
  {
   "cell_type": "code",
   "execution_count": 112,
   "metadata": {},
   "outputs": [
    {
     "data": {
      "text/plain": [
       "0.996994465733828"
      ]
     },
     "execution_count": 112,
     "metadata": {},
     "output_type": "execute_result"
    }
   ],
   "source": [
    "#XGBClassifier\n",
    "model = XGBClassifier(eval_metric='mlogloss', use_label_encoder=False)\n",
    "model.fit(X_train,y_train)\n",
    "pred=model.predict_proba(X_val)\n",
    "roc_auc_score(y_val, pred[:,1])"
   ]
  },
  {
   "cell_type": "markdown",
   "metadata": {},
   "source": [
    "## 모델 선택 및 결과 출력"
   ]
  },
  {
   "cell_type": "code",
   "execution_count": 121,
   "metadata": {},
   "outputs": [
    {
     "data": {
      "text/plain": [
       "array([0., 0., 0., ..., 0., 0., 0.])"
      ]
     },
     "execution_count": 121,
     "metadata": {},
     "output_type": "execute_result"
    }
   ],
   "source": [
    "model=RandomForestClassifier()\n",
    "model.fit(X_train,y_train)\n",
    "pred = model.predict(X_val)\n",
    "pred"
   ]
  },
  {
   "cell_type": "code",
   "execution_count": 122,
   "metadata": {},
   "outputs": [],
   "source": [
    "submission = pd.DataFrame({\n",
    "        \"ID\": X_val.index,\n",
    "        \"passorfail\": pred\n",
    "    })"
   ]
  },
  {
   "cell_type": "code",
   "execution_count": 124,
   "metadata": {},
   "outputs": [
    {
     "data": {
      "text/html": [
       "<div>\n",
       "<style scoped>\n",
       "    .dataframe tbody tr th:only-of-type {\n",
       "        vertical-align: middle;\n",
       "    }\n",
       "\n",
       "    .dataframe tbody tr th {\n",
       "        vertical-align: top;\n",
       "    }\n",
       "\n",
       "    .dataframe thead th {\n",
       "        text-align: right;\n",
       "    }\n",
       "</style>\n",
       "<table border=\"1\" class=\"dataframe\">\n",
       "  <thead>\n",
       "    <tr style=\"text-align: right;\">\n",
       "      <th></th>\n",
       "      <th>ID</th>\n",
       "      <th>passorfail</th>\n",
       "    </tr>\n",
       "  </thead>\n",
       "  <tbody>\n",
       "    <tr>\n",
       "      <th>0</th>\n",
       "      <td>38699</td>\n",
       "      <td>0.0</td>\n",
       "    </tr>\n",
       "    <tr>\n",
       "      <th>1</th>\n",
       "      <td>6144</td>\n",
       "      <td>0.0</td>\n",
       "    </tr>\n",
       "    <tr>\n",
       "      <th>2</th>\n",
       "      <td>10800</td>\n",
       "      <td>0.0</td>\n",
       "    </tr>\n",
       "    <tr>\n",
       "      <th>3</th>\n",
       "      <td>42049</td>\n",
       "      <td>0.0</td>\n",
       "    </tr>\n",
       "    <tr>\n",
       "      <th>4</th>\n",
       "      <td>60061</td>\n",
       "      <td>0.0</td>\n",
       "    </tr>\n",
       "  </tbody>\n",
       "</table>\n",
       "</div>"
      ],
      "text/plain": [
       "      ID  passorfail\n",
       "0  38699         0.0\n",
       "1   6144         0.0\n",
       "2  10800         0.0\n",
       "3  42049         0.0\n",
       "4  60061         0.0"
      ]
     },
     "execution_count": 124,
     "metadata": {},
     "output_type": "execute_result"
    }
   ],
   "source": [
    "submission.head()"
   ]
  }
 ],
 "metadata": {
  "kernelspec": {
   "display_name": "base",
   "language": "python",
   "name": "python3"
  },
  "language_info": {
   "codemirror_mode": {
    "name": "ipython",
    "version": 3
   },
   "file_extension": ".py",
   "mimetype": "text/x-python",
   "name": "python",
   "nbconvert_exporter": "python",
   "pygments_lexer": "ipython3",
   "version": "3.11.3"
  }
 },
 "nbformat": 4,
 "nbformat_minor": 2
}
